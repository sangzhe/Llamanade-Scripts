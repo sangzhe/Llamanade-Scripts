{
 "cells": [
  {
   "cell_type": "code",
   "execution_count": 1,
   "metadata": {},
   "outputs": [],
   "source": [
    "from prody import *\n",
    "import numpy as np\n",
    "import prody\n",
    "import pandas as pd\n",
    "import seaborn as sns\n",
    "import matplotlib.pyplot as plt\n",
    "import os\n",
    "from math import acos,asin, degrees\n",
    "from prody.measure.measure import getAngle"
   ]
  },
  {
   "cell_type": "code",
   "execution_count": 2,
   "metadata": {},
   "outputs": [],
   "source": [
    "sns.set_context(\"talk\")\n",
    "plt.rcParams['axes.prop_cycle'] = plt.cycler(color=plt.cm.Set2.colors)\n",
    "plt.rcParams.update({'font.size': 22})\n",
    "plt.rcParams['svg.fonttype'] = 'none'"
   ]
  },
  {
   "cell_type": "code",
   "execution_count": 3,
   "metadata": {},
   "outputs": [],
   "source": [
    "pdb_info = pd.read_csv(\"NR_H_Protein_Martin_info.csv\")\n",
    "Dirname = \"../AnnotatedStructures/NR_H_Protein_Martin\""
   ]
  },
  {
   "cell_type": "code",
   "execution_count": 4,
   "metadata": {},
   "outputs": [
    {
     "name": "stderr",
     "output_type": "stream",
     "text": [
      "@> 1823 atoms and 1 coordinate set(s) were parsed in 0.02s.\n"
     ]
    }
   ],
   "source": [
    "t = parsePDB(os.path.join(Dirname,\"4KML_1.pdb\"))"
   ]
  },
  {
   "cell_type": "code",
   "execution_count": 106,
   "metadata": {},
   "outputs": [
    {
     "data": {
      "text/plain": [
       "array(['TYR'], dtype='<U6')"
      ]
     },
     "execution_count": 106,
     "metadata": {},
     "output_type": "execute_result"
    }
   ],
   "source": [
    "t.select(\"chain H resnum 100G ca\").getResnames()"
   ]
  },
  {
   "cell_type": "code",
   "execution_count": 18,
   "metadata": {},
   "outputs": [
    {
     "data": {
      "text/plain": [
       "array([  1,   1,   1, ..., 225, 225, 225])"
      ]
     },
     "execution_count": 18,
     "metadata": {},
     "output_type": "execute_result"
    }
   ],
   "source": [
    "t.getResnums()"
   ]
  },
  {
   "cell_type": "code",
   "execution_count": 22,
   "metadata": {},
   "outputs": [
    {
     "data": {
      "text/plain": [
       "array([100])"
      ]
     },
     "execution_count": 22,
     "metadata": {},
     "output_type": "execute_result"
    }
   ],
   "source": [
    "t.select(\"chain H resnum 100G ca\").ca.getResnums()"
   ]
  },
  {
   "cell_type": "code",
   "execution_count": null,
   "metadata": {},
   "outputs": [],
   "source": [
    "t.getIcodes()"
   ]
  },
  {
   "cell_type": "code",
   "execution_count": null,
   "metadata": {},
   "outputs": [],
   "source": [
    "t.select(\"chain H resnum 100G ca\").ca.getResnums()"
   ]
  },
  {
   "cell_type": "code",
   "execution_count": 23,
   "metadata": {},
   "outputs": [
    {
     "data": {
      "text/plain": [
       "array(['G'], dtype='<U1')"
      ]
     },
     "execution_count": 23,
     "metadata": {},
     "output_type": "execute_result"
    }
   ],
   "source": [
    "t.select(\"chain H resnum 100G ca\").ca.getIcodes()"
   ]
  },
  {
   "cell_type": "code",
   "execution_count": 4,
   "metadata": {},
   "outputs": [],
   "source": [
    "def getResdiueAhead101(structure):\n",
    "    selection100 = structure['H'].select(\"resnum 100\")\n",
    "    if selection100==None:\n",
    "        return None\n",
    "    else:\n",
    "        icodes = selection100.getIcodes()\n",
    "        return f\"100{icodes[-1]}\""
   ]
  },
  {
   "cell_type": "code",
   "execution_count": 5,
   "metadata": {},
   "outputs": [],
   "source": [
    "'''\n",
    "calculate the normal vector of a plane given 3 points\n",
    "'''\n",
    "def calcPlaneVec(coord1,coord2,coord3):\n",
    "    v1 = coord3-coord1\n",
    "    v2 = coord2-coord1\n",
    "    normal_vec = np.cross(v1,v2)\n",
    "    return normal_vec\n",
    "'''\n",
    "calculate the vector of a line given 2 points\n",
    "'''\n",
    "def calcLineVec(coord1,coord2):\n",
    "    return coord2-coord1\n",
    "\n",
    "'''\n",
    "calculate the sin between line and plane\n",
    "'''\n",
    "def calcPlaneLineAngle(plane_vec,line_vec):\n",
    "    sin_phi = abs(plane_vec@line_vec/(np.sqrt(np.sum(plane_vec**2))*np.sqrt(np.sum(line_vec**2))))\n",
    "    angle = degrees(asin(sin_phi))\n",
    "    return angle,sin_phi\n",
    "'''\n",
    "Input:\n",
    "    selection of a charged atom\n",
    "    selection of atoms forming a atomatic ring\n",
    "Return:\n",
    "    Distance between charged atom and the centroid of the ring\n",
    "    The sin of dihedral angle \n",
    "    Projected distance between charged atom and the centroid of the ring\n",
    "'''\n",
    "def calcPoint2Ring(point_selection,ring_selection):\n",
    "    point_coord = point_selection.getCoords()[0]\n",
    "    ring_coords = ring_selection.getCoords()\n",
    "    \n",
    "    centroid_ring_coord = ring_coords.mean(0)\n",
    "    dist2centroid = calcDistance(point_coord,centroid_ring_coord)\n",
    "    \n",
    "    line_vec = calcLineVec(point_coord,centroid_ring_coord)\n",
    "    plane_vec = calcPlaneVec(*ring_coords[:3,:])\n",
    "    angle,sin_phi = calcPlaneLineAngle(plane_vec,line_vec)\n",
    "    dist2centroid_projection = sin_phi *dist2centroid\n",
    "    \n",
    "    return (dist2centroid,angle,dist2centroid_projection)\n",
    "\n",
    "def calcRing2Ring(ring_selection_1,ring_selection_2):\n",
    "    ring_coords_1 = ring_selection_1.getCoords()\n",
    "    ring_coords_2 = ring_selection_2.getCoords()\n",
    "    centroid_ring_coord_1 = ring_coords_1.mean(0)\n",
    "    centroid_ring_coord_2 = ring_coords_2.mean(0)\n",
    "    dist2centroid = calcDistance(centroid_ring_coord_1,centroid_ring_coord_2)\n",
    "    \n",
    "    #line_vec_ = calcLineVec(point_coord,centroid_ring_coord)\n",
    "\n",
    "    plane_vec_1 = calcPlaneVec(*ring_coords_1[:3,:])\n",
    "    plane_vec_2 = calcPlaneVec(*ring_coords_2[:3,:])\n",
    "    angle,sin_phi = calcPlaneLineAngle(plane_vec_1,plane_vec_2)\n",
    "    dist2centroid_projection = sin_phi *dist2centroid\n",
    "    \n",
    "    return (dist2centroid,angle,dist2centroid_projection)\n",
    "    \n",
    "    \n",
    "    \n",
    "    "
   ]
  },
  {
   "cell_type": "code",
   "execution_count": 6,
   "metadata": {},
   "outputs": [],
   "source": [
    "ATOM_NAMES=dict()\n",
    "ATOM_NAMES['TRP'] = \"CD2 CE2 CE3 CZ2 CZ3 CH2\"\n",
    "ATOM_NAMES['TYR'] = \"CG CD1 CD2 CE1 CE2 CZ\"\n",
    "ATOM_NAMES['PHE'] = \"CG CD1 CD2 CE1 CE2 CZ\"\n",
    "ATOM_NAMES['LYS'] = \"NZ\"\n",
    "ATOM_NAMES['ARG'] =\"NH1\""
   ]
  },
  {
   "cell_type": "markdown",
   "metadata": {},
   "source": [
    "## R45 and W103"
   ]
  },
  {
   "cell_type": "code",
   "execution_count": 10,
   "metadata": {
    "collapsed": true
   },
   "outputs": [
    {
     "name": "stderr",
     "output_type": "stream",
     "text": [
      "@> 1938 atoms and 1 coordinate set(s) were parsed in 0.02s.\n",
      "@> 1879 atoms and 1 coordinate set(s) were parsed in 0.03s.\n",
      "@> 1828 atoms and 1 coordinate set(s) were parsed in 0.03s.\n",
      "@> 2040 atoms and 1 coordinate set(s) were parsed in 0.02s.\n",
      "@> 6128 atoms and 1 coordinate set(s) were parsed in 0.06s.\n",
      "@> 3052 atoms and 1 coordinate set(s) were parsed in 0.03s.\n",
      "@> 3585 atoms and 1 coordinate set(s) were parsed in 0.04s.\n",
      "@> 1659 atoms and 1 coordinate set(s) were parsed in 0.02s.\n",
      "@> 1810 atoms and 1 coordinate set(s) were parsed in 0.02s.\n",
      "@> 1142 atoms and 1 coordinate set(s) were parsed in 0.01s.\n",
      "@> 1830 atoms and 1 coordinate set(s) were parsed in 0.02s.\n",
      "@> 5796 atoms and 1 coordinate set(s) were parsed in 0.06s.\n",
      "@> 2178 atoms and 1 coordinate set(s) were parsed in 0.02s.\n",
      "@> 5810 atoms and 1 coordinate set(s) were parsed in 0.06s.\n",
      "@> 1901 atoms and 1 coordinate set(s) were parsed in 0.02s.\n",
      "@> 1715 atoms and 1 coordinate set(s) were parsed in 0.03s.\n",
      "@> 2968 atoms and 1 coordinate set(s) were parsed in 0.03s.\n",
      "@> 3551 atoms and 1 coordinate set(s) were parsed in 0.03s.\n",
      "@> 2091 atoms and 1 coordinate set(s) were parsed in 0.02s.\n",
      "@> 3804 atoms and 1 coordinate set(s) were parsed in 0.04s.\n",
      "@> 2758 atoms and 1 coordinate set(s) were parsed in 0.03s.\n",
      "@> 3990 atoms and 1 coordinate set(s) were parsed in 0.04s.\n",
      "@> 1886 atoms and 1 coordinate set(s) were parsed in 0.02s.\n",
      "@> 1842 atoms and 1 coordinate set(s) were parsed in 0.02s.\n",
      "@> 3073 atoms and 1 coordinate set(s) were parsed in 0.04s.\n",
      "@> 3218 atoms and 1 coordinate set(s) were parsed in 0.03s.\n",
      "@> 8118 atoms and 1 coordinate set(s) were parsed in 0.08s.\n",
      "@> 3732 atoms and 1 coordinate set(s) were parsed in 0.04s.\n",
      "@> 5109 atoms and 1 coordinate set(s) were parsed in 0.05s.\n",
      "@> 1741 atoms and 1 coordinate set(s) were parsed in 0.02s.\n",
      "@> 4929 atoms and 1 coordinate set(s) were parsed in 0.05s.\n",
      "@> 1767 atoms and 1 coordinate set(s) were parsed in 0.02s.\n",
      "@> 4165 atoms and 1 coordinate set(s) were parsed in 0.05s.\n",
      "@> 3058 atoms and 1 coordinate set(s) were parsed in 0.03s.\n",
      "@> 4459 atoms and 1 coordinate set(s) were parsed in 0.04s.\n",
      "@> 1818 atoms and 1 coordinate set(s) were parsed in 0.02s.\n",
      "@> 4020 atoms and 1 coordinate set(s) were parsed in 0.04s.\n",
      "@> 1813 atoms and 1 coordinate set(s) were parsed in 0.02s.\n",
      "@> 3700 atoms and 1 coordinate set(s) were parsed in 0.03s.\n",
      "@> 2958 atoms and 1 coordinate set(s) were parsed in 0.03s.\n",
      "@> 1994 atoms and 1 coordinate set(s) were parsed in 0.02s.\n",
      "@> 6249 atoms and 1 coordinate set(s) were parsed in 0.06s.\n",
      "@> 2369 atoms and 1 coordinate set(s) were parsed in 0.02s.\n",
      "@> 3800 atoms and 1 coordinate set(s) were parsed in 0.03s.\n",
      "@> 2949 atoms and 1 coordinate set(s) were parsed in 0.03s.\n",
      "@> 5890 atoms and 1 coordinate set(s) were parsed in 0.05s.\n",
      "@> 2893 atoms and 1 coordinate set(s) were parsed in 0.03s.\n",
      "@> 3707 atoms and 1 coordinate set(s) were parsed in 0.04s.\n",
      "@> 1865 atoms and 1 coordinate set(s) were parsed in 0.02s.\n",
      "@> 1729 atoms and 1 coordinate set(s) were parsed in 0.01s.\n",
      "@> 2342 atoms and 1 coordinate set(s) were parsed in 0.02s.\n",
      "@> 1625 atoms and 1 coordinate set(s) were parsed in 0.02s.\n",
      "@> 3007 atoms and 1 coordinate set(s) were parsed in 0.03s.\n",
      "@> 2955 atoms and 1 coordinate set(s) were parsed in 0.03s.\n",
      "@> 5726 atoms and 1 coordinate set(s) were parsed in 0.05s.\n",
      "@> 2712 atoms and 1 coordinate set(s) were parsed in 0.03s.\n",
      "@> 1826 atoms and 1 coordinate set(s) were parsed in 0.02s.\n",
      "@> 1440 atoms and 1 coordinate set(s) were parsed in 0.02s.\n",
      "@> 2068 atoms and 1 coordinate set(s) were parsed in 0.02s.\n",
      "@> 1824 atoms and 1 coordinate set(s) were parsed in 0.02s.\n",
      "@> 4551 atoms and 1 coordinate set(s) were parsed in 0.05s.\n",
      "@> 1715 atoms and 1 coordinate set(s) were parsed in 0.02s.\n",
      "@> 1852 atoms and 1 coordinate set(s) were parsed in 0.02s.\n",
      "@> 5690 atoms and 1 coordinate set(s) were parsed in 0.06s.\n",
      "@> 1944 atoms and 1 coordinate set(s) were parsed in 0.02s.\n",
      "@> 2448 atoms and 1 coordinate set(s) were parsed in 0.03s.\n",
      "@> 5439 atoms and 1 coordinate set(s) were parsed in 0.06s.\n",
      "@> 5865 atoms and 1 coordinate set(s) were parsed in 0.06s.\n",
      "@> 3223 atoms and 1 coordinate set(s) were parsed in 0.03s.\n",
      "@> 3312 atoms and 1 coordinate set(s) were parsed in 0.03s.\n",
      "@> 4827 atoms and 1 coordinate set(s) were parsed in 0.05s.\n",
      "@> 3046 atoms and 1 coordinate set(s) were parsed in 0.03s.\n",
      "@> 2133 atoms and 1 coordinate set(s) were parsed in 0.02s.\n",
      "@> 2139 atoms and 1 coordinate set(s) were parsed in 0.02s.\n",
      "@> 4006 atoms and 1 coordinate set(s) were parsed in 0.04s.\n",
      "@> 2272 atoms and 1 coordinate set(s) were parsed in 0.02s.\n",
      "@> 4542 atoms and 1 coordinate set(s) were parsed in 0.05s.\n",
      "@> 3230 atoms and 1 coordinate set(s) were parsed in 0.03s.\n",
      "@> 3307 atoms and 1 coordinate set(s) were parsed in 0.03s.\n",
      "@> 2967 atoms and 1 coordinate set(s) were parsed in 0.03s.\n",
      "@> 2308 atoms and 1 coordinate set(s) were parsed in 0.02s.\n",
      "@> 2335 atoms and 1 coordinate set(s) were parsed in 0.02s.\n",
      "@> 3738 atoms and 1 coordinate set(s) were parsed in 0.04s.\n",
      "@> 4449 atoms and 1 coordinate set(s) were parsed in 0.05s.\n",
      "@> 3749 atoms and 1 coordinate set(s) were parsed in 0.04s.\n",
      "@> 1416 atoms and 1 coordinate set(s) were parsed in 0.01s.\n",
      "@> 2361 atoms and 1 coordinate set(s) were parsed in 0.02s.\n",
      "@> 3461 atoms and 1 coordinate set(s) were parsed in 0.03s.\n",
      "@> 3278 atoms and 1 coordinate set(s) were parsed in 0.03s.\n",
      "@> 3202 atoms and 1 coordinate set(s) were parsed in 0.03s.\n",
      "@> 3331 atoms and 1 coordinate set(s) were parsed in 0.03s.\n",
      "@> 2428 atoms and 1 coordinate set(s) were parsed in 0.02s.\n",
      "@> 2877 atoms and 1 coordinate set(s) were parsed in 0.03s.\n",
      "@> 2299 atoms and 1 coordinate set(s) were parsed in 0.02s.\n",
      "@> 2109 atoms and 1 coordinate set(s) were parsed in 0.02s.\n",
      "@> 2749 atoms and 1 coordinate set(s) were parsed in 0.03s.\n",
      "@> 2724 atoms and 1 coordinate set(s) were parsed in 0.03s.\n",
      "@> 4183 atoms and 1 coordinate set(s) were parsed in 0.04s.\n",
      "@> 2149 atoms and 1 coordinate set(s) were parsed in 0.02s.\n",
      "@> 3756 atoms and 1 coordinate set(s) were parsed in 0.04s.\n",
      "@> 2751 atoms and 1 coordinate set(s) were parsed in 0.03s.\n",
      "@> 1427 atoms and 1 coordinate set(s) were parsed in 0.02s.\n",
      "@> 2372 atoms and 1 coordinate set(s) were parsed in 0.02s.\n",
      "@> 1890 atoms and 1 coordinate set(s) were parsed in 0.02s.\n",
      "@> 5822 atoms and 1 coordinate set(s) were parsed in 0.06s.\n",
      "@> 2295 atoms and 1 coordinate set(s) were parsed in 0.02s.\n",
      "@> 11304 atoms and 1 coordinate set(s) were parsed in 0.12s.\n",
      "@> 3234 atoms and 1 coordinate set(s) were parsed in 0.03s.\n",
      "@> 3225 atoms and 1 coordinate set(s) were parsed in 0.04s.\n",
      "@> 4066 atoms and 1 coordinate set(s) were parsed in 0.05s.\n",
      "@> 4453 atoms and 1 coordinate set(s) were parsed in 0.06s.\n",
      "@> 3804 atoms and 1 coordinate set(s) were parsed in 0.04s.\n",
      "@> 2225 atoms and 1 coordinate set(s) were parsed in 0.02s.\n",
      "@> 2229 atoms and 1 coordinate set(s) were parsed in 0.02s.\n",
      "@> 1431 atoms and 1 coordinate set(s) were parsed in 0.02s.\n",
      "@> 5024 atoms and 1 coordinate set(s) were parsed in 0.06s.\n",
      "@> 2296 atoms and 1 coordinate set(s) were parsed in 0.02s.\n",
      "@> 3029 atoms and 1 coordinate set(s) were parsed in 0.03s.\n",
      "@> 2943 atoms and 1 coordinate set(s) were parsed in 0.03s.\n",
      "@> 1029 atoms and 1 coordinate set(s) were parsed in 0.01s.\n",
      "@> 2236 atoms and 1 coordinate set(s) were parsed in 0.02s.\n",
      "@> 3012 atoms and 1 coordinate set(s) were parsed in 0.03s.\n"
     ]
    },
    {
     "ename": "AttributeError",
     "evalue": "'NoneType' object has no attribute 'getResnames'",
     "output_type": "error",
     "traceback": [
      "\u001b[0;31m---------------------------------------------------------------------------\u001b[0m",
      "\u001b[0;31mAttributeError\u001b[0m                            Traceback (most recent call last)",
      "\u001b[0;32m<ipython-input-10-8fe26ae3a848>\u001b[0m in \u001b[0;36m<module>\u001b[0;34m\u001b[0m\n\u001b[1;32m      8\u001b[0m     \u001b[0mpdb_name\u001b[0m \u001b[0;34m=\u001b[0m \u001b[0mrow\u001b[0m\u001b[0;34m[\u001b[0m\u001b[0;34m'pdb'\u001b[0m\u001b[0;34m]\u001b[0m\u001b[0;34m\u001b[0m\u001b[0;34m\u001b[0m\u001b[0m\n\u001b[1;32m      9\u001b[0m     \u001b[0mstructure\u001b[0m \u001b[0;34m=\u001b[0m \u001b[0mparsePDB\u001b[0m\u001b[0;34m(\u001b[0m\u001b[0mos\u001b[0m\u001b[0;34m.\u001b[0m\u001b[0mpath\u001b[0m\u001b[0;34m.\u001b[0m\u001b[0mjoin\u001b[0m\u001b[0;34m(\u001b[0m\u001b[0mDirname\u001b[0m\u001b[0;34m,\u001b[0m\u001b[0mpdb_name\u001b[0m\u001b[0;34m)\u001b[0m\u001b[0;34m)\u001b[0m\u001b[0;34m\u001b[0m\u001b[0;34m\u001b[0m\u001b[0m\n\u001b[0;32m---> 10\u001b[0;31m     \u001b[0mAA45\u001b[0m \u001b[0;34m=\u001b[0m \u001b[0mstructure\u001b[0m\u001b[0;34m.\u001b[0m\u001b[0mselect\u001b[0m\u001b[0;34m(\u001b[0m\u001b[0;34m\"chain H resnum 45 ca\"\u001b[0m\u001b[0;34m)\u001b[0m\u001b[0;34m.\u001b[0m\u001b[0mgetResnames\u001b[0m\u001b[0;34m(\u001b[0m\u001b[0;34m)\u001b[0m\u001b[0;34m[\u001b[0m\u001b[0;36m0\u001b[0m\u001b[0;34m]\u001b[0m\u001b[0;34m\u001b[0m\u001b[0;34m\u001b[0m\u001b[0m\n\u001b[0m\u001b[1;32m     11\u001b[0m     \u001b[0mAA103\u001b[0m \u001b[0;34m=\u001b[0m \u001b[0mstructure\u001b[0m\u001b[0;34m.\u001b[0m\u001b[0mselect\u001b[0m\u001b[0;34m(\u001b[0m\u001b[0;34m\"chain H resnum 103 ca\"\u001b[0m\u001b[0;34m)\u001b[0m\u001b[0;34m.\u001b[0m\u001b[0mgetResnames\u001b[0m\u001b[0;34m(\u001b[0m\u001b[0;34m)\u001b[0m\u001b[0;34m[\u001b[0m\u001b[0;36m0\u001b[0m\u001b[0;34m]\u001b[0m\u001b[0;34m\u001b[0m\u001b[0;34m\u001b[0m\u001b[0m\n\u001b[1;32m     12\u001b[0m     \u001b[0;32mif\u001b[0m \u001b[0;32mnot\u001b[0m \u001b[0;34m(\u001b[0m\u001b[0mAA45\u001b[0m \u001b[0;32min\u001b[0m \u001b[0;34m(\u001b[0m\u001b[0;34m\"ARG\"\u001b[0m\u001b[0;34m,\u001b[0m\u001b[0;34m\"LYS\"\u001b[0m\u001b[0;34m)\u001b[0m \u001b[0;32mand\u001b[0m  \u001b[0mAA103\u001b[0m \u001b[0;32min\u001b[0m \u001b[0;34m(\u001b[0m\u001b[0;34m\"TRP\"\u001b[0m\u001b[0;34m,\u001b[0m\u001b[0;34m\"TYR\"\u001b[0m\u001b[0;34m,\u001b[0m\u001b[0;34m\"PHE\"\u001b[0m\u001b[0;34m)\u001b[0m\u001b[0;34m)\u001b[0m\u001b[0;34m:\u001b[0m\u001b[0;34m\u001b[0m\u001b[0;34m\u001b[0m\u001b[0m\n",
      "\u001b[0;31mAttributeError\u001b[0m: 'NoneType' object has no attribute 'getResnames'"
     ]
    }
   ],
   "source": [
    "data=[]\n",
    "num_low_res=0\n",
    "for idx,row in pdb_info.iterrows():\n",
    "    reso = row['resolution']\n",
    "    if reso>3:\n",
    "        num_low_res+=1\n",
    "        continue\n",
    "    pdb_name = row['pdb']\n",
    "    structure = parsePDB(os.path.join(Dirname,pdb_name))\n",
    "    AA45 = structure.select(\"chain H resnum 45 ca\").getResnames()[0]\n",
    "    AA103 = structure.select(\"chain H resnum 103 ca\").getResnames()[0]\n",
    "    if not (AA45 in (\"ARG\",\"LYS\") and  AA103 in (\"TRP\",\"TYR\",\"PHE\")):\n",
    "        continue\n",
    "    AA45_charge = structure.select(f\"resnum 45 name {ATOM_NAMES[AA45]} chain H\")\n",
    "    AA103_ring = structure.select(f\"resnum 103 name {ATOM_NAMES[AA103]} chain H\")\n",
    "    \n",
    "    distance, angle,projection_dist = calcPoint2Ring(AA45_charge,AA103_ring)\n",
    "    data.append((pdb_name,reso,AA45,AA103,distance,angle,projection_dist))"
   ]
  },
  {
   "cell_type": "code",
   "execution_count": 11,
   "metadata": {},
   "outputs": [],
   "source": [
    "AA45_AA103 = pd.DataFrame(data,columns=['pdb','resolution','AA45','AA103','Distance','Angle','ProjectedDistance'])"
   ]
  },
  {
   "cell_type": "code",
   "execution_count": 12,
   "metadata": {},
   "outputs": [
    {
     "data": {
      "text/html": [
       "<div>\n",
       "<style scoped>\n",
       "    .dataframe tbody tr th:only-of-type {\n",
       "        vertical-align: middle;\n",
       "    }\n",
       "\n",
       "    .dataframe tbody tr th {\n",
       "        vertical-align: top;\n",
       "    }\n",
       "\n",
       "    .dataframe thead th {\n",
       "        text-align: right;\n",
       "    }\n",
       "</style>\n",
       "<table border=\"1\" class=\"dataframe\">\n",
       "  <thead>\n",
       "    <tr style=\"text-align: right;\">\n",
       "      <th></th>\n",
       "      <th>pdb</th>\n",
       "      <th>resolution</th>\n",
       "      <th>AA45</th>\n",
       "      <th>AA103</th>\n",
       "      <th>Distance</th>\n",
       "      <th>Angle</th>\n",
       "      <th>ProjectedDistance</th>\n",
       "    </tr>\n",
       "  </thead>\n",
       "  <tbody>\n",
       "    <tr>\n",
       "      <th>0</th>\n",
       "      <td>1ZMY_1.pdb</td>\n",
       "      <td>3.00</td>\n",
       "      <td>ARG</td>\n",
       "      <td>TRP</td>\n",
       "      <td>3.485887</td>\n",
       "      <td>66.307358</td>\n",
       "      <td>3.192076</td>\n",
       "    </tr>\n",
       "    <tr>\n",
       "      <th>1</th>\n",
       "      <td>5JDS_1.pdb</td>\n",
       "      <td>1.70</td>\n",
       "      <td>ARG</td>\n",
       "      <td>TRP</td>\n",
       "      <td>3.766059</td>\n",
       "      <td>58.260972</td>\n",
       "      <td>3.202856</td>\n",
       "    </tr>\n",
       "    <tr>\n",
       "      <th>2</th>\n",
       "      <td>3QSK_1.pdb</td>\n",
       "      <td>1.75</td>\n",
       "      <td>ARG</td>\n",
       "      <td>TRP</td>\n",
       "      <td>3.339473</td>\n",
       "      <td>83.033411</td>\n",
       "      <td>3.314817</td>\n",
       "    </tr>\n",
       "    <tr>\n",
       "      <th>3</th>\n",
       "      <td>4NBZ_1.pdb</td>\n",
       "      <td>1.75</td>\n",
       "      <td>ARG</td>\n",
       "      <td>TRP</td>\n",
       "      <td>5.729496</td>\n",
       "      <td>74.383029</td>\n",
       "      <td>5.517980</td>\n",
       "    </tr>\n",
       "    <tr>\n",
       "      <th>4</th>\n",
       "      <td>4LGS_1.pdb</td>\n",
       "      <td>2.70</td>\n",
       "      <td>ARG</td>\n",
       "      <td>TRP</td>\n",
       "      <td>5.238037</td>\n",
       "      <td>68.409758</td>\n",
       "      <td>4.870532</td>\n",
       "    </tr>\n",
       "    <tr>\n",
       "      <th>...</th>\n",
       "      <td>...</td>\n",
       "      <td>...</td>\n",
       "      <td>...</td>\n",
       "      <td>...</td>\n",
       "      <td>...</td>\n",
       "      <td>...</td>\n",
       "      <td>...</td>\n",
       "    </tr>\n",
       "    <tr>\n",
       "      <th>91</th>\n",
       "      <td>5BOP_1.pdb</td>\n",
       "      <td>1.95</td>\n",
       "      <td>ARG</td>\n",
       "      <td>TRP</td>\n",
       "      <td>3.809991</td>\n",
       "      <td>53.959258</td>\n",
       "      <td>3.080755</td>\n",
       "    </tr>\n",
       "    <tr>\n",
       "      <th>92</th>\n",
       "      <td>4LHQ_1.pdb</td>\n",
       "      <td>2.30</td>\n",
       "      <td>ARG</td>\n",
       "      <td>TRP</td>\n",
       "      <td>4.739042</td>\n",
       "      <td>38.551146</td>\n",
       "      <td>2.953433</td>\n",
       "    </tr>\n",
       "    <tr>\n",
       "      <th>93</th>\n",
       "      <td>4LHJ_1.pdb</td>\n",
       "      <td>1.80</td>\n",
       "      <td>ARG</td>\n",
       "      <td>TRP</td>\n",
       "      <td>3.865698</td>\n",
       "      <td>75.938022</td>\n",
       "      <td>3.749856</td>\n",
       "    </tr>\n",
       "    <tr>\n",
       "      <th>94</th>\n",
       "      <td>5HM1_1.pdb</td>\n",
       "      <td>2.96</td>\n",
       "      <td>ARG</td>\n",
       "      <td>TRP</td>\n",
       "      <td>3.704272</td>\n",
       "      <td>58.884897</td>\n",
       "      <td>3.171342</td>\n",
       "    </tr>\n",
       "    <tr>\n",
       "      <th>95</th>\n",
       "      <td>4I13_1.pdb</td>\n",
       "      <td>1.60</td>\n",
       "      <td>ARG</td>\n",
       "      <td>TRP</td>\n",
       "      <td>3.631036</td>\n",
       "      <td>69.600848</td>\n",
       "      <td>3.403323</td>\n",
       "    </tr>\n",
       "  </tbody>\n",
       "</table>\n",
       "<p>96 rows × 7 columns</p>\n",
       "</div>"
      ],
      "text/plain": [
       "           pdb  resolution AA45 AA103  Distance      Angle  ProjectedDistance\n",
       "0   1ZMY_1.pdb        3.00  ARG   TRP  3.485887  66.307358           3.192076\n",
       "1   5JDS_1.pdb        1.70  ARG   TRP  3.766059  58.260972           3.202856\n",
       "2   3QSK_1.pdb        1.75  ARG   TRP  3.339473  83.033411           3.314817\n",
       "3   4NBZ_1.pdb        1.75  ARG   TRP  5.729496  74.383029           5.517980\n",
       "4   4LGS_1.pdb        2.70  ARG   TRP  5.238037  68.409758           4.870532\n",
       "..         ...         ...  ...   ...       ...        ...                ...\n",
       "91  5BOP_1.pdb        1.95  ARG   TRP  3.809991  53.959258           3.080755\n",
       "92  4LHQ_1.pdb        2.30  ARG   TRP  4.739042  38.551146           2.953433\n",
       "93  4LHJ_1.pdb        1.80  ARG   TRP  3.865698  75.938022           3.749856\n",
       "94  5HM1_1.pdb        2.96  ARG   TRP  3.704272  58.884897           3.171342\n",
       "95  4I13_1.pdb        1.60  ARG   TRP  3.631036  69.600848           3.403323\n",
       "\n",
       "[96 rows x 7 columns]"
      ]
     },
     "execution_count": 12,
     "metadata": {},
     "output_type": "execute_result"
    }
   ],
   "source": [
    "AA45_AA103"
   ]
  },
  {
   "cell_type": "code",
   "execution_count": 214,
   "metadata": {},
   "outputs": [
    {
     "data": {
      "image/png": "[encoded data removed]",
      "text/plain": [
       "<Figure size 576x288 with 2 Axes>"
      ]
     },
     "metadata": {
      "needs_background": "light"
     },
     "output_type": "display_data"
    }
   ],
   "source": [
    "fig,axes = plt.subplots(nrows=1,ncols=2,figsize=(8,4))\n",
    "axes[0].boxplot([AA45_AA103['Angle']],widths=[0.2],flierprops=flierprops)\n",
    "axes[0].set_ylabel('Angle(Degree)')\n",
    "axes[0].set_xticklabels(['Cation-pi(AA45_AA103)'])\n",
    "axes[0].set_yticks(np.arange(0,91,10))\n",
    "axes[1].boxplot([AA45_AA103['Distance']],widths=[0.2],flierprops=flierprops)\n",
    "axes[1].set_ylabel('Distance(Angstrom)')\n",
    "axes[1].set_xticklabels(['Cation-pi(AA45_AA103)'])\n",
    "axes[1].hlines(xmin=0,xmax=1.5,y=6,linestyle=\"dashed\",color='gray')\n",
    "sns.despine()\n",
    "fig.tight_layout()\n",
    "plt.savefig(\"Angles_Distance_cation_pi.svg\",format='svg')"
   ]
  },
  {
   "cell_type": "markdown",
   "metadata": {},
   "source": [
    "## F/Y47 and Y100X"
   ]
  },
  {
   "cell_type": "code",
   "execution_count": 160,
   "metadata": {
    "collapsed": true
   },
   "outputs": [
    {
     "name": "stderr",
     "output_type": "stream",
     "text": [
      "@> 1938 atoms and 1 coordinate set(s) were parsed in 0.02s.\n",
      "@> 1879 atoms and 1 coordinate set(s) were parsed in 0.02s.\n",
      "@> 1828 atoms and 1 coordinate set(s) were parsed in 0.03s.\n",
      "@> 2040 atoms and 1 coordinate set(s) were parsed in 0.02s.\n",
      "@> 6128 atoms and 1 coordinate set(s) were parsed in 0.06s.\n",
      "@> 3052 atoms and 1 coordinate set(s) were parsed in 0.03s.\n",
      "@> 3585 atoms and 1 coordinate set(s) were parsed in 0.04s.\n",
      "@> 1659 atoms and 1 coordinate set(s) were parsed in 0.02s.\n",
      "@> 1810 atoms and 1 coordinate set(s) were parsed in 0.02s.\n",
      "@> 1142 atoms and 1 coordinate set(s) were parsed in 0.01s.\n",
      "@> 1830 atoms and 1 coordinate set(s) were parsed in 0.02s.\n",
      "@> 5796 atoms and 1 coordinate set(s) were parsed in 0.06s.\n",
      "@> 2178 atoms and 1 coordinate set(s) were parsed in 0.02s.\n",
      "@> 5810 atoms and 1 coordinate set(s) were parsed in 0.06s.\n",
      "@> 1901 atoms and 1 coordinate set(s) were parsed in 0.02s.\n",
      "@> 1715 atoms and 1 coordinate set(s) were parsed in 0.02s.\n",
      "@> 2968 atoms and 1 coordinate set(s) were parsed in 0.03s.\n",
      "@> 3551 atoms and 1 coordinate set(s) were parsed in 0.04s.\n",
      "@> 2091 atoms and 1 coordinate set(s) were parsed in 0.02s.\n",
      "@> 3804 atoms and 1 coordinate set(s) were parsed in 0.04s.\n",
      "@> 2758 atoms and 1 coordinate set(s) were parsed in 0.03s.\n",
      "@> 3990 atoms and 1 coordinate set(s) were parsed in 0.04s.\n",
      "@> 1886 atoms and 1 coordinate set(s) were parsed in 0.03s.\n",
      "@> 1842 atoms and 1 coordinate set(s) were parsed in 0.02s.\n",
      "@> 3073 atoms and 1 coordinate set(s) were parsed in 0.04s.\n",
      "@> 3218 atoms and 1 coordinate set(s) were parsed in 0.04s.\n",
      "@> 8118 atoms and 1 coordinate set(s) were parsed in 0.08s.\n",
      "@> 3732 atoms and 1 coordinate set(s) were parsed in 0.04s.\n",
      "@> 5109 atoms and 1 coordinate set(s) were parsed in 0.06s.\n",
      "@> 1741 atoms and 1 coordinate set(s) were parsed in 0.02s.\n",
      "@> 4929 atoms and 1 coordinate set(s) were parsed in 0.07s.\n",
      "@> 1767 atoms and 1 coordinate set(s) were parsed in 0.02s.\n",
      "@> 4165 atoms and 1 coordinate set(s) were parsed in 0.06s.\n",
      "@> 3058 atoms and 1 coordinate set(s) were parsed in 0.04s.\n",
      "@> 4459 atoms and 1 coordinate set(s) were parsed in 0.06s.\n",
      "@> 1818 atoms and 1 coordinate set(s) were parsed in 0.02s.\n",
      "@> 4020 atoms and 1 coordinate set(s) were parsed in 0.05s.\n",
      "@> 1813 atoms and 1 coordinate set(s) were parsed in 0.02s.\n",
      "@> 3700 atoms and 1 coordinate set(s) were parsed in 0.04s.\n",
      "@> 2958 atoms and 1 coordinate set(s) were parsed in 0.03s.\n",
      "@> 1994 atoms and 1 coordinate set(s) were parsed in 0.02s.\n",
      "@> 6249 atoms and 1 coordinate set(s) were parsed in 0.06s.\n",
      "@> 2369 atoms and 1 coordinate set(s) were parsed in 0.02s.\n",
      "@> 3800 atoms and 1 coordinate set(s) were parsed in 0.04s.\n",
      "@> 2949 atoms and 1 coordinate set(s) were parsed in 0.03s.\n",
      "@> 5890 atoms and 1 coordinate set(s) were parsed in 0.07s.\n",
      "@> 2893 atoms and 1 coordinate set(s) were parsed in 0.04s.\n",
      "@> 3707 atoms and 1 coordinate set(s) were parsed in 0.04s.\n",
      "@> 1865 atoms and 1 coordinate set(s) were parsed in 0.02s.\n",
      "@> 1729 atoms and 1 coordinate set(s) were parsed in 0.02s.\n",
      "@> 2342 atoms and 1 coordinate set(s) were parsed in 0.03s.\n",
      "@> 1625 atoms and 1 coordinate set(s) were parsed in 0.02s.\n",
      "@> 3007 atoms and 1 coordinate set(s) were parsed in 0.03s.\n",
      "@> 2955 atoms and 1 coordinate set(s) were parsed in 0.03s.\n",
      "@> 5726 atoms and 1 coordinate set(s) were parsed in 0.06s.\n",
      "@> 2712 atoms and 1 coordinate set(s) were parsed in 0.03s.\n",
      "@> 1826 atoms and 1 coordinate set(s) were parsed in 0.02s.\n",
      "@> 1440 atoms and 1 coordinate set(s) were parsed in 0.02s.\n",
      "@> 2068 atoms and 1 coordinate set(s) were parsed in 0.03s.\n",
      "@> 1824 atoms and 1 coordinate set(s) were parsed in 0.02s.\n",
      "@> 4551 atoms and 1 coordinate set(s) were parsed in 0.05s.\n",
      "@> 1715 atoms and 1 coordinate set(s) were parsed in 0.02s.\n",
      "@> 1852 atoms and 1 coordinate set(s) were parsed in 0.02s.\n",
      "@> 5690 atoms and 1 coordinate set(s) were parsed in 0.07s.\n",
      "@> 1944 atoms and 1 coordinate set(s) were parsed in 0.03s.\n",
      "@> 2448 atoms and 1 coordinate set(s) were parsed in 0.03s.\n",
      "@> 5439 atoms and 1 coordinate set(s) were parsed in 0.06s.\n",
      "@> 5865 atoms and 1 coordinate set(s) were parsed in 0.06s.\n",
      "@> 3223 atoms and 1 coordinate set(s) were parsed in 0.04s.\n",
      "@> 3312 atoms and 1 coordinate set(s) were parsed in 0.04s.\n",
      "@> 4827 atoms and 1 coordinate set(s) were parsed in 0.05s.\n",
      "@> 3046 atoms and 1 coordinate set(s) were parsed in 0.03s.\n",
      "@> 2133 atoms and 1 coordinate set(s) were parsed in 0.03s.\n",
      "@> 2139 atoms and 1 coordinate set(s) were parsed in 0.03s.\n",
      "@> 4006 atoms and 1 coordinate set(s) were parsed in 0.06s.\n",
      "@> 2272 atoms and 1 coordinate set(s) were parsed in 0.03s.\n",
      "@> 4542 atoms and 1 coordinate set(s) were parsed in 0.06s.\n",
      "@> 3230 atoms and 1 coordinate set(s) were parsed in 0.04s.\n",
      "@> 3307 atoms and 1 coordinate set(s) were parsed in 0.04s.\n",
      "@> 2967 atoms and 1 coordinate set(s) were parsed in 0.04s.\n",
      "@> 2308 atoms and 1 coordinate set(s) were parsed in 0.03s.\n",
      "@> 2335 atoms and 1 coordinate set(s) were parsed in 0.03s.\n",
      "@> 3738 atoms and 1 coordinate set(s) were parsed in 0.04s.\n",
      "@> 4449 atoms and 1 coordinate set(s) were parsed in 0.05s.\n",
      "@> 3749 atoms and 1 coordinate set(s) were parsed in 0.04s.\n",
      "@> 1416 atoms and 1 coordinate set(s) were parsed in 0.02s.\n",
      "@> 2361 atoms and 1 coordinate set(s) were parsed in 0.02s.\n",
      "@> 3461 atoms and 1 coordinate set(s) were parsed in 0.04s.\n",
      "@> 3278 atoms and 1 coordinate set(s) were parsed in 0.03s.\n",
      "@> 3202 atoms and 1 coordinate set(s) were parsed in 0.04s.\n",
      "@> 3331 atoms and 1 coordinate set(s) were parsed in 0.04s.\n",
      "@> 2428 atoms and 1 coordinate set(s) were parsed in 0.03s.\n",
      "@> 2877 atoms and 1 coordinate set(s) were parsed in 0.03s.\n",
      "@> 2299 atoms and 1 coordinate set(s) were parsed in 0.03s.\n",
      "@> 2109 atoms and 1 coordinate set(s) were parsed in 0.02s.\n",
      "@> 2749 atoms and 1 coordinate set(s) were parsed in 0.03s.\n",
      "@> 2724 atoms and 1 coordinate set(s) were parsed in 0.03s.\n",
      "@> 4183 atoms and 1 coordinate set(s) were parsed in 0.04s.\n",
      "@> 2149 atoms and 1 coordinate set(s) were parsed in 0.02s.\n",
      "@> 3756 atoms and 1 coordinate set(s) were parsed in 0.04s.\n",
      "@> 2751 atoms and 1 coordinate set(s) were parsed in 0.03s.\n",
      "@> 1427 atoms and 1 coordinate set(s) were parsed in 0.02s.\n",
      "@> 2372 atoms and 1 coordinate set(s) were parsed in 0.03s.\n",
      "@> 1890 atoms and 1 coordinate set(s) were parsed in 0.02s.\n",
      "@> 5822 atoms and 1 coordinate set(s) were parsed in 0.06s.\n",
      "@> 2295 atoms and 1 coordinate set(s) were parsed in 0.02s.\n",
      "@> 11304 atoms and 1 coordinate set(s) were parsed in 0.11s.\n",
      "@> 3234 atoms and 1 coordinate set(s) were parsed in 0.03s.\n",
      "@> 3225 atoms and 1 coordinate set(s) were parsed in 0.03s.\n",
      "@> 4066 atoms and 1 coordinate set(s) were parsed in 0.04s.\n",
      "@> 4453 atoms and 1 coordinate set(s) were parsed in 0.04s.\n",
      "@> 3804 atoms and 1 coordinate set(s) were parsed in 0.04s.\n",
      "@> 2225 atoms and 1 coordinate set(s) were parsed in 0.02s.\n",
      "@> 2229 atoms and 1 coordinate set(s) were parsed in 0.02s.\n",
      "@> 1431 atoms and 1 coordinate set(s) were parsed in 0.01s.\n",
      "@> 5024 atoms and 1 coordinate set(s) were parsed in 0.05s.\n",
      "@> 2296 atoms and 1 coordinate set(s) were parsed in 0.02s.\n",
      "@> 3029 atoms and 1 coordinate set(s) were parsed in 0.03s.\n",
      "@> 2943 atoms and 1 coordinate set(s) were parsed in 0.03s.\n",
      "@> 1029 atoms and 1 coordinate set(s) were parsed in 0.01s.\n",
      "@> 2236 atoms and 1 coordinate set(s) were parsed in 0.02s.\n",
      "@> 3012 atoms and 1 coordinate set(s) were parsed in 0.03s.\n"
     ]
    },
    {
     "ename": "AttributeError",
     "evalue": "'NoneType' object has no attribute 'getCoords'",
     "output_type": "error",
     "traceback": [
      "\u001b[0;31m---------------------------------------------------------------------------\u001b[0m",
      "\u001b[0;31mAttributeError\u001b[0m                            Traceback (most recent call last)",
      "\u001b[0;32m<ipython-input-160-5a772392e4f9>\u001b[0m in \u001b[0;36m<module>\u001b[0;34m\u001b[0m\n\u001b[1;32m     15\u001b[0m     \u001b[0mAA37_ring\u001b[0m \u001b[0;34m=\u001b[0m \u001b[0mstructure\u001b[0m\u001b[0;34m.\u001b[0m\u001b[0mselect\u001b[0m\u001b[0;34m(\u001b[0m\u001b[0;34mf\"resnum 45 name {ATOM_NAMES[AA37]} chain H\"\u001b[0m\u001b[0;34m)\u001b[0m\u001b[0;34m\u001b[0m\u001b[0;34m\u001b[0m\u001b[0m\n\u001b[1;32m     16\u001b[0m     \u001b[0mAA100X_ring\u001b[0m\u001b[0;34m=\u001b[0m \u001b[0mstructure\u001b[0m\u001b[0;34m.\u001b[0m\u001b[0mselect\u001b[0m\u001b[0;34m(\u001b[0m\u001b[0;34mf\"resnum {resnum100X} name {ATOM_NAMES[AA100X]} chain H\"\u001b[0m\u001b[0;34m)\u001b[0m\u001b[0;34m\u001b[0m\u001b[0;34m\u001b[0m\u001b[0m\n\u001b[0;32m---> 17\u001b[0;31m     \u001b[0mdistance\u001b[0m\u001b[0;34m,\u001b[0m \u001b[0mangle\u001b[0m\u001b[0;34m,\u001b[0m\u001b[0mprojection_dist\u001b[0m \u001b[0;34m=\u001b[0m \u001b[0mcalcPoint2Ring\u001b[0m\u001b[0;34m(\u001b[0m\u001b[0mAA37_ring\u001b[0m\u001b[0;34m,\u001b[0m\u001b[0mAA100X_ring\u001b[0m\u001b[0;34m)\u001b[0m\u001b[0;34m\u001b[0m\u001b[0;34m\u001b[0m\u001b[0m\n\u001b[0m\u001b[1;32m     18\u001b[0m     \u001b[0mpi_pi_data\u001b[0m\u001b[0;34m.\u001b[0m\u001b[0mappend\u001b[0m\u001b[0;34m(\u001b[0m\u001b[0;34m(\u001b[0m\u001b[0mpdb_name\u001b[0m\u001b[0;34m,\u001b[0m\u001b[0mreso\u001b[0m\u001b[0;34m,\u001b[0m\u001b[0mAA37\u001b[0m\u001b[0;34m,\u001b[0m\u001b[0mAA100X\u001b[0m\u001b[0;34m,\u001b[0m\u001b[0mdistance\u001b[0m\u001b[0;34m,\u001b[0m\u001b[0mangle\u001b[0m\u001b[0;34m,\u001b[0m\u001b[0mprojection_dist\u001b[0m\u001b[0;34m)\u001b[0m\u001b[0;34m)\u001b[0m\u001b[0;34m\u001b[0m\u001b[0;34m\u001b[0m\u001b[0m\n",
      "\u001b[0;32m<ipython-input-156-31e8b70d9bcd>\u001b[0m in \u001b[0;36mcalcPoint2Ring\u001b[0;34m(point_selection, ring_selection)\u001b[0m\n\u001b[1;32m     30\u001b[0m '''\n\u001b[1;32m     31\u001b[0m \u001b[0;32mdef\u001b[0m \u001b[0mcalcPoint2Ring\u001b[0m\u001b[0;34m(\u001b[0m\u001b[0mpoint_selection\u001b[0m\u001b[0;34m,\u001b[0m\u001b[0mring_selection\u001b[0m\u001b[0;34m)\u001b[0m\u001b[0;34m:\u001b[0m\u001b[0;34m\u001b[0m\u001b[0;34m\u001b[0m\u001b[0m\n\u001b[0;32m---> 32\u001b[0;31m     \u001b[0mpoint_coord\u001b[0m \u001b[0;34m=\u001b[0m \u001b[0mpoint_selection\u001b[0m\u001b[0;34m.\u001b[0m\u001b[0mgetCoords\u001b[0m\u001b[0;34m(\u001b[0m\u001b[0;34m)\u001b[0m\u001b[0;34m[\u001b[0m\u001b[0;36m0\u001b[0m\u001b[0;34m]\u001b[0m\u001b[0;34m\u001b[0m\u001b[0;34m\u001b[0m\u001b[0m\n\u001b[0m\u001b[1;32m     33\u001b[0m     \u001b[0mring_coords\u001b[0m \u001b[0;34m=\u001b[0m \u001b[0mring_selection\u001b[0m\u001b[0;34m.\u001b[0m\u001b[0mgetCoords\u001b[0m\u001b[0;34m(\u001b[0m\u001b[0;34m)\u001b[0m\u001b[0;34m\u001b[0m\u001b[0;34m\u001b[0m\u001b[0m\n\u001b[1;32m     34\u001b[0m \u001b[0;34m\u001b[0m\u001b[0m\n",
      "\u001b[0;31mAttributeError\u001b[0m: 'NoneType' object has no attribute 'getCoords'"
     ]
    }
   ],
   "source": [
    "pi_pi_data=[]\n",
    "for idx,row in pdb_info.iterrows():\n",
    "    reso = row['resolution']\n",
    "    if reso>3:\n",
    "        continue\n",
    "    pdb_name = row['pdb']\n",
    "    structure = parsePDB(os.path.join(Dirname,pdb_name))\n",
    "    AA37 = structure.select(\"chain H resnum 37 ca\").getResnames()[0]\n",
    "    resnum100X = getResdiueAhead101(structure)\n",
    "    if resnum100X==None:\n",
    "        continue\n",
    "    AA100X = structure.select(f\"chain H resnum {resnum100X} ca\").getResnames()[0]\n",
    "    if not (AA37 in (\"TRP\",\"TYR\",\"PHE\") and  AA100X in (\"TRP\",\"TYR\",\"PHE\")):\n",
    "        continue\n",
    "    AA37_ring = structure.select(f\"resnum 45 name {ATOM_NAMES[AA37]} chain H\")\n",
    "    AA100X_ring= structure.select(f\"resnum {resnum100X} name {ATOM_NAMES[AA100X]} chain H\")\n",
    "    distance, angle,projection_dist = calcPoint2Ring(AA37_ring,AA100X_ring)\n",
    "    pi_pi_data.append((pdb_name,reso,AA37,AA100X,distance,angle,projection_dist))"
   ]
  },
  {
   "cell_type": "code",
   "execution_count": 181,
   "metadata": {},
   "outputs": [],
   "source": [
    "AA37_AA100X = pd.DataFrame(pi_pi_data,columns=['pdb','resolution','AA37','AA100X','Distance','Angle','ProjectedDistance'])"
   ]
  },
  {
   "cell_type": "markdown",
   "metadata": {},
   "source": [
    "# F/Y47 and W103"
   ]
  },
  {
   "cell_type": "code",
   "execution_count": 172,
   "metadata": {
    "collapsed": true
   },
   "outputs": [
    {
     "name": "stderr",
     "output_type": "stream",
     "text": [
      "@> 1938 atoms and 1 coordinate set(s) were parsed in 0.04s.\n",
      "@> 1879 atoms and 1 coordinate set(s) were parsed in 0.04s.\n",
      "@> 1828 atoms and 1 coordinate set(s) were parsed in 0.02s.\n",
      "@> 2040 atoms and 1 coordinate set(s) were parsed in 0.02s.\n",
      "@> 6128 atoms and 1 coordinate set(s) were parsed in 0.07s.\n",
      "@> 3052 atoms and 1 coordinate set(s) were parsed in 0.04s.\n",
      "@> 3585 atoms and 1 coordinate set(s) were parsed in 0.05s.\n",
      "@> 1659 atoms and 1 coordinate set(s) were parsed in 0.02s.\n",
      "@> 1810 atoms and 1 coordinate set(s) were parsed in 0.02s.\n",
      "@> 1142 atoms and 1 coordinate set(s) were parsed in 0.02s.\n",
      "@> 1830 atoms and 1 coordinate set(s) were parsed in 0.02s.\n",
      "@> 5796 atoms and 1 coordinate set(s) were parsed in 0.06s.\n",
      "@> 2178 atoms and 1 coordinate set(s) were parsed in 0.02s.\n",
      "@> 5810 atoms and 1 coordinate set(s) were parsed in 0.06s.\n",
      "@> 1901 atoms and 1 coordinate set(s) were parsed in 0.02s.\n",
      "@> 1715 atoms and 1 coordinate set(s) were parsed in 0.03s.\n",
      "@> 2968 atoms and 1 coordinate set(s) were parsed in 0.04s.\n",
      "@> 3551 atoms and 1 coordinate set(s) were parsed in 0.04s.\n",
      "@> 2091 atoms and 1 coordinate set(s) were parsed in 0.02s.\n",
      "@> 3804 atoms and 1 coordinate set(s) were parsed in 0.04s.\n",
      "@> 2758 atoms and 1 coordinate set(s) were parsed in 0.03s.\n",
      "@> 3990 atoms and 1 coordinate set(s) were parsed in 0.05s.\n",
      "@> 1886 atoms and 1 coordinate set(s) were parsed in 0.02s.\n",
      "@> 1842 atoms and 1 coordinate set(s) were parsed in 0.02s.\n",
      "@> 3073 atoms and 1 coordinate set(s) were parsed in 0.04s.\n",
      "@> 3218 atoms and 1 coordinate set(s) were parsed in 0.04s.\n",
      "@> 8118 atoms and 1 coordinate set(s) were parsed in 0.09s.\n",
      "@> 3732 atoms and 1 coordinate set(s) were parsed in 0.05s.\n",
      "@> 5109 atoms and 1 coordinate set(s) were parsed in 0.07s.\n",
      "@> 1741 atoms and 1 coordinate set(s) were parsed in 0.02s.\n",
      "@> 4929 atoms and 1 coordinate set(s) were parsed in 0.07s.\n",
      "@> 1767 atoms and 1 coordinate set(s) were parsed in 0.03s.\n",
      "@> 4165 atoms and 1 coordinate set(s) were parsed in 0.05s.\n",
      "@> 3058 atoms and 1 coordinate set(s) were parsed in 0.04s.\n",
      "@> 4459 atoms and 1 coordinate set(s) were parsed in 0.07s.\n",
      "@> 1818 atoms and 1 coordinate set(s) were parsed in 0.02s.\n",
      "@> 4020 atoms and 1 coordinate set(s) were parsed in 0.05s.\n",
      "@> 1813 atoms and 1 coordinate set(s) were parsed in 0.02s.\n",
      "@> 3700 atoms and 1 coordinate set(s) were parsed in 0.04s.\n",
      "@> 2958 atoms and 1 coordinate set(s) were parsed in 0.04s.\n",
      "@> 1994 atoms and 1 coordinate set(s) were parsed in 0.02s.\n",
      "@> 6249 atoms and 1 coordinate set(s) were parsed in 0.08s.\n",
      "@> 2369 atoms and 1 coordinate set(s) were parsed in 0.03s.\n",
      "@> 3800 atoms and 1 coordinate set(s) were parsed in 0.04s.\n",
      "@> 2949 atoms and 1 coordinate set(s) were parsed in 0.04s.\n",
      "@> 5890 atoms and 1 coordinate set(s) were parsed in 0.07s.\n",
      "@> 2893 atoms and 1 coordinate set(s) were parsed in 0.03s.\n",
      "@> 3707 atoms and 1 coordinate set(s) were parsed in 0.04s.\n",
      "@> 1865 atoms and 1 coordinate set(s) were parsed in 0.03s.\n",
      "@> 1729 atoms and 1 coordinate set(s) were parsed in 0.02s.\n",
      "@> 2342 atoms and 1 coordinate set(s) were parsed in 0.03s.\n",
      "@> 1625 atoms and 1 coordinate set(s) were parsed in 0.02s.\n",
      "@> 3007 atoms and 1 coordinate set(s) were parsed in 0.04s.\n",
      "@> 2955 atoms and 1 coordinate set(s) were parsed in 0.03s.\n",
      "@> 5726 atoms and 1 coordinate set(s) were parsed in 0.06s.\n",
      "@> 2712 atoms and 1 coordinate set(s) were parsed in 0.03s.\n",
      "@> 1826 atoms and 1 coordinate set(s) were parsed in 0.02s.\n",
      "@> 1440 atoms and 1 coordinate set(s) were parsed in 0.02s.\n",
      "@> 2068 atoms and 1 coordinate set(s) were parsed in 0.03s.\n",
      "@> 1824 atoms and 1 coordinate set(s) were parsed in 0.03s.\n",
      "@> 4551 atoms and 1 coordinate set(s) were parsed in 0.05s.\n",
      "@> 1715 atoms and 1 coordinate set(s) were parsed in 0.02s.\n",
      "@> 1852 atoms and 1 coordinate set(s) were parsed in 0.02s.\n",
      "@> 5690 atoms and 1 coordinate set(s) were parsed in 0.07s.\n",
      "@> 1944 atoms and 1 coordinate set(s) were parsed in 0.03s.\n",
      "@> 2448 atoms and 1 coordinate set(s) were parsed in 0.03s.\n",
      "@> 5439 atoms and 1 coordinate set(s) were parsed in 0.06s.\n",
      "@> 5865 atoms and 1 coordinate set(s) were parsed in 0.06s.\n",
      "@> 3223 atoms and 1 coordinate set(s) were parsed in 0.03s.\n",
      "@> 3312 atoms and 1 coordinate set(s) were parsed in 0.04s.\n",
      "@> 4827 atoms and 1 coordinate set(s) were parsed in 0.05s.\n",
      "@> 3046 atoms and 1 coordinate set(s) were parsed in 0.03s.\n",
      "@> 2133 atoms and 1 coordinate set(s) were parsed in 0.02s.\n",
      "@> 2139 atoms and 1 coordinate set(s) were parsed in 0.03s.\n",
      "@> 4006 atoms and 1 coordinate set(s) were parsed in 0.05s.\n",
      "@> 2272 atoms and 1 coordinate set(s) were parsed in 0.03s.\n",
      "@> 4542 atoms and 1 coordinate set(s) were parsed in 0.05s.\n",
      "@> 3230 atoms and 1 coordinate set(s) were parsed in 0.04s.\n",
      "@> 3307 atoms and 1 coordinate set(s) were parsed in 0.05s.\n",
      "@> 2967 atoms and 1 coordinate set(s) were parsed in 0.04s.\n",
      "@> 2308 atoms and 1 coordinate set(s) were parsed in 0.03s.\n",
      "@> 2335 atoms and 1 coordinate set(s) were parsed in 0.03s.\n",
      "@> 3738 atoms and 1 coordinate set(s) were parsed in 0.04s.\n",
      "@> 4449 atoms and 1 coordinate set(s) were parsed in 0.05s.\n",
      "@> 3749 atoms and 1 coordinate set(s) were parsed in 0.05s.\n",
      "@> 1416 atoms and 1 coordinate set(s) were parsed in 0.02s.\n",
      "@> 2361 atoms and 1 coordinate set(s) were parsed in 0.03s.\n",
      "@> 3461 atoms and 1 coordinate set(s) were parsed in 0.03s.\n",
      "@> 3278 atoms and 1 coordinate set(s) were parsed in 0.03s.\n",
      "@> 3202 atoms and 1 coordinate set(s) were parsed in 0.03s.\n",
      "@> 3331 atoms and 1 coordinate set(s) were parsed in 0.04s.\n",
      "@> 2428 atoms and 1 coordinate set(s) were parsed in 0.03s.\n",
      "@> 2877 atoms and 1 coordinate set(s) were parsed in 0.03s.\n",
      "@> 2299 atoms and 1 coordinate set(s) were parsed in 0.02s.\n",
      "@> 2109 atoms and 1 coordinate set(s) were parsed in 0.02s.\n",
      "@> 2749 atoms and 1 coordinate set(s) were parsed in 0.03s.\n",
      "@> 2724 atoms and 1 coordinate set(s) were parsed in 0.03s.\n",
      "@> 4183 atoms and 1 coordinate set(s) were parsed in 0.04s.\n",
      "@> 2149 atoms and 1 coordinate set(s) were parsed in 0.02s.\n",
      "@> 3756 atoms and 1 coordinate set(s) were parsed in 0.04s.\n",
      "@> 2751 atoms and 1 coordinate set(s) were parsed in 0.03s.\n",
      "@> 1427 atoms and 1 coordinate set(s) were parsed in 0.01s.\n",
      "@> 2372 atoms and 1 coordinate set(s) were parsed in 0.03s.\n",
      "@> 1890 atoms and 1 coordinate set(s) were parsed in 0.02s.\n",
      "@> 5822 atoms and 1 coordinate set(s) were parsed in 0.06s.\n",
      "@> 2295 atoms and 1 coordinate set(s) were parsed in 0.02s.\n",
      "@> 11304 atoms and 1 coordinate set(s) were parsed in 0.12s.\n",
      "@> 3234 atoms and 1 coordinate set(s) were parsed in 0.03s.\n",
      "@> 3225 atoms and 1 coordinate set(s) were parsed in 0.03s.\n",
      "@> 4066 atoms and 1 coordinate set(s) were parsed in 0.04s.\n",
      "@> 4453 atoms and 1 coordinate set(s) were parsed in 0.04s.\n",
      "@> 3804 atoms and 1 coordinate set(s) were parsed in 0.04s.\n",
      "@> 2225 atoms and 1 coordinate set(s) were parsed in 0.02s.\n",
      "@> 2229 atoms and 1 coordinate set(s) were parsed in 0.03s.\n",
      "@> 1431 atoms and 1 coordinate set(s) were parsed in 0.01s.\n",
      "@> 5024 atoms and 1 coordinate set(s) were parsed in 0.05s.\n",
      "@> 2296 atoms and 1 coordinate set(s) were parsed in 0.02s.\n",
      "@> 3029 atoms and 1 coordinate set(s) were parsed in 0.03s.\n",
      "@> 2943 atoms and 1 coordinate set(s) were parsed in 0.03s.\n",
      "@> 1029 atoms and 1 coordinate set(s) were parsed in 0.01s.\n",
      "@> 2236 atoms and 1 coordinate set(s) were parsed in 0.02s.\n",
      "@> 3012 atoms and 1 coordinate set(s) were parsed in 0.03s.\n",
      "@> 1522 atoms and 1 coordinate set(s) were parsed in 0.02s.\n",
      "@> 3218 atoms and 1 coordinate set(s) were parsed in 0.04s.\n",
      "@> 2855 atoms and 1 coordinate set(s) were parsed in 0.03s.\n",
      "@> 8151 atoms and 1 coordinate set(s) were parsed in 0.08s.\n",
      "@> 1945 atoms and 1 coordinate set(s) were parsed in 0.02s.\n",
      "@> 3269 atoms and 1 coordinate set(s) were parsed in 0.04s.\n",
      "@> 7912 atoms and 1 coordinate set(s) were parsed in 0.08s.\n",
      "@> 7731 atoms and 1 coordinate set(s) were parsed in 0.07s.\n",
      "@> 2641 atoms and 1 coordinate set(s) were parsed in 0.03s.\n",
      "@> 2851 atoms and 1 coordinate set(s) were parsed in 0.03s.\n",
      "@> 1837 atoms and 1 coordinate set(s) were parsed in 0.02s.\n",
      "@> 3848 atoms and 1 coordinate set(s) were parsed in 0.04s.\n",
      "@> 2748 atoms and 1 coordinate set(s) were parsed in 0.03s.\n",
      "@> 3918 atoms and 1 coordinate set(s) were parsed in 0.04s.\n",
      "@> 2336 atoms and 1 coordinate set(s) were parsed in 0.03s.\n"
     ]
    },
    {
     "name": "stderr",
     "output_type": "stream",
     "text": [
      "@> 3325 atoms and 1 coordinate set(s) were parsed in 0.04s.\n",
      "@> 3344 atoms and 1 coordinate set(s) were parsed in 0.04s.\n",
      "@> 3226 atoms and 1 coordinate set(s) were parsed in 0.04s.\n",
      "@> 1922 atoms and 1 coordinate set(s) were parsed in 0.02s.\n",
      "@> 1956 atoms and 1 coordinate set(s) were parsed in 0.03s.\n",
      "@> 3022 atoms and 1 coordinate set(s) were parsed in 0.03s.\n",
      "@> 2996 atoms and 1 coordinate set(s) were parsed in 0.03s.\n",
      "@> 4277 atoms and 1 coordinate set(s) were parsed in 0.05s.\n",
      "@> 3250 atoms and 1 coordinate set(s) were parsed in 0.03s.\n",
      "@> 2651 atoms and 1 coordinate set(s) were parsed in 0.03s.\n",
      "@> 8676 atoms and 1 coordinate set(s) were parsed in 0.08s.\n",
      "@> 1541 atoms and 1 coordinate set(s) were parsed in 0.02s.\n",
      "@> 1746 atoms and 1 coordinate set(s) were parsed in 0.03s.\n",
      "@> 1650 atoms and 1 coordinate set(s) were parsed in 0.02s.\n",
      "@> 1964 atoms and 1 coordinate set(s) were parsed in 0.03s.\n",
      "@> 3392 atoms and 1 coordinate set(s) were parsed in 0.05s.\n",
      "@> 1678 atoms and 1 coordinate set(s) were parsed in 0.02s.\n",
      "@> 1599 atoms and 1 coordinate set(s) were parsed in 0.02s.\n",
      "@> 2802 atoms and 1 coordinate set(s) were parsed in 0.04s.\n",
      "@> 2463 atoms and 1 coordinate set(s) were parsed in 0.03s.\n",
      "@> 1823 atoms and 1 coordinate set(s) were parsed in 0.02s.\n",
      "@> 7708 atoms and 1 coordinate set(s) were parsed in 0.09s.\n",
      "@> 3204 atoms and 1 coordinate set(s) were parsed in 0.04s.\n"
     ]
    }
   ],
   "source": [
    "data=[]\n",
    "for idx,row in pdb_info.iterrows():\n",
    "    reso = row['resolution']\n",
    "    if reso>3:\n",
    "        continue\n",
    "    pdb_name = row['pdb']\n",
    "    structure = parsePDB(os.path.join(Dirname,pdb_name))\n",
    "    AA37 = structure.select(\"chain H resnum 37 ca\").getResnames()[0]\n",
    "    AA103 = structure.select(\"chain H resnum 103 ca\").getResnames()[0]\n",
    "    if not (AA37 in (\"TRP\",\"TYR\",\"PHE\") and  AA103 in (\"TRP\",\"TYR\",\"PHE\")):\n",
    "        continue\n",
    "    AA37_ring = structure.select(f\"resnum 37 name {ATOM_NAMES[AA37]} chain H\")\n",
    "    AA103_ring = structure.select(f\"resnum 103 name {ATOM_NAMES[AA103]} chain H\")\n",
    "    \n",
    "    distance, angle,projection_dist = calcRing2Ring(AA37_ring,AA103_ring)\n",
    "    data.append((pdb_name,reso,AA37,AA103,distance,angle,projection_dist))"
   ]
  },
  {
   "cell_type": "code",
   "execution_count": 173,
   "metadata": {},
   "outputs": [],
   "source": [
    "AA37_AA103 = pd.DataFrame(data,columns=['pdb','resolution','AA37','AA100X','Distance','Angle','ProjectedDistance'])"
   ]
  },
  {
   "cell_type": "code",
   "execution_count": 196,
   "metadata": {},
   "outputs": [],
   "source": [
    "flierprops = dict(marker='o', markerfacecolor='lightgrey', markersize=5, linestyle='none',linewidth=0,markeredgecolor='grey',alpha=0.5)"
   ]
  },
  {
   "cell_type": "code",
   "execution_count": 215,
   "metadata": {},
   "outputs": [
    {
     "data": {
      "image/png": "[encoded data removed]",
      "text/plain": [
       "<Figure size 576x288 with 2 Axes>"
      ]
     },
     "metadata": {
      "needs_background": "light"
     },
     "output_type": "display_data"
    }
   ],
   "source": [
    "fig = plt.figure(figsize=(8,4))\n",
    "ax1 = fig.add_subplot(121)\n",
    "ax1.boxplot([AA37_AA103['Angle']],widths=[0.2],flierprops=flierprops)\n",
    "ax1.set_ylabel('Angle(Degree)')\n",
    "ax1.set_xticklabels(['pi-pi'])\n",
    "ax1.set_yticks(np.arange(0,91,10))\n",
    "\n",
    "ax2 = fig.add_subplot(122)\n",
    "ax2.boxplot([AA37_AA103['Distance']],widths=[0.2],flierprops=flierprops)\n",
    "ax2.set_ylabel('Distance(Angstrom)')\n",
    "ax2.set_xticklabels(['pi-pi'])\n",
    "ax2.hlines(xmin=0,xmax=1.5,y=6,linestyle=\"dashed\",color='gray')\n",
    "sns.despine()\n",
    "fig.tight_layout()\n",
    "plt.savefig(\"Angles_Distance_pi_pi_37_103.svg\",format='svg')"
   ]
  },
  {
   "cell_type": "code",
   "execution_count": 187,
   "metadata": {},
   "outputs": [
    {
     "data": {
      "text/plain": [
       "4.324483411307489"
      ]
     },
     "execution_count": 187,
     "metadata": {},
     "output_type": "execute_result"
    }
   ],
   "source": [
    "AA45_AA103['Distance'].mean()"
   ]
  },
  {
   "cell_type": "markdown",
   "metadata": {},
   "source": [
    "## Cys-Cys"
   ]
  },
  {
   "cell_type": "code",
   "execution_count": 52,
   "metadata": {
    "scrolled": true
   },
   "outputs": [
    {
     "name": "stderr",
     "output_type": "stream",
     "text": [
      "@> 1938 atoms and 1 coordinate set(s) were parsed in 0.05s.\n",
      "@> 1879 atoms and 1 coordinate set(s) were parsed in 0.02s.\n",
      "@> 1828 atoms and 1 coordinate set(s) were parsed in 0.02s.\n",
      "@> 2040 atoms and 1 coordinate set(s) were parsed in 0.02s.\n"
     ]
    },
    {
     "name": "stdout",
     "output_type": "stream",
     "text": [
      "1ZMY_1.pdb\n",
      "CDR1\n",
      "33\n",
      "CDR2\n",
      "CDR3\n",
      "100E\n",
      "5JDS_1.pdb\n",
      "CDR1\n",
      "33\n",
      "CDR2\n",
      "CDR3\n",
      "100B\n",
      "3QSK_1.pdb\n",
      "CDR1\n",
      "CDR2\n",
      "CDR3\n",
      "4NBZ_1.pdb\n",
      "CDR1\n",
      "CDR2\n",
      "CDR3\n",
      "5USF_1.pdb\n"
     ]
    },
    {
     "name": "stderr",
     "output_type": "stream",
     "text": [
      "@> 6128 atoms and 1 coordinate set(s) were parsed in 0.06s.\n",
      "@> 3052 atoms and 1 coordinate set(s) were parsed in 0.03s.\n",
      "@> 3585 atoms and 1 coordinate set(s) were parsed in 0.04s.\n",
      "@> 1659 atoms and 1 coordinate set(s) were parsed in 0.02s.\n",
      "@> 1810 atoms and 1 coordinate set(s) were parsed in 0.02s.\n",
      "@> 1142 atoms and 1 coordinate set(s) were parsed in 0.02s.\n"
     ]
    },
    {
     "name": "stdout",
     "output_type": "stream",
     "text": [
      "CDR1\n",
      "CDR2\n",
      "CDR3\n",
      "4LGS_1.pdb\n",
      "CDR1\n",
      "CDR2\n",
      "CDR3\n",
      "4OCN_2.pdb\n",
      "CDR1\n",
      "CDR2\n",
      "CDR3\n",
      "3K80_1.pdb\n",
      "CDR1\n",
      "CDR2\n",
      "CDR3\n",
      "4N9O_1.pdb\n",
      "CDR1\n",
      "CDR2\n",
      "CDR3\n",
      "6J7W_1.pdb\n",
      "CDR1\n",
      "CDR2\n",
      "CDR3\n",
      "2P49_1.pdb\n"
     ]
    },
    {
     "name": "stderr",
     "output_type": "stream",
     "text": [
      "@> 1830 atoms and 1 coordinate set(s) were parsed in 0.02s.\n",
      "@> 5796 atoms and 1 coordinate set(s) were parsed in 0.06s.\n",
      "@> 2178 atoms and 1 coordinate set(s) were parsed in 0.03s.\n"
     ]
    },
    {
     "name": "stdout",
     "output_type": "stream",
     "text": [
      "CDR1\n",
      "CDR2\n",
      "CDR3\n",
      "6H6Y_1.pdb\n",
      "CDR1\n",
      "CDR2\n",
      "CDR3\n",
      "3CFI_1.pdb\n",
      "CDR1\n",
      "CDR2\n",
      "CDR3\n",
      "6H15_1.pdb\n"
     ]
    },
    {
     "name": "stderr",
     "output_type": "stream",
     "text": [
      "@> 5810 atoms and 1 coordinate set(s) were parsed in 0.07s.\n",
      "@> 1901 atoms and 1 coordinate set(s) were parsed in 0.02s.\n",
      "@> 1715 atoms and 1 coordinate set(s) were parsed in 0.02s.\n",
      "@> 2968 atoms and 1 coordinate set(s) were parsed in 0.03s.\n",
      "@> 3551 atoms and 1 coordinate set(s) were parsed in 0.04s.\n",
      "@> 2091 atoms and 1 coordinate set(s) were parsed in 0.03s.\n"
     ]
    },
    {
     "name": "stdout",
     "output_type": "stream",
     "text": [
      "CDR1\n",
      "CDR2\n",
      "CDR3\n",
      "3EBA_1.pdb\n",
      "CDR1\n",
      "CDR2\n",
      "CDR3\n",
      "5JA9_1.pdb\n",
      "CDR1\n",
      "CDR2\n",
      "CDR3\n",
      "4N1H_1.pdb\n",
      "CDR1\n",
      "CDR2\n",
      "CDR3\n",
      "4OCN_1.pdb\n",
      "CDR1\n",
      "CDR2\n",
      "CDR3\n",
      "4NBX_1.pdb\n"
     ]
    },
    {
     "name": "stderr",
     "output_type": "stream",
     "text": [
      "@> 3804 atoms and 1 coordinate set(s) were parsed in 0.05s.\n",
      "@> 2758 atoms and 1 coordinate set(s) were parsed in 0.03s.\n",
      "@> 3990 atoms and 1 coordinate set(s) were parsed in 0.05s.\n",
      "@> 1886 atoms and 1 coordinate set(s) were parsed in 0.02s.\n"
     ]
    },
    {
     "name": "stdout",
     "output_type": "stream",
     "text": [
      "CDR1\n",
      "CDR2\n",
      "CDR3\n",
      "5M14_2.pdb\n",
      "CDR1\n",
      "CDR2\n",
      "CDR3\n",
      "4TVS_1.pdb\n",
      "CDR1\n",
      "CDR2\n",
      "CDR3\n",
      "5F7K_1.pdb\n",
      "CDR1\n",
      "CDR2\n",
      "CDR3\n",
      "1RI8_1.pdb\n",
      "CDR1"
     ]
    },
    {
     "name": "stderr",
     "output_type": "stream",
     "text": [
      "@> 1842 atoms and 1 coordinate set(s) were parsed in 0.02s.\n",
      "@> 3073 atoms and 1 coordinate set(s) were parsed in 0.04s.\n",
      "@> 3218 atoms and 1 coordinate set(s) were parsed in 0.04s.\n"
     ]
    },
    {
     "name": "stdout",
     "output_type": "stream",
     "text": [
      "\n",
      "33\n",
      "CDR2\n",
      "CDR3\n",
      "100B\n",
      "4U3X_1.pdb\n",
      "CDR1\n",
      "CDR2\n",
      "CDR3\n",
      "6H70_1.pdb\n",
      "CDR1\n",
      "CDR2\n",
      "CDR3\n",
      "5OMN_1.pdb\n",
      "CDR1\n",
      "CDR2\n",
      "CDR3\n",
      "6C9W_1.pdb\n"
     ]
    },
    {
     "name": "stderr",
     "output_type": "stream",
     "text": [
      "@> 8118 atoms and 1 coordinate set(s) were parsed in 0.08s.\n",
      "@> 3732 atoms and 1 coordinate set(s) were parsed in 0.04s.\n",
      "@> 5109 atoms and 1 coordinate set(s) were parsed in 0.05s.\n",
      "@> 1741 atoms and 1 coordinate set(s) were parsed in 0.02s.\n",
      "@> 4929 atoms and 1 coordinate set(s) were parsed in 0.05s.\n"
     ]
    },
    {
     "name": "stdout",
     "output_type": "stream",
     "text": [
      "CDR1\n",
      "CDR2\n",
      "CDR3\n",
      "3ZKQ_1.pdb\n",
      "CDR1\n",
      "CDR2\n",
      "CDR3\n",
      "5MY6_1.pdb\n",
      "CDR1\n",
      "32\n",
      "CDR2\n",
      "CDR3\n",
      "95\n",
      "2X89_1.pdb\n",
      "CDR1\n",
      "33\n",
      "CDR2\n",
      "CDR3\n",
      "100\n",
      "5FOJ_1.pdb\n",
      "CDR1\n",
      "CDR2\n",
      "CDR3\n",
      "3STB_1.pdb\n"
     ]
    },
    {
     "name": "stderr",
     "output_type": "stream",
     "text": [
      "@> 1767 atoms and 1 coordinate set(s) were parsed in 0.02s.\n",
      "@> 4165 atoms and 1 coordinate set(s) were parsed in 0.05s.\n",
      "@> 3058 atoms and 1 coordinate set(s) were parsed in 0.03s.\n",
      "@> 4459 atoms and 1 coordinate set(s) were parsed in 0.04s.\n",
      "@> 1818 atoms and 1 coordinate set(s) were parsed in 0.02s.\n"
     ]
    },
    {
     "name": "stdout",
     "output_type": "stream",
     "text": [
      "CDR1\n",
      "CDR2\n",
      "CDR3\n",
      "5HVH_1.pdb\n",
      "CDR1\n",
      "CDR2\n",
      "CDR3\n",
      "6H72_1.pdb\n",
      "CDR1\n",
      "CDR2\n",
      "CDR3\n",
      "6MXT_1.pdb\n",
      "CDR1\n",
      "CDR2\n",
      "CDR3\n",
      "5G5R_1.pdb\n",
      "CDR1\n",
      "CDR2\n",
      "CDR3\n",
      "6GKD_1.pdb\n"
     ]
    },
    {
     "name": "stderr",
     "output_type": "stream",
     "text": [
      "@> 4020 atoms and 1 coordinate set(s) were parsed in 0.04s.\n",
      "@> 1813 atoms and 1 coordinate set(s) were parsed in 0.02s.\n",
      "@> 3700 atoms and 1 coordinate set(s) were parsed in 0.03s.\n",
      "@> 2958 atoms and 1 coordinate set(s) were parsed in 0.03s.\n",
      "@> 1994 atoms and 1 coordinate set(s) were parsed in 0.02s.\n"
     ]
    },
    {
     "name": "stdout",
     "output_type": "stream",
     "text": [
      "CDR1\n",
      "CDR2\n",
      "CDR3\n",
      "5JA8_1.pdb\n",
      "CDR1\n",
      "CDR2\n",
      "50\n",
      "CDR3\n",
      "98\n",
      "5C2U_1.pdb\n",
      "CDR1\n",
      "CDR2\n",
      "CDR3\n",
      "5F1O_1.pdb\n",
      "CDR1\n",
      "CDR2\n",
      "CDR3\n",
      "4P2C_1.pdb\n",
      "CDR1\n",
      "CDR2\n",
      "CDR3\n",
      "4LAJ_1.pdb\n"
     ]
    },
    {
     "name": "stderr",
     "output_type": "stream",
     "text": [
      "@> 6249 atoms and 1 coordinate set(s) were parsed in 0.07s.\n",
      "@> 2369 atoms and 1 coordinate set(s) were parsed in 0.02s.\n",
      "@> 3800 atoms and 1 coordinate set(s) were parsed in 0.04s.\n",
      "@> 2949 atoms and 1 coordinate set(s) were parsed in 0.03s.\n",
      "@> 5890 atoms and 1 coordinate set(s) were parsed in 0.06s.\n"
     ]
    },
    {
     "name": "stdout",
     "output_type": "stream",
     "text": [
      "CDR1\n",
      "CDR2\n",
      "50\n",
      "CDR3\n",
      "96\n",
      "6GJQ_1.pdb\n",
      "CDR1\n",
      "CDR2\n",
      "CDR3\n",
      "5M15_2.pdb\n",
      "CDR1\n",
      "CDR2\n",
      "CDR3\n",
      "4LGP_1.pdb\n",
      "CDR1\n",
      "CDR2\n",
      "50\n",
      "CDR3\n",
      "96\n",
      "5VXL_1.pdb\n",
      "CDR1\n",
      "CDR2\n",
      "CDR3\n",
      "4LGR_1.pdb\n"
     ]
    },
    {
     "name": "stderr",
     "output_type": "stream",
     "text": [
      "@> 2893 atoms and 1 coordinate set(s) were parsed in 0.03s.\n",
      "@> 3707 atoms and 1 coordinate set(s) were parsed in 0.04s.\n",
      "@> 1865 atoms and 1 coordinate set(s) were parsed in 0.02s.\n",
      "@> 1729 atoms and 1 coordinate set(s) were parsed in 0.02s.\n",
      "@> 2342 atoms and 1 coordinate set(s) were parsed in 0.02s.\n",
      "@> 1625 atoms and 1 coordinate set(s) were parsed in 0.02s.\n"
     ]
    },
    {
     "name": "stdout",
     "output_type": "stream",
     "text": [
      "CDR1\n",
      "35\n",
      "CDR2\n",
      "CDR3\n",
      "5F7L_1.pdb\n",
      "CDR1\n",
      "CDR2\n",
      "CDR3\n",
      "100B\n",
      "100E\n",
      "4ORZ_1.pdb\n",
      "CDR1\n",
      "CDR2\n",
      "CDR3\n",
      "3P9W_1.pdb\n",
      "CDR1\n",
      "CDR2\n",
      "CDR3\n",
      "4OCM_1.pdb\n",
      "CDR1\n",
      "CDR2\n",
      "CDR3\n",
      "5N88_1.pdb\n",
      "CDR1\n",
      "CDR2\n",
      "CDR3\n",
      "5U4L_1.pdb\n"
     ]
    },
    {
     "name": "stderr",
     "output_type": "stream",
     "text": [
      "@> 3007 atoms and 1 coordinate set(s) were parsed in 0.03s.\n",
      "@> 2955 atoms and 1 coordinate set(s) were parsed in 0.03s.\n",
      "@> 5726 atoms and 1 coordinate set(s) were parsed in 0.05s.\n",
      "@> 2712 atoms and 1 coordinate set(s) were parsed in 0.03s.\n",
      "@> 1826 atoms and 1 coordinate set(s) were parsed in 0.02s.\n",
      "@> 1440 atoms and 1 coordinate set(s) were parsed in 0.02s.\n"
     ]
    },
    {
     "name": "stdout",
     "output_type": "stream",
     "text": [
      "CDR1\n",
      "CDR2\n",
      "CDR3\n",
      "2WZP_1.pdb\n",
      "CDR1\n",
      "33\n",
      "CDR2\n",
      "CDR3\n",
      "6H16_1.pdb\n",
      "CDR1\n",
      "CDR2\n",
      "CDR3\n",
      "6F5G_1.pdb\n",
      "CDR1\n",
      "CDR2\n",
      "CDR3\n",
      "4POU_1.pdb\n",
      "CDR1\n",
      "CDR2\n",
      "CDR3\n",
      "4W2Q_2.pdb\n"
     ]
    },
    {
     "name": "stderr",
     "output_type": "stream",
     "text": [
      "@> 2068 atoms and 1 coordinate set(s) were parsed in 0.02s.\n",
      "@> 1824 atoms and 1 coordinate set(s) were parsed in 0.02s.\n",
      "@> 4551 atoms and 1 coordinate set(s) were parsed in 0.05s.\n",
      "@> 1715 atoms and 1 coordinate set(s) were parsed in 0.02s.\n",
      "@> 1852 atoms and 1 coordinate set(s) were parsed in 0.02s.\n"
     ]
    },
    {
     "name": "stdout",
     "output_type": "stream",
     "text": [
      "CDR1\n",
      "CDR2\n",
      "CDR3\n",
      "5DMJ_1.pdb\n",
      "CDR1\n",
      "CDR2\n",
      "CDR3\n",
      "1ZV5_1.pdb\n",
      "CDR1\n",
      "33\n",
      "CDR2\n",
      "CDR3\n",
      "100B\n",
      "4KRM_1.pdb\n",
      "CDR1\n",
      "CDR2\n",
      "CDR3\n",
      "5E5M_1.pdb\n",
      "CDR1\n",
      "CDR2\n",
      "CDR3\n",
      "2P4A_1.pdb\n",
      "CDR1\n",
      "CDR2\n",
      "CDR3\n",
      "5MWN_2.pdb\n"
     ]
    },
    {
     "name": "stderr",
     "output_type": "stream",
     "text": [
      "@> 5690 atoms and 1 coordinate set(s) were parsed in 0.06s.\n",
      "@> 1944 atoms and 1 coordinate set(s) were parsed in 0.02s.\n",
      "@> 2448 atoms and 1 coordinate set(s) were parsed in 0.03s.\n",
      "@> 5439 atoms and 1 coordinate set(s) were parsed in 0.05s.\n",
      "@> 5865 atoms and 1 coordinate set(s) were parsed in 0.06s.\n"
     ]
    },
    {
     "name": "stdout",
     "output_type": "stream",
     "text": [
      "CDR1\n",
      "CDR2\n",
      "CDR3\n",
      "4NC2_1.pdb\n",
      "CDR1\n",
      "CDR2\n",
      "CDR3\n",
      "4QO1_1.pdb\n",
      "CDR1\n",
      "CDR2\n",
      "CDR3\n",
      "5VNW_1.pdb\n",
      "CDR1\n",
      "CDR2\n",
      "CDR3\n",
      "5VXJ_3.pdb\n",
      "CDR1\n",
      "CDR2\n",
      "CDR3\n",
      "6H7N_1.pdb\n"
     ]
    },
    {
     "name": "stderr",
     "output_type": "stream",
     "text": [
      "@> 3223 atoms and 1 coordinate set(s) were parsed in 0.03s.\n",
      "@> 3312 atoms and 1 coordinate set(s) were parsed in 0.03s.\n",
      "@> 4827 atoms and 1 coordinate set(s) were parsed in 0.05s.\n",
      "@> 3046 atoms and 1 coordinate set(s) were parsed in 0.03s.\n",
      "@> 2133 atoms and 1 coordinate set(s) were parsed in 0.02s.\n"
     ]
    },
    {
     "name": "stdout",
     "output_type": "stream",
     "text": [
      "CDR1\n",
      "CDR2\n",
      "CDR3\n",
      "5MWN_1.pdb\n",
      "CDR1\n",
      "CDR2\n",
      "CDR3\n",
      "5F1K_1.pdb\n",
      "CDR1\n",
      "CDR2\n",
      "CDR3\n",
      "6FV0_1.pdb\n",
      "CDR1\n",
      "CDR2\n",
      "CDR3\n",
      "5M2M_1.pdb\n",
      "CDR1\n",
      "CDR2\n",
      "CDR3\n",
      "6EY0_1.pdb\n"
     ]
    },
    {
     "name": "stderr",
     "output_type": "stream",
     "text": [
      "@> 2139 atoms and 1 coordinate set(s) were parsed in 0.03s.\n",
      "@> 4006 atoms and 1 coordinate set(s) were parsed in 0.04s.\n",
      "@> 2272 atoms and 1 coordinate set(s) were parsed in 0.02s.\n",
      "@> 4542 atoms and 1 coordinate set(s) were parsed in 0.05s.\n",
      "@> 3230 atoms and 1 coordinate set(s) were parsed in 0.03s.\n"
     ]
    },
    {
     "name": "stdout",
     "output_type": "stream",
     "text": [
      "CDR1\n",
      "CDR2\n",
      "CDR3\n",
      "6IBL_1.pdb\n",
      "CDR1\n",
      "CDR2\n",
      "CDR3\n",
      "5SV3_1.pdb\n",
      "CDR1\n",
      "CDR2\n",
      "CDR3\n",
      "6GS4_1.pdb\n",
      "CDR1\n",
      "CDR2\n",
      "CDR3\n",
      "4X7C_2.pdb\n",
      "CDR1\n",
      "CDR2\n",
      "CDR3\n",
      "5O03_1.pdb\n"
     ]
    },
    {
     "name": "stderr",
     "output_type": "stream",
     "text": [
      "@> 3307 atoms and 1 coordinate set(s) were parsed in 0.03s.\n",
      "@> 2967 atoms and 1 coordinate set(s) were parsed in 0.03s.\n",
      "@> 2308 atoms and 1 coordinate set(s) were parsed in 0.03s.\n",
      "@> 2335 atoms and 1 coordinate set(s) were parsed in 0.03s.\n",
      "@> 3738 atoms and 1 coordinate set(s) were parsed in 0.04s.\n"
     ]
    },
    {
     "name": "stdout",
     "output_type": "stream",
     "text": [
      "CDR1\n",
      "CDR2\n",
      "50\n",
      "CDR3\n",
      "100C\n",
      "5LWF_1.pdb\n",
      "CDR1\n",
      "CDR2\n",
      "CDR3\n",
      "6FYU_1.pdb\n",
      "CDR1\n",
      "CDR2\n",
      "CDR3\n",
      "4IOS_2.pdb\n",
      "CDR1\n",
      "CDR2\n",
      "CDR3\n",
      "5O0W_1.pdb\n",
      "CDR1\n",
      "CDR2\n",
      "50\n",
      "CDR3\n",
      "100I\n",
      "5JMO_1.pdb\n"
     ]
    },
    {
     "name": "stderr",
     "output_type": "stream",
     "text": [
      "@> 4449 atoms and 1 coordinate set(s) were parsed in 0.04s.\n",
      "@> 3749 atoms and 1 coordinate set(s) were parsed in 0.04s.\n",
      "@> 1416 atoms and 1 coordinate set(s) were parsed in 0.02s.\n",
      "@> 2361 atoms and 1 coordinate set(s) were parsed in 0.03s.\n",
      "@> 3461 atoms and 1 coordinate set(s) were parsed in 0.05s.\n"
     ]
    },
    {
     "name": "stdout",
     "output_type": "stream",
     "text": [
      "CDR1\n",
      "CDR2\n",
      "CDR3\n",
      "5FUC_2.pdb\n",
      "CDR1\n",
      "33\n",
      "CDR2\n",
      "CDR3\n",
      "100\n",
      "6FE4_1.pdb\n",
      "CDR1\n",
      "CDR2\n",
      "CDR3\n",
      "6GK4_1.pdb\n",
      "CDR1\n",
      "CDR2\n",
      "CDR3\n",
      "6B20_1.pdb\n",
      "CDR1\n",
      "CDR2\n",
      "CDR3\n",
      "3RJQ_1.pdb\n"
     ]
    },
    {
     "name": "stderr",
     "output_type": "stream",
     "text": [
      "@> 3278 atoms and 1 coordinate set(s) were parsed in 0.03s.\n",
      "@> 3202 atoms and 1 coordinate set(s) were parsed in 0.03s.\n",
      "@> 3331 atoms and 1 coordinate set(s) were parsed in 0.04s.\n",
      "@> 2428 atoms and 1 coordinate set(s) were parsed in 0.03s.\n",
      "@> 2877 atoms and 1 coordinate set(s) were parsed in 0.03s.\n"
     ]
    },
    {
     "name": "stdout",
     "output_type": "stream",
     "text": [
      "CDR1\n",
      "CDR2\n",
      "CDR3\n",
      "4X7C_1.pdb\n",
      "CDR1\n",
      "CDR2\n",
      "CDR3\n",
      "5O03_2.pdb\n",
      "CDR1\n",
      "CDR2\n",
      "50\n",
      "CDR3\n",
      "100D\n",
      "3EZJ_1.pdb\n",
      "CDR1\n",
      "CDR2\n",
      "CDR3\n",
      "4HEM_1.pdb\n",
      "CDR1\n",
      "CDR2\n",
      "CDR3\n",
      "4IOS_1.pdb\n"
     ]
    },
    {
     "name": "stderr",
     "output_type": "stream",
     "text": [
      "@> 2299 atoms and 1 coordinate set(s) were parsed in 0.03s.\n",
      "@> 2109 atoms and 1 coordinate set(s) were parsed in 0.02s.\n",
      "@> 2749 atoms and 1 coordinate set(s) were parsed in 0.03s.\n",
      "@> 2724 atoms and 1 coordinate set(s) were parsed in 0.03s.\n",
      "@> 4183 atoms and 1 coordinate set(s) were parsed in 0.05s.\n"
     ]
    },
    {
     "name": "stdout",
     "output_type": "stream",
     "text": [
      "CDR1\n",
      "CDR2\n",
      "CDR3\n",
      "4EIG_1.pdb\n",
      "CDR1\n",
      "CDR2\n",
      "CDR3\n",
      "4WEN_1.pdb\n",
      "CDR1\n",
      "CDR2\n",
      "CDR3\n",
      "4WEU_1.pdb\n",
      "CDR1\n",
      "CDR2\n",
      "CDR3\n",
      "6F2G_1.pdb\n",
      "CDR1\n",
      "CDR2\n",
      "CDR3\n",
      "3K74_1.pdb\n"
     ]
    },
    {
     "name": "stderr",
     "output_type": "stream",
     "text": [
      "@> 2149 atoms and 1 coordinate set(s) were parsed in 0.02s.\n",
      "@> 3756 atoms and 1 coordinate set(s) were parsed in 0.04s.\n",
      "@> 2751 atoms and 1 coordinate set(s) were parsed in 0.03s.\n",
      "@> 1427 atoms and 1 coordinate set(s) were parsed in 0.02s.\n",
      "@> 2372 atoms and 1 coordinate set(s) were parsed in 0.03s.\n",
      "@> 1890 atoms and 1 coordinate set(s) were parsed in 0.02s.\n"
     ]
    },
    {
     "name": "stdout",
     "output_type": "stream",
     "text": [
      "CDR1\n",
      "CDR2\n",
      "CDR3\n",
      "5FUC_1.pdb\n",
      "CDR1\n",
      "33\n",
      "CDR2\n",
      "CDR3\n",
      "100\n",
      "3G9A_1.pdb\n",
      "CDR1\n",
      "CDR2\n",
      "CDR3\n",
      "100J\n",
      "4GFT_1.pdb\n",
      "CDR1\n",
      "CDR2\n",
      "CDR3\n",
      "6R7T_1.pdb\n",
      "CDR1\n",
      "CDR2\n",
      "CDR3\n",
      "1ZVY_1.pdb\n",
      "CDR1\n",
      "CDR2\n",
      "CDR3\n",
      "4CDG_1.pdb\n"
     ]
    },
    {
     "name": "stderr",
     "output_type": "stream",
     "text": [
      "@> 5822 atoms and 1 coordinate set(s) were parsed in 0.06s.\n",
      "@> 2295 atoms and 1 coordinate set(s) were parsed in 0.04s.\n",
      "@> 11304 atoms and 1 coordinate set(s) were parsed in 0.13s.\n"
     ]
    },
    {
     "name": "stdout",
     "output_type": "stream",
     "text": [
      "CDR1\n",
      "CDR2\n",
      "CDR3\n",
      "4DKA_2.pdb\n",
      "CDR1\n",
      "CDR2\n",
      "CDR3\n",
      "3V0A_1.pdb\n",
      "CDR1\n",
      "CDR2\n",
      "CDR3\n",
      "5C1M_1.pdb\n"
     ]
    },
    {
     "name": "stderr",
     "output_type": "stream",
     "text": [
      "@> 3234 atoms and 1 coordinate set(s) were parsed in 0.04s.\n",
      "@> 3225 atoms and 1 coordinate set(s) were parsed in 0.03s.\n",
      "@> 4066 atoms and 1 coordinate set(s) were parsed in 0.04s.\n",
      "@> 4453 atoms and 1 coordinate set(s) were parsed in 0.04s.\n",
      "@> 3804 atoms and 1 coordinate set(s) were parsed in 0.04s.\n"
     ]
    },
    {
     "name": "stdout",
     "output_type": "stream",
     "text": [
      "CDR1\n",
      "CDR2\n",
      "CDR3\n",
      "5O05_1.pdb\n",
      "CDR1\n",
      "CDR2\n",
      "CDR3\n",
      "6EY6_1.pdb\n",
      "CDR1\n",
      "CDR2\n",
      "CDR3\n",
      "5VAK_1.pdb\n",
      "CDR1\n",
      "CDR2\n",
      "CDR3\n",
      "5NBL_1.pdb\n",
      "CDR1\n",
      "CDR2\n",
      "CDR3\n",
      "4EJ1_1.pdb\n"
     ]
    },
    {
     "name": "stderr",
     "output_type": "stream",
     "text": [
      "@> 2225 atoms and 1 coordinate set(s) were parsed in 0.02s.\n",
      "@> 2229 atoms and 1 coordinate set(s) were parsed in 0.02s.\n",
      "@> 1431 atoms and 1 coordinate set(s) were parsed in 0.02s.\n",
      "@> 5024 atoms and 1 coordinate set(s) were parsed in 0.06s.\n",
      "@> 2296 atoms and 1 coordinate set(s) were parsed in 0.03s.\n"
     ]
    },
    {
     "name": "stdout",
     "output_type": "stream",
     "text": [
      "CDR1\n",
      "CDR2\n",
      "CDR3\n",
      "4I1N_1.pdb\n",
      "CDR1\n",
      "CDR2\n",
      "CDR3\n",
      "5O2U_1.pdb\n",
      "CDR1\n",
      "CDR2\n",
      "CDR3\n",
      "5J1T_1.pdb\n",
      "CDR1\n",
      "CDR2\n",
      "CDR3\n",
      "5BOP_1.pdb\n",
      "CDR1\n",
      "CDR2\n",
      "CDR3\n",
      "4LHQ_1.pdb\n"
     ]
    },
    {
     "name": "stderr",
     "output_type": "stream",
     "text": [
      "@> 3029 atoms and 1 coordinate set(s) were parsed in 0.03s.\n",
      "@> 2943 atoms and 1 coordinate set(s) were parsed in 0.03s.\n",
      "@> 1029 atoms and 1 coordinate set(s) were parsed in 0.01s.\n",
      "@> 2236 atoms and 1 coordinate set(s) were parsed in 0.03s.\n",
      "@> 3012 atoms and 1 coordinate set(s) were parsed in 0.03s.\n",
      "@> 1522 atoms and 1 coordinate set(s) were parsed in 0.02s.\n"
     ]
    },
    {
     "name": "stdout",
     "output_type": "stream",
     "text": [
      "CDR1\n",
      "CDR2\n",
      "CDR3\n",
      "4LHJ_1.pdb\n",
      "CDR1\n",
      "CDR2\n",
      "CDR3\n",
      "5HM1_1.pdb\n",
      "CDR1\n",
      "CDR2\n",
      "CDR3\n",
      "4I13_1.pdb\n",
      "CDR1\n",
      "CDR2\n",
      "CDR3\n",
      "5J57_1.pdb\n",
      "CDR1\n",
      "CDR2\n",
      "50\n",
      "CDR3\n",
      "100E\n",
      "2XT1_1.pdb\n",
      "CDR1\n",
      "CDR2\n",
      "CDR3\n",
      "5M2I_1.pdb\n"
     ]
    },
    {
     "name": "stderr",
     "output_type": "stream",
     "text": [
      "@> 3218 atoms and 1 coordinate set(s) were parsed in 0.04s.\n",
      "@> 2855 atoms and 1 coordinate set(s) were parsed in 0.04s.\n",
      "@> 8151 atoms and 1 coordinate set(s) were parsed in 0.08s.\n",
      "@> 1945 atoms and 1 coordinate set(s) were parsed in 0.02s.\n"
     ]
    },
    {
     "name": "stdout",
     "output_type": "stream",
     "text": [
      "CDR1\n",
      "CDR2\n",
      "CDR3\n",
      "5F21_1.pdb\n",
      "CDR1\n",
      "CDR2\n",
      "CDR3\n",
      "6EHG_1.pdb\n",
      "CDR1\n",
      "CDR2\n",
      "CDR3\n",
      "1OP9_1.pdb\n",
      "CDR1\n",
      "CDR2\n",
      "CDR3\n",
      "4GRW_3.pdb\n"
     ]
    },
    {
     "name": "stderr",
     "output_type": "stream",
     "text": [
      "@> 3269 atoms and 1 coordinate set(s) were parsed in 0.04s.\n",
      "@> 7912 atoms and 1 coordinate set(s) were parsed in 0.08s.\n",
      "@> 7731 atoms and 1 coordinate set(s) were parsed in 0.07s.\n"
     ]
    },
    {
     "name": "stdout",
     "output_type": "stream",
     "text": [
      "CDR1\n",
      "CDR2\n",
      "CDR3\n",
      "5C3L_1.pdb\n",
      "CDR1\n",
      "CDR2\n",
      "CDR3\n",
      "5VAN_1.pdb\n",
      "CDR1\n",
      "CDR2\n",
      "CDR3\n",
      "3K1K_1.pdb\n"
     ]
    },
    {
     "name": "stderr",
     "output_type": "stream",
     "text": [
      "@> 2641 atoms and 1 coordinate set(s) were parsed in 0.03s.\n",
      "@> 2851 atoms and 1 coordinate set(s) were parsed in 0.03s.\n",
      "@> 1837 atoms and 1 coordinate set(s) were parsed in 0.02s.\n",
      "@> 3848 atoms and 1 coordinate set(s) were parsed in 0.04s.\n",
      "@> 2748 atoms and 1 coordinate set(s) were parsed in 0.03s.\n"
     ]
    },
    {
     "name": "stdout",
     "output_type": "stream",
     "text": [
      "CDR1\n",
      "CDR2\n",
      "CDR3\n",
      "6NBF_1.pdb\n",
      "CDR1\n",
      "CDR2\n",
      "CDR3\n",
      "95\n",
      "100C\n",
      "2P43_1.pdb\n",
      "CDR1\n",
      "CDR2\n",
      "CDR3\n",
      "5IMM_1.pdb\n",
      "CDR1\n",
      "CDR2\n",
      "CDR3\n",
      "4WEM_1.pdb\n",
      "CDR1\n",
      "CDR2\n",
      "CDR3\n",
      "5HVF_1.pdb\n"
     ]
    },
    {
     "name": "stderr",
     "output_type": "stream",
     "text": [
      "@> 3918 atoms and 1 coordinate set(s) were parsed in 0.05s.\n",
      "@> 2336 atoms and 1 coordinate set(s) were parsed in 0.03s.\n",
      "@> 3325 atoms and 1 coordinate set(s) were parsed in 0.04s.\n",
      "@> 3344 atoms and 1 coordinate set(s) were parsed in 0.04s.\n",
      "@> 3226 atoms and 1 coordinate set(s) were parsed in 0.04s.\n"
     ]
    },
    {
     "name": "stdout",
     "output_type": "stream",
     "text": [
      "CDR1\n",
      "CDR2\n",
      "CDR3\n",
      "6FYT_1.pdb\n",
      "CDR1\n",
      "CDR2\n",
      "CDR3\n",
      "5O02_1.pdb\n",
      "CDR1\n",
      "CDR2\n",
      "CDR3\n",
      "6DO1_1.pdb\n",
      "CDR1\n",
      "CDR2\n",
      "CDR3\n",
      "4XT1_1.pdb\n"
     ]
    },
    {
     "name": "stderr",
     "output_type": "stream",
     "text": [
      "@> 1922 atoms and 1 coordinate set(s) were parsed in 0.03s.\n",
      "@> 1956 atoms and 1 coordinate set(s) were parsed in 0.02s.\n",
      "@> 3022 atoms and 1 coordinate set(s) were parsed in 0.03s.\n",
      "@> 2996 atoms and 1 coordinate set(s) were parsed in 0.04s.\n"
     ]
    },
    {
     "name": "stdout",
     "output_type": "stream",
     "text": [
      "CDR1\n",
      "CDR2\n",
      "CDR3\n",
      "5E7F_1.pdb\n",
      "CDR1\n",
      "CDR2\n",
      "CDR3\n",
      "100H\n",
      "4GRW_1.pdb\n",
      "CDR1\n",
      "CDR2\n",
      "50\n",
      "CDR3\n",
      "98\n",
      "6CWG_1.pdb\n",
      "CDR1\n",
      "CDR2\n",
      "52A\n",
      "CDR3\n",
      "99\n",
      "5J56_1.pdb\n",
      "CDR1\n",
      "CDR2\n",
      "CDR3\n",
      "5E0Q_1.pdb\n"
     ]
    },
    {
     "name": "stderr",
     "output_type": "stream",
     "text": [
      "@> 4277 atoms and 1 coordinate set(s) were parsed in 0.05s.\n",
      "@> 3250 atoms and 1 coordinate set(s) were parsed in 0.04s.\n",
      "@> 2651 atoms and 1 coordinate set(s) were parsed in 0.03s.\n",
      "@> 8676 atoms and 1 coordinate set(s) were parsed in 0.08s.\n"
     ]
    },
    {
     "name": "stdout",
     "output_type": "stream",
     "text": [
      "CDR1\n",
      "CDR2\n",
      "CDR3\n",
      "5O04_2.pdb\n",
      "CDR1\n",
      "CDR2\n",
      "CDR3\n",
      "6I6J_1.pdb\n",
      "CDR1\n",
      "CDR2\n",
      "CDR3\n",
      "1KXV_1.pdb\n",
      "CDR1\n",
      "30\n",
      "CDR2\n",
      "CDR3\n",
      "100C\n",
      "1MVF_2.pdb\n"
     ]
    },
    {
     "name": "stderr",
     "output_type": "stream",
     "text": [
      "@> 1541 atoms and 1 coordinate set(s) were parsed in 0.02s.\n",
      "@> 1746 atoms and 1 coordinate set(s) were parsed in 0.02s.\n",
      "@> 1650 atoms and 1 coordinate set(s) were parsed in 0.02s.\n",
      "@> 1964 atoms and 1 coordinate set(s) were parsed in 0.02s.\n",
      "@> 3392 atoms and 1 coordinate set(s) were parsed in 0.04s.\n",
      "@> 1678 atoms and 1 coordinate set(s) were parsed in 0.02s.\n",
      "@> 1599 atoms and 1 coordinate set(s) were parsed in 0.02s.\n"
     ]
    },
    {
     "name": "stdout",
     "output_type": "stream",
     "text": [
      "CDR1\n",
      "CDR2\n",
      "CDR3\n",
      "6H1F_1.pdb\n",
      "CDR1\n",
      "CDR2\n",
      "CDR3\n",
      "2VYR_4.pdb\n",
      "CDR1\n",
      "CDR2\n",
      "CDR3\n",
      "5M2J_1.pdb\n",
      "CDR1\n",
      "CDR2\n",
      "CDR3\n",
      "5Y80_1.pdb\n",
      "CDR1\n",
      "CDR2\n",
      "CDR3\n",
      "3K7U_1.pdb\n",
      "CDR1\n",
      "CDR2\n",
      "CDR3\n",
      "1MVF_1.pdb\n",
      "CDR1\n",
      "CDR2\n",
      "CDR3\n",
      "5LHR_1.pdb\n"
     ]
    },
    {
     "name": "stderr",
     "output_type": "stream",
     "text": [
      "@> 2802 atoms and 1 coordinate set(s) were parsed in 0.03s.\n",
      "@> 2463 atoms and 1 coordinate set(s) were parsed in 0.02s.\n",
      "@> 1823 atoms and 1 coordinate set(s) were parsed in 0.02s.\n",
      "@> 7708 atoms and 1 coordinate set(s) were parsed in 0.09s.\n"
     ]
    },
    {
     "name": "stdout",
     "output_type": "stream",
     "text": [
      "CDR1\n",
      "CDR2\n",
      "CDR3\n",
      "5MP2_1.pdb\n",
      "CDR1\n",
      "CDR2\n",
      "CDR3\n",
      "4KML_1.pdb\n",
      "CDR1\n",
      "CDR2\n",
      "CDR3\n",
      "5VAQ_1.pdb\n",
      "CDR1\n",
      "CDR2\n",
      "CDR3\n",
      "4X7F_1.pdb\n"
     ]
    },
    {
     "name": "stderr",
     "output_type": "stream",
     "text": [
      "@> 3204 atoms and 1 coordinate set(s) were parsed in 0.04s.\n"
     ]
    },
    {
     "name": "stdout",
     "output_type": "stream",
     "text": [
      "CDR1\n",
      "CDR2\n",
      "CDR3\n"
     ]
    }
   ],
   "source": [
    "data=[]\n",
    "cdr3_lens  = []\n",
    "for idx,row in pdb_info.iterrows():\n",
    "    reso = row['resolution']\n",
    "    if reso>3:\n",
    "        continue\n",
    "    pdb_name = row['pdb']\n",
    "    print(pdb_name)\n",
    "    structure = parsePDB(os.path.join(Dirname,pdb_name))\n",
    "    cdr12_cys=[]\n",
    "    cdr1_selection = structure.select(\"chain H resnum 26 to 35\").copy()\n",
    "    cdr2_selection = structure.select(\"chain H resnum 50 to 58\").copy()\n",
    "    cdr3_selection = structure.select(\"chain H resnum 94 to 102\").copy()\n",
    "    cdr3_cys=[]\n",
    "    cdr3_len = len(cdr3_selection.ca.getResnames())\n",
    "    cdr3_lens.append(cdr3_len)\n",
    "    print(\"CDR1\")\n",
    "    for aa in cdr1_selection.ca:\n",
    "        if aa.getResname() == \"CYS\":\n",
    "            resnum = str(aa.getResnum())+aa.getIcode()\n",
    "            print(resnum)\n",
    "            cdr12_cys.append(resnum)\n",
    "    print(\"CDR2\")\n",
    "    for aa in cdr2_selection.ca:\n",
    "        if aa.getResname() == \"CYS\":\n",
    "            resnum = str(aa.getResnum())+aa.getIcode()\n",
    "            print(resnum)\n",
    "            cdr12_cys.append(resnum)\n",
    "    print(\"CDR3\")\n",
    "    for aa in cdr3_selection.ca:\n",
    "        if aa.getResname() == \"CYS\":\n",
    "            resnum = str(aa.getResnum())+aa.getIcode()\n",
    "            print(resnum)\n",
    "            cdr3_cys.append(resnum)\n",
    "    dists = [100]\n",
    "    for aa_cdr12_cys in cdr12_cys:\n",
    "        for aa_cdr3_cys in cdr3_cys:\n",
    "            AA_CDR1_CYS = structure.select(f\"resnum {aa_cdr12_cys} name SG chain H\")\n",
    "            AA_CDR3_CYS = structure.select(f\"resnum {aa_cdr3_cys} name SG chain H\")\n",
    "            distance = calcDistance(AA_CDR1_CYS,AA_CDR3_CYS)[0]\n",
    "            dists.append(distance)\n",
    "    data.append(np.min(dists))\n",
    "    #AA37 = structure.select(\"chain H resnum 37 ca\").getResnames()[0]\n",
    "    #AA103 = structure.select(\"chain H resnum 103 ca\").getResnames()[0]\n",
    "    #if not (AA37 in (\"TRP\",\"TYR\",\"PHE\") and  AA103 in (\"TRP\",\"TYR\",\"PHE\")):\n",
    "    #    continue\n",
    "    #AA37_ring = structure.select(f\"resnum 37 name {ATOM_NAMES[AA37]} chain H\")\n",
    "    #AA103_ring = structure.select(f\"resnum 103 name {ATOM_NAMES[AA103]} chain H\")\n",
    "    \n",
    "    \n",
    "    #data.append((pdb_name,reso,AA37,AA103,distance,angle,projection_dist))"
   ]
  },
  {
   "cell_type": "code",
   "execution_count": 53,
   "metadata": {},
   "outputs": [
    {
     "data": {
      "text/plain": [
       "(array([17.,  0.,  0.,  0.,  0.,  0.,  0.,  0.,  0.,  1.]),\n",
       " array([2.02320884, 2.10651901, 2.18982918, 2.27313935, 2.35644953,\n",
       "        2.4397597 , 2.52306987, 2.60638004, 2.68969021, 2.77300039,\n",
       "        2.85631056]),\n",
       " <BarContainer object of 10 artists>)"
      ]
     },
     "execution_count": 53,
     "metadata": {},
     "output_type": "execute_result"
    },
    {
     "data": {
      "image/png": "[encoded data removed]",
      "text/plain": [
       "<Figure size 432x288 with 1 Axes>"
      ]
     },
     "metadata": {
      "needs_background": "light"
     },
     "output_type": "display_data"
    }
   ],
   "source": [
    "plt.hist([i for i in data if i!=100])"
   ]
  },
  {
   "cell_type": "code",
   "execution_count": 58,
   "metadata": {},
   "outputs": [
    {
     "data": {
      "text/plain": [
       "17"
      ]
     },
     "execution_count": 58,
     "metadata": {},
     "output_type": "execute_result"
    }
   ],
   "source": [
    "len([(i,j) for i,j in zip(data,cdr3_lens) if i<2.2])"
   ]
  },
  {
   "cell_type": "code",
   "execution_count": 59,
   "metadata": {},
   "outputs": [
    {
     "data": {
      "text/plain": [
       "[(2.0321262263944107, 20),\n",
       " (2.0309591330206507, 18),\n",
       " (2.053288338251598, 8),\n",
       " (2.0253446620266886, 20),\n",
       " (2.0343986826578373, 13),\n",
       " (2.0367879123757553, 15),\n",
       " (2.023208837465871, 9),\n",
       " (2.0333956821041994, 13),\n",
       " (2.048106198418432, 24),\n",
       " (2.0439486294914833, 25),\n",
       " (2.051079228113829, 17),\n",
       " (2.048036132493764, 25),\n",
       " (2.047107960025555, 17),\n",
       " (2.023760114242792, 18),\n",
       " (2.057078997024664, 18),\n",
       " (2.029004928530238, 19),\n",
       " (2.0728229543306416, 14)]"
      ]
     },
     "execution_count": 59,
     "metadata": {},
     "output_type": "execute_result"
    }
   ],
   "source": [
    "[(i,j) for i,j in zip(data,cdr3_lens) if i<2.2]"
   ]
  },
  {
   "cell_type": "code",
   "execution_count": 74,
   "metadata": {},
   "outputs": [],
   "source": [
    "def length_class(x):\n",
    "    if x<5:\n",
    "        return \"<5\"\n",
    "    elif x<10:\n",
    "        return \"5~10\"\n",
    "    elif x<15:\n",
    "        return \"10~15\"\n",
    "    elif x<20:\n",
    "        return \"15~20\"\n",
    "    else:\n",
    "        return \">20\""
   ]
  },
  {
   "cell_type": "code",
   "execution_count": 71,
   "metadata": {},
   "outputs": [],
   "source": [
    "disulfide_cdr3_len = pd.DataFrame(list(zip([int(i<2.2) for i in data],cdr3_lens)),columns=['disulfide','cdr3 length'])"
   ]
  },
  {
   "cell_type": "code",
   "execution_count": 75,
   "metadata": {},
   "outputs": [],
   "source": [
    "disulfide_cdr3_len['length group'] = disulfide_cdr3_len['cdr3 length'].apply(lambda x: length_class(x))"
   ]
  },
  {
   "cell_type": "code",
   "execution_count": 77,
   "metadata": {},
   "outputs": [
    {
     "name": "stderr",
     "output_type": "stream",
     "text": [
      "No handles with labels found to put in legend.\n"
     ]
    },
    {
     "data": {
      "text/plain": [
       "<matplotlib.legend.Legend at 0x7f88b9005d68>"
      ]
     },
     "execution_count": 77,
     "metadata": {},
     "output_type": "execute_result"
    },
    {
     "data": {
      "image/png": "[encoded data removed]",
      "text/plain": [
       "<Figure size 720x504 with 1 Axes>"
      ]
     },
     "metadata": {
      "needs_background": "light"
     },
     "output_type": "display_data"
    }
   ],
   "source": [
    "fig,axes = plt.subplots(1,1,figsize=(10,7))\n",
    "sns.barplot(x='length group',y='disulfide',data=disulfide_cdr3_len,ax=axes,order=['<5','5~10','10~15','15~20','>20'])\n",
    "plt.legend(loc=\"upper left\")"
   ]
  }
 ],
 "metadata": {
  "kernelspec": {
   "display_name": "Python 3",
   "language": "python",
   "name": "python3"
  },
  "language_info": {
   "codemirror_mode": {
    "name": "ipython",
    "version": 3
   },
   "file_extension": ".py",
   "mimetype": "text/x-python",
   "name": "python",
   "nbconvert_exporter": "python",
   "pygments_lexer": "ipython3",
   "version": "3.6.8"
  }
 },
 "nbformat": 4,
 "nbformat_minor": 4
}
