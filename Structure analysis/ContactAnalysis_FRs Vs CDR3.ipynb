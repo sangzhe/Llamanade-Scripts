{
 "cells": [
  {
   "cell_type": "code",
   "execution_count": 1,
   "metadata": {
    "pycharm": {
     "is_executing": false
    }
   },
   "outputs": [],
   "source": [
    "import Bio.PDB\n",
    "import numpy\n",
    "import pandas as pd\n",
    "import os\n",
    "from Bio.PDB.Polypeptide import is_aa,three_to_one\n",
    "from Bio.SeqUtils import seq1\n",
    "import seaborn as sns\n",
    "import matplotlib.pyplot as plt\n",
    "import numpy as np\n",
    "from tqdm import tqdm_notebook\n",
    "from collections import Counter\n",
    "plt.rcParams['axes.prop_cycle'] = plt.cycler(color=plt.cm.Set2.colors)"
   ]
  },
  {
   "cell_type": "code",
   "execution_count": 2,
   "metadata": {
    "pycharm": {
     "is_executing": false
    }
   },
   "outputs": [],
   "source": [
    "sns.set_context(\"talk\")\n",
    "plt.rcParams['svg.fonttype'] = 'none'"
   ]
  },
  {
   "cell_type": "code",
   "execution_count": 3,
   "metadata": {
    "pycharm": {
     "is_executing": false
    }
   },
   "outputs": [],
   "source": [
    "import re\n",
    "\n",
    "def atoi(text):\n",
    "    return int(text) if text.isdigit() else text\n",
    "\n",
    "def natural_keys(text):\n",
    "    '''\n",
    "    alist.sort(key=natural_keys) sorts in human order\n",
    "    http://nedbatchelder.com/blog/200712/human_sorting.html\n",
    "    (See Toothy's implementation in the comments)\n",
    "    '''\n",
    "    return [ atoi(c) for c in re.split(r'(\\d+)', text) ]"
   ]
  },
  {
   "cell_type": "code",
   "execution_count": 4,
   "metadata": {
    "pycharm": {
     "is_executing": false
    }
   },
   "outputs": [],
   "source": [
    "def calc_residue_dist_CA(residue_one, residue_two) :\n",
    "    \"\"\"Returns the C-alpha distance between two residues\"\"\"\n",
    "    try:\n",
    "        diff_vector  = residue_one[\"CA\"].coord - residue_two[\"CA\"].coord\n",
    "        return numpy.sqrt(numpy.sum(diff_vector * diff_vector))\n",
    "    except:\n",
    "        return calc_residue_dist_2(residue_one,residue_two)\n",
    "\n",
    "def calc_residue_dist_CB(residue_one, residue_two) :\n",
    "    \"\"\"Returns the C-alpha distance between two residues\"\"\"\n",
    "    try:\n",
    "        diff_vector  = residue_one[\"CB\"].coord - residue_two[\"CB\"].coord\n",
    "        return numpy.sqrt(numpy.sum(diff_vector * diff_vector))\n",
    "    except:\n",
    "        return calc_residue_dist_CA(residue_one,residue_two)\n",
    "        \n",
    "\n",
    "def calc_residue_dist_2(residue_one, residue_two) :\n",
    "    \"\"\"Returns the C-alpha distance between two residues\"\"\"\n",
    "    min_distance = 100\n",
    "    for atom_one in residue_one:\n",
    "        if atom_one.name.startswith(\"H\"):\n",
    "            continue\n",
    "        for atom_two in residue_two:\n",
    "            if atom_two.name.startswith(\"H\"):\n",
    "                continue\n",
    "            diff_vector  = atom_one.coord - atom_two.coord\n",
    "            dist = numpy.sqrt(numpy.sum(diff_vector * diff_vector))\n",
    "            if dist<min_distance:\n",
    "                min_distance = dist\n",
    "    return min_distance\n",
    "\n",
    "def calc_dist_matrix(chain_one, chain_two,method) :\n",
    "    \"\"\"Returns a matrix of C-alpha distances between two chains\"\"\"\n",
    "    atoms_chain_one = [res for res in chain_one if is_aa(res)]\n",
    "    atoms_chain_two =  [res for res in chain_two if is_aa(res)]\n",
    "    answer = numpy.zeros((len(atoms_chain_one), len(atoms_chain_two)), numpy.float)\n",
    "    #print(answer.shape)\n",
    "    for row, residue_one in enumerate(atoms_chain_one) :\n",
    "        for col, residue_two in enumerate(atoms_chain_two) :\n",
    "            answer[row, col] = method(residue_one, residue_two)\n",
    "    return answer"
   ]
  },
  {
   "cell_type": "markdown",
   "metadata": {},
   "source": [
    "# VHH"
   ]
  },
  {
   "cell_type": "code",
   "execution_count": 28,
   "metadata": {
    "pycharm": {
     "is_executing": true
    }
   },
   "outputs": [
    {
     "name": "stderr",
     "output_type": "stream",
     "text": [
      "/Users/zhesang/anaconda3/lib/python3.6/site-packages/ipykernel_launcher.py:3: TqdmDeprecationWarning: This function will be removed in tqdm==5.0.0\n",
      "Please use `tqdm.notebook.tqdm` instead of `tqdm.tqdm_notebook`\n",
      "  This is separate from the ipykernel package so we can avoid doing imports until\n"
     ]
    },
    {
     "data": {
      "application/vnd.jupyter.widget-view+json": {
       "model_id": "5238dc0d17fc4574948895099bb6cd81",
       "version_major": 2,
       "version_minor": 0
      },
      "text/plain": [
       "HBox(children=(FloatProgress(value=0.0, max=192.0), HTML(value='')))"
      ]
     },
     "metadata": {},
     "output_type": "display_data"
    },
    {
     "name": "stdout",
     "output_type": "stream",
     "text": [
      ".DS_Store\n",
      "'utf-8' codec can't decode byte 0x87 in position 27: invalid start byte\n"
     ]
    },
    {
     "name": "stderr",
     "output_type": "stream",
     "text": [
      "/Users/zhesang/anaconda3/lib/python3.6/site-packages/Bio/PDB/StructureBuilder.py:90: PDBConstructionWarning: WARNING: Chain E is discontinuous at line 3747.\n",
      "  PDBConstructionWarning)\n"
     ]
    },
    {
     "name": "stdout",
     "output_type": "stream",
     "text": [
      "Superimpose_45_103.pse\n",
      "'utf-8' codec can't decode byte 0x88 in position 49: invalid start byte\n",
      "5J57_1.pdb\n",
      "'44' is not in list\n",
      "\n"
     ]
    }
   ],
   "source": [
    "vhh_FR2_CDR3_contact=[]\n",
    "\n",
    "for pdb_filename in tqdm_notebook(os.listdir(\"NR_H_Protein_Martin\")):\n",
    "    try:\n",
    "        #pdb_filename = next(pdb_iter)\n",
    "\n",
    "        pdb_code = pdb_filename.split(\".\")[0]\n",
    "        #print(f'process {pdb_code}')\n",
    "        structure = Bio.PDB.PDBParser().get_structure(pdb_code, \"./NR_H_Protein_Martin/\"+pdb_filename)\n",
    "        model = structure[0]\n",
    "        H_chain = model['H']\n",
    "        H_numbering = [\"\".join(np.array(res.id).astype(str)).replace(\" \",\"\") for res in H_chain if is_aa(res)]\n",
    "        definition = [ H_numbering.index(\"26\"),\n",
    "                  H_numbering.index(\"36\"),\n",
    "                  H_numbering.index(\"50\"),\n",
    "                  H_numbering.index(\"59\"),\n",
    "                  H_numbering.index(\"95\"),\n",
    "                  H_numbering.index(\"103\"),\n",
    "        ]\n",
    "        FERL=[H_numbering.index('44'),\n",
    "         H_numbering.index('44'),\n",
    "            H_numbering.index('45'),\n",
    "        H_numbering.index('47')]\n",
    "\n",
    "        dist_matrix = calc_dist_matrix(H_chain, H_chain,calc_residue_dist_CA)\n",
    "\n",
    "        CDR3_lenth = definition[5]-definition[4]\n",
    "\n",
    "        if True in np.unique(np.hstack(dist_matrix[definition[4]:definition[5],FERL])<8):\n",
    "            vhh_FR2_CDR3_contact.append((1,CDR3_lenth,pdb_code))\n",
    "        else:\n",
    "            vhh_FR2_CDR3_contact.append((0,CDR3_lenth,pdb_code))\n",
    "    except Exception as e:\n",
    "        print(pdb_filename)\n",
    "        print(e)\n",
    "        \n",
    "    \n",
    "        \n",
    "\n",
    "\n",
    "\n",
    "\n",
    "    #dist_matrix = calc_dist_matrix(model[\"A\"], model[\"H\"])\n",
    "    #seq_chain_one = [\"\".join(np.array(res.id).astype(str)).replace(\" \",\"\") for res in model['H'] if is_aa(res)]\n",
    "    #print(seq_chain_one)\n",
    "    #seq_chain_two = [\"\".join(np.array(res.id).astype(str)).replace(\" \",\"\") for res in model['A'] if is_aa(res)]\n",
    "    #contact_map = dist_matrix < 12"
   ]
  },
  {
   "cell_type": "code",
   "execution_count": 6,
   "metadata": {
    "pycharm": {
     "is_executing": true
    }
   },
   "outputs": [],
   "source": [
    "def annotate(f):\n",
    "    content = [i for i in open(f).read().splitlines() if i.startswith(\"REMARK\")]\n",
    "    molecue_id = None\n",
    "    for l in content:\n",
    "        if \"CHAIN H\" in l:\n",
    "            molecue_id = l.split(\" \")[-1]\n",
    "            break\n",
    "    for l in content:\n",
    "        if f\"SPECIES\" in l:\n",
    "            _mol = l.split(\":\")[1].strip()\n",
    "            if _mol == molecue_id:\n",
    "                if  \"HOMO\" in l and not \"MUS\" in l:\n",
    "                    return \"Human\"\n",
    "                else:\n",
    "                    return \"else\"\n",
    "    return None"
   ]
  },
  {
   "cell_type": "code",
   "execution_count": 7,
   "metadata": {
    "pycharm": {
     "is_executing": true
    }
   },
   "outputs": [],
   "source": [
    "human_ig_pdb = []\n",
    "\n",
    "for i in os.listdir(\"NR_LH_Protein_Martin\"):\n",
    "    ret = annotate(\"NR_LH_Protein_Martin/\"+i)\n",
    "    if ret==\"Human\":\n",
    "        human_ig_pdb.append(i)\n",
    "        "
   ]
  },
  {
   "cell_type": "markdown",
   "metadata": {},
   "source": [
    "# VH-VL"
   ]
  },
  {
   "cell_type": "code",
   "execution_count": 8,
   "metadata": {},
   "outputs": [
    {
     "name": "stderr",
     "output_type": "stream",
     "text": [
      "/Users/zhesang/anaconda3/lib/python3.6/site-packages/ipykernel_launcher.py:2: TqdmDeprecationWarning: This function will be removed in tqdm==5.0.0\n",
      "Please use `tqdm.notebook.tqdm` instead of `tqdm.tqdm_notebook`\n",
      "  \n"
     ]
    },
    {
     "data": {
      "application/vnd.jupyter.widget-view+json": {
       "model_id": "6149e649434b40a4b90bd183a2ba257e",
       "version_major": 2,
       "version_minor": 0
      },
      "text/plain": [
       "HBox(children=(FloatProgress(value=0.0, max=621.0), HTML(value='')))"
      ]
     },
     "metadata": {},
     "output_type": "display_data"
    },
    {
     "name": "stderr",
     "output_type": "stream",
     "text": [
      "/Users/zhesang/anaconda3/lib/python3.6/site-packages/Bio/PDB/StructureBuilder.py:90: PDBConstructionWarning: WARNING: Chain L is discontinuous at line 1726.\n",
      "  PDBConstructionWarning)\n",
      "/Users/zhesang/anaconda3/lib/python3.6/site-packages/Bio/PDB/StructureBuilder.py:90: PDBConstructionWarning: WARNING: Chain L is discontinuous at line 1909.\n",
      "  PDBConstructionWarning)\n",
      "/Users/zhesang/anaconda3/lib/python3.6/site-packages/Bio/PDB/StructureBuilder.py:90: PDBConstructionWarning: WARNING: Chain H is discontinuous at line 1844.\n",
      "  PDBConstructionWarning)\n",
      "/Users/zhesang/anaconda3/lib/python3.6/site-packages/Bio/PDB/StructureBuilder.py:90: PDBConstructionWarning: WARNING: Chain G is discontinuous at line 1852.\n",
      "  PDBConstructionWarning)\n"
     ]
    },
    {
     "name": "stdout",
     "output_type": "stream",
     "text": [
      "6MTT_1.pdb\n",
      "'44' is not in list\n"
     ]
    },
    {
     "name": "stderr",
     "output_type": "stream",
     "text": [
      "/Users/zhesang/anaconda3/lib/python3.6/site-packages/Bio/PDB/StructureBuilder.py:90: PDBConstructionWarning: WARNING: Chain L is discontinuous at line 1925.\n",
      "  PDBConstructionWarning)\n",
      "/Users/zhesang/anaconda3/lib/python3.6/site-packages/Bio/PDB/StructureBuilder.py:90: PDBConstructionWarning: WARNING: Chain D is discontinuous at line 1968.\n",
      "  PDBConstructionWarning)\n",
      "/Users/zhesang/anaconda3/lib/python3.6/site-packages/Bio/PDB/StructureBuilder.py:90: PDBConstructionWarning: WARNING: Chain J is discontinuous at line 1979.\n",
      "  PDBConstructionWarning)\n",
      "/Users/zhesang/anaconda3/lib/python3.6/site-packages/Bio/PDB/StructureBuilder.py:90: PDBConstructionWarning: WARNING: Chain D is discontinuous at line 1990.\n",
      "  PDBConstructionWarning)\n",
      "/Users/zhesang/anaconda3/lib/python3.6/site-packages/Bio/PDB/StructureBuilder.py:90: PDBConstructionWarning: WARNING: Chain J is discontinuous at line 2012.\n",
      "  PDBConstructionWarning)\n",
      "/Users/zhesang/anaconda3/lib/python3.6/site-packages/Bio/PDB/StructureBuilder.py:90: PDBConstructionWarning: WARNING: Chain D is discontinuous at line 2023.\n",
      "  PDBConstructionWarning)\n",
      "/Users/zhesang/anaconda3/lib/python3.6/site-packages/Bio/PDB/StructureBuilder.py:90: PDBConstructionWarning: WARNING: Chain L is discontinuous at line 1944.\n",
      "  PDBConstructionWarning)\n",
      "/Users/zhesang/anaconda3/lib/python3.6/site-packages/Bio/PDB/StructureBuilder.py:90: PDBConstructionWarning: WARNING: Chain L is discontinuous at line 1792.\n",
      "  PDBConstructionWarning)\n",
      "/Users/zhesang/anaconda3/lib/python3.6/site-packages/Bio/PDB/StructureBuilder.py:90: PDBConstructionWarning: WARNING: Chain G is discontinuous at line 5174.\n",
      "  PDBConstructionWarning)\n",
      "/Users/zhesang/anaconda3/lib/python3.6/site-packages/Bio/PDB/StructureBuilder.py:90: PDBConstructionWarning: WARNING: Chain L is discontinuous at line 3692.\n",
      "  PDBConstructionWarning)\n",
      "/Users/zhesang/anaconda3/lib/python3.6/site-packages/Bio/PDB/StructureBuilder.py:90: PDBConstructionWarning: WARNING: Chain H is discontinuous at line 1790.\n",
      "  PDBConstructionWarning)\n",
      "/Users/zhesang/anaconda3/lib/python3.6/site-packages/Bio/PDB/StructureBuilder.py:90: PDBConstructionWarning: WARNING: Chain E is discontinuous at line 3875.\n",
      "  PDBConstructionWarning)\n",
      "/Users/zhesang/anaconda3/lib/python3.6/site-packages/Bio/PDB/StructureBuilder.py:90: PDBConstructionWarning: WARNING: Chain G is discontinuous at line 3892.\n",
      "  PDBConstructionWarning)\n",
      "/Users/zhesang/anaconda3/lib/python3.6/site-packages/Bio/PDB/StructureBuilder.py:90: PDBConstructionWarning: WARNING: Chain E is discontinuous at line 3911.\n",
      "  PDBConstructionWarning)\n",
      "/Users/zhesang/anaconda3/lib/python3.6/site-packages/Bio/PDB/StructureBuilder.py:90: PDBConstructionWarning: WARNING: Chain G is discontinuous at line 3993.\n",
      "  PDBConstructionWarning)\n",
      "/Users/zhesang/anaconda3/lib/python3.6/site-packages/Bio/PDB/StructureBuilder.py:90: PDBConstructionWarning: WARNING: Chain B is discontinuous at line 5018.\n",
      "  PDBConstructionWarning)\n",
      "/Users/zhesang/anaconda3/lib/python3.6/site-packages/Bio/PDB/StructureBuilder.py:90: PDBConstructionWarning: WARNING: Chain L is discontinuous at line 3710.\n",
      "  PDBConstructionWarning)\n",
      "/Users/zhesang/anaconda3/lib/python3.6/site-packages/Bio/PDB/StructureBuilder.py:90: PDBConstructionWarning: WARNING: Chain L is discontinuous at line 1978.\n",
      "  PDBConstructionWarning)\n",
      "/Users/zhesang/anaconda3/lib/python3.6/site-packages/Bio/PDB/StructureBuilder.py:90: PDBConstructionWarning: WARNING: Chain L is discontinuous at line 2020.\n",
      "  PDBConstructionWarning)\n",
      "/Users/zhesang/anaconda3/lib/python3.6/site-packages/Bio/PDB/StructureBuilder.py:90: PDBConstructionWarning: WARNING: Chain G is discontinuous at line 2031.\n",
      "  PDBConstructionWarning)\n",
      "/Users/zhesang/anaconda3/lib/python3.6/site-packages/Bio/PDB/StructureBuilder.py:90: PDBConstructionWarning: WARNING: Chain L is discontinuous at line 2042.\n",
      "  PDBConstructionWarning)\n",
      "/Users/zhesang/anaconda3/lib/python3.6/site-packages/Bio/PDB/StructureBuilder.py:90: PDBConstructionWarning: WARNING: Chain G is discontinuous at line 2064.\n",
      "  PDBConstructionWarning)\n",
      "/Users/zhesang/anaconda3/lib/python3.6/site-packages/Bio/PDB/StructureBuilder.py:90: PDBConstructionWarning: WARNING: Chain B is discontinuous at line 1994.\n",
      "  PDBConstructionWarning)\n",
      "/Users/zhesang/anaconda3/lib/python3.6/site-packages/Bio/PDB/StructureBuilder.py:90: PDBConstructionWarning: WARNING: Chain L is discontinuous at line 1904.\n",
      "  PDBConstructionWarning)\n",
      "/Users/zhesang/anaconda3/lib/python3.6/site-packages/Bio/PDB/StructureBuilder.py:90: PDBConstructionWarning: WARNING: Chain L is discontinuous at line 1809.\n",
      "  PDBConstructionWarning)\n",
      "/Users/zhesang/anaconda3/lib/python3.6/site-packages/Bio/PDB/StructureBuilder.py:90: PDBConstructionWarning: WARNING: Chain L is discontinuous at line 1905.\n",
      "  PDBConstructionWarning)\n",
      "/Users/zhesang/anaconda3/lib/python3.6/site-packages/Bio/PDB/StructureBuilder.py:90: PDBConstructionWarning: WARNING: Chain H is discontinuous at line 1917.\n",
      "  PDBConstructionWarning)\n"
     ]
    },
    {
     "name": "stdout",
     "output_type": "stream",
     "text": [
      "6CT7_1.pdb\n",
      "'95' is not in list\n"
     ]
    },
    {
     "name": "stderr",
     "output_type": "stream",
     "text": [
      "/Users/zhesang/anaconda3/lib/python3.6/site-packages/Bio/PDB/StructureBuilder.py:90: PDBConstructionWarning: WARNING: Chain D is discontinuous at line 3336.\n",
      "  PDBConstructionWarning)\n",
      "/Users/zhesang/anaconda3/lib/python3.6/site-packages/Bio/PDB/StructureBuilder.py:90: PDBConstructionWarning: WARNING: Chain E is discontinuous at line 4504.\n",
      "  PDBConstructionWarning)\n",
      "/Users/zhesang/anaconda3/lib/python3.6/site-packages/Bio/PDB/StructureBuilder.py:90: PDBConstructionWarning: WARNING: Chain H is discontinuous at line 3730.\n",
      "  PDBConstructionWarning)\n",
      "/Users/zhesang/anaconda3/lib/python3.6/site-packages/Bio/PDB/StructureBuilder.py:90: PDBConstructionWarning: WARNING: Chain G is discontinuous at line 3747.\n",
      "  PDBConstructionWarning)\n",
      "/Users/zhesang/anaconda3/lib/python3.6/site-packages/Bio/PDB/StructureBuilder.py:90: PDBConstructionWarning: WARNING: Chain H is discontinuous at line 3761.\n",
      "  PDBConstructionWarning)\n",
      "/Users/zhesang/anaconda3/lib/python3.6/site-packages/Bio/PDB/StructureBuilder.py:90: PDBConstructionWarning: WARNING: Chain G is discontinuous at line 3775.\n",
      "  PDBConstructionWarning)\n",
      "/Users/zhesang/anaconda3/lib/python3.6/site-packages/Bio/PDB/StructureBuilder.py:90: PDBConstructionWarning: WARNING: Chain L is discontinuous at line 1931.\n",
      "  PDBConstructionWarning)\n",
      "/Users/zhesang/anaconda3/lib/python3.6/site-packages/Bio/PDB/StructureBuilder.py:90: PDBConstructionWarning: WARNING: Chain L is discontinuous at line 1896.\n",
      "  PDBConstructionWarning)\n",
      "/Users/zhesang/anaconda3/lib/python3.6/site-packages/Bio/PDB/StructureBuilder.py:90: PDBConstructionWarning: WARNING: Chain L is discontinuous at line 1856.\n",
      "  PDBConstructionWarning)\n"
     ]
    },
    {
     "name": "stdout",
     "output_type": "stream",
     "text": [
      "\n"
     ]
    }
   ],
   "source": [
    "vh_FR2_CDR3_contact = []\n",
    "for pdb_filename in tqdm_notebook(human_ig_pdb):\n",
    "    try:\n",
    "        #pdb_filename = next(pdb_iter)\n",
    "\n",
    "        pdb_code = pdb_filename.split(\".\")[0]\n",
    "        #print(f'process {pdb_code}')\n",
    "        structure = Bio.PDB.PDBParser().get_structure(pdb_code, \"./NR_LH_Protein_Martin/\"+pdb_filename)\n",
    "        model = structure[0]\n",
    "        H_chain = model['H']\n",
    "        H_numbering = [\"\".join(np.array(res.id).astype(str)).replace(\" \",\"\") for res in H_chain if is_aa(res)]\n",
    "        definition = [ H_numbering.index(\"26\"),\n",
    "                  H_numbering.index(\"36\"),\n",
    "                  H_numbering.index(\"50\"),\n",
    "                  H_numbering.index(\"59\"),\n",
    "                  H_numbering.index(\"95\"),\n",
    "                  H_numbering.index(\"103\"),\n",
    "        ]\n",
    "\n",
    "        dist_matrix = calc_dist_matrix(H_chain, H_chain,calc_residue_dist_CA)\n",
    "\n",
    "        CDR3_lenth = definition[5]-definition[4]\n",
    "        VGLW=[H_numbering.index('37'),\n",
    "         H_numbering.index('44'),\n",
    "         H_numbering.index('45'),\n",
    "         H_numbering.index('47')]\n",
    "\n",
    "\n",
    "        if True in np.unique(np.hstack(dist_matrix[definition[4]:definition[5],VGLW])<8):\n",
    "            vh_FR2_CDR3_contact.append((1,CDR3_lenth,pdb_code))\n",
    "        else:\n",
    "            vh_FR2_CDR3_contact.append((0,CDR3_lenth,pdb_code))\n",
    "    except Exception as e:\n",
    "        print(pdb_filename)\n",
    "        print(e)"
   ]
  },
  {
   "cell_type": "code",
   "execution_count": 59,
   "metadata": {},
   "outputs": [],
   "source": [
    "def length_class(x):\n",
    "    if x<5:\n",
    "        return \"<5\"\n",
    "    elif x<10:\n",
    "        return \"5~10\"\n",
    "    elif x<15:\n",
    "        return \"10~15\"\n",
    "    elif x<20:\n",
    "        return \"15~20\"\n",
    "    else:\n",
    "        return \">20\""
   ]
  },
  {
   "cell_type": "code",
   "execution_count": 61,
   "metadata": {},
   "outputs": [],
   "source": [
    "vh_df = pd.DataFrame(vh_FR2_CDR3_contact,columns = ['contact','CDR3 length','pdb_code'])\n",
    "vhh_df = pd.DataFrame(vhh_FR2_CDR3_contact,columns = ['contact','CDR3 length','pdb_code'])\n",
    "vh_df['length_group'] = vh_df['CDR3 length'].apply(lambda x : length_class(x))\n",
    "vhh_df['length_group'] = vhh_df['CDR3 length'].apply(lambda x : length_class(x))\n",
    "vh_df['%'] = np.ones(vh_df.shape[0])\n",
    "vhh_df['%'] = np.ones(vhh_df.shape[0])\n",
    "vh_df['type']='Human IgG'\n",
    "vhh_df['type']='Nb'\n",
    "CDR3_FR2_contact = pd.concat([vhh_df,vh_df])"
   ]
  },
  {
   "cell_type": "code",
   "execution_count": 57,
   "metadata": {},
   "outputs": [
    {
     "data": {
      "image/png": "[encoded data removed]",
      "text/plain": [
       "<Figure size 720x504 with 1 Axes>"
      ]
     },
     "metadata": {
      "needs_background": "light"
     },
     "output_type": "display_data"
    }
   ],
   "source": [
    "fig,axes = plt.subplots(1,1,figsize=(10,7))\n",
    "sns.lineplot(x='CDR3 length',y='contact',data=vhh_df,ax=axes,label='Nb(FR2-CDR3)')\n",
    "sns.lineplot(x='CDR3 length',y='contact',data=vh_df,ax=axes,label='Human IgG VH(FR2-CDR3)')\n",
    "plt.legend(loc=\"upper left\")\n",
    "plt.savefig(\"FR2-CDR3_contacts_CDR3 length.pdf\",format='pdf')"
   ]
  },
  {
   "cell_type": "code",
   "execution_count": 63,
   "metadata": {},
   "outputs": [
    {
     "data": {
      "text/plain": [
       "<matplotlib.legend.Legend at 0x7f92188d2ac8>"
      ]
     },
     "execution_count": 63,
     "metadata": {},
     "output_type": "execute_result"
    },
    {
     "data": {
      "image/png": "[encoded data removed]",
      "text/plain": [
       "<Figure size 720x504 with 1 Axes>"
      ]
     },
     "metadata": {
      "needs_background": "light"
     },
     "output_type": "display_data"
    }
   ],
   "source": [
    "fig,axes = plt.subplots(1,1,figsize=(10,7))\n",
    "sns.barplot(x='length_group',y='contact',hue='type',data=CDR3_FR2_contact,ax=axes)\n",
    "plt.legend(loc=\"upper left\")"
   ]
  },
  {
   "cell_type": "code",
   "execution_count": 33,
   "metadata": {
    "collapsed": true
   },
   "outputs": [
    {
     "data": {
      "text/plain": [
       "CDR3 length\n",
       "3     0.000000\n",
       "4     0.000000\n",
       "5     0.000000\n",
       "6     0.285714\n",
       "7     0.000000\n",
       "8     0.333333\n",
       "9     0.285714\n",
       "10    0.000000\n",
       "11    0.000000\n",
       "12    0.380952\n",
       "13    0.666667\n",
       "14    0.850000\n",
       "15    0.913043\n",
       "16    0.866667\n",
       "17    1.000000\n",
       "18    0.846154\n",
       "19    0.857143\n",
       "20    0.750000\n",
       "21    1.000000\n",
       "22    1.000000\n",
       "23    1.000000\n",
       "24    1.000000\n",
       "Name: contact, dtype: float64"
      ]
     },
     "execution_count": 33,
     "metadata": {},
     "output_type": "execute_result"
    }
   ],
   "source": [
    "vhh_FR2_CDR3_contact_mean = vhh_df.groupby(\"CDR3 length\")['contact'].mean()"
   ]
  },
  {
   "cell_type": "code",
   "execution_count": 24,
   "metadata": {},
   "outputs": [
    {
     "data": {
      "text/plain": [
       "Text(0, 0.5, '')"
      ]
     },
     "execution_count": 24,
     "metadata": {},
     "output_type": "execute_result"
    },
    {
     "data": {
      "image/png": "[encoded data removed]",
      "text/plain": [
       "<Figure size 1080x360 with 2 Axes>"
      ]
     },
     "metadata": {
      "needs_background": "light"
     },
     "output_type": "display_data"
    }
   ],
   "source": [
    "fig = plt.figure(figsize=(15,5))\n",
    "ax1 = fig.add_subplot(121)\n",
    "sns.barplot(x='length_group',y='%',hue='contact',order=[\"<5\",\"5~10\",\"10~15\",\"15~20\",\">20\"],\n",
    "            data=(vh_df.groupby(['length_group','contact']).agg({'%':'sum'})/vh_df.groupby('length_group').agg({'%':'sum'})).reset_index(),ax=ax1)\n",
    "sns.despine()\n",
    "ax1.set_title(\"vh\")\n",
    "ax1.set_ylim((0,1))\n",
    "ax1.set_ylabel(\"fraction\")\n",
    "\n",
    "\n",
    "ax2 = fig.add_subplot(122)\n",
    "sns.barplot(x='length_group',y='%',hue='contact',order=[\"<5\",\"5~10\",\"10~15\",\"15~20\",\">20\"],\n",
    "            data=(vhh_df.groupby(['length_group','contact']).agg({'%':'sum'})/vhh_df.groupby('length_group').agg({'%':'sum'})).reset_index(),ax=ax2)\n",
    "sns.despine()\n",
    "ax2.set_title(\"vhh(Res 44)\")\n",
    "ax2.set_ylim((0,1))\n",
    "ax2.set_ylabel(\"\")\n",
    "\n",
    "\n"
   ]
  },
  {
   "cell_type": "code",
   "execution_count": 93,
   "metadata": {},
   "outputs": [
    {
     "data": {
      "text/plain": [
       "Text(0.5, 1.0, 'vhh')"
      ]
     },
     "execution_count": 93,
     "metadata": {},
     "output_type": "execute_result"
    },
    {
     "data": {
      "image/png": "[encoded data removed]",
      "text/plain": [
       "<Figure size 1080x360 with 2 Axes>"
      ]
     },
     "metadata": {},
     "output_type": "display_data"
    }
   ],
   "source": [
    "fig = plt.figure(figsize=(15,5))\n",
    "ax1 = fig.add_subplot(121)\n",
    "reordered_count_1 = vh_df['length_group'].value_counts()[[\"<5\",\"5~10\",\"10~15\",\"15~20\",\">20\"]]\n",
    "x1 = reordered_count_1.index\n",
    "y1 = reordered_count_1.values\n",
    "p1 = 100*y1/np.sum(y1)\n",
    "ax1.bar(x1,p1,color=['b','r','g'])\n",
    "\n",
    "for _ind,_p in enumerate(p1):\n",
    "    ax1.text(_ind,_p+10,str(round(y1[_ind],2)))\n",
    "sns.despine()\n",
    "ax1.set_ylabel(\"%\")\n",
    "ax1.set_ylim(ymax=100)\n",
    "ax1.set_title(\"vh\")\n",
    "\n",
    "\n",
    "\n",
    "ax2 = fig.add_subplot(122)\n",
    "reordered_count_2 = vhh_df['length_group'].value_counts()[[\"<5\",\"5~10\",\"10~15\",\"15~20\",\">20\"]]\n",
    "\n",
    "x2 = reordered_count_2.index\n",
    "y2 = reordered_count_2.values\n",
    "p2 = 100*y2/np.sum(y2)\n",
    "ax2.bar(x2,p2,color=['b','r','g'])\n",
    "\n",
    "for _ind,_p in enumerate(p2):\n",
    "    ax2.text(_ind,_p+10,str(round(y2[_ind],2)))\n",
    "    \n",
    "    \n",
    "sns.despine()\n",
    "ax2.set_ylabel(\"\")\n",
    "ax2.set_ylim(ymax=100)\n",
    "ax2.set_title(\"vhh\")"
   ]
  },
  {
   "cell_type": "code",
   "execution_count": 53,
   "metadata": {
    "collapsed": true
   },
   "outputs": [
    {
     "name": "stderr",
     "output_type": "stream",
     "text": [
      "/Users/zhesang/anaconda3/lib/python3.6/site-packages/ipykernel_launcher.py:3: TqdmDeprecationWarning: This function will be removed in tqdm==5.0.0\n",
      "Please use `tqdm.notebook.tqdm` instead of `tqdm.tqdm_notebook`\n",
      "  This is separate from the ipykernel package so we can avoid doing imports until\n"
     ]
    },
    {
     "data": {
      "application/vnd.jupyter.widget-view+json": {
       "model_id": "5f5d602fbca24d0dad3922ab263243fe",
       "version_major": 2,
       "version_minor": 0
      },
      "text/plain": [
       "HBox(children=(FloatProgress(value=0.0, max=192.0), HTML(value='')))"
      ]
     },
     "metadata": {},
     "output_type": "display_data"
    },
    {
     "name": "stdout",
     "output_type": "stream",
     "text": [
      ".DS_Store\n",
      "'utf-8' codec can't decode byte 0x87 in position 27: invalid start byte\n"
     ]
    },
    {
     "name": "stderr",
     "output_type": "stream",
     "text": [
      "/Users/zhesang/anaconda3/lib/python3.6/site-packages/Bio/PDB/StructureBuilder.py:90: PDBConstructionWarning: WARNING: Chain E is discontinuous at line 3747.\n",
      "  PDBConstructionWarning)\n"
     ]
    },
    {
     "name": "stdout",
     "output_type": "stream",
     "text": [
      "Superimpose_45_103.pse\n",
      "'utf-8' codec can't decode byte 0x88 in position 49: invalid start byte\n",
      "\n"
     ]
    }
   ],
   "source": [
    "vhh_45_103_contact=[]\n",
    "\n",
    "for pdb_filename in tqdm_notebook(os.listdir(\"NR_H_Protein_Martin\")):\n",
    "    try:\n",
    "        #pdb_filename = next(pdb_iter)\n",
    "\n",
    "        pdb_code = pdb_filename.split(\".\")[0]\n",
    "        #print(f'process {pdb_code}')\n",
    "        structure = Bio.PDB.PDBParser().get_structure(pdb_code, \"./NR_H_Protein_Martin/\"+pdb_filename)\n",
    "        model = structure[0]\n",
    "        H_chain = model['H']\n",
    "        residues = [res for res in H_chain if is_aa(res)]\n",
    "        H_numbering = [\"\".join(np.array(res.id).astype(str)).replace(\" \",\"\") for res in H_chain if is_aa(res)]\n",
    "        pos_45 = H_numbering.index('37')\n",
    "        pos_103 = H_numbering.index('103')\n",
    "        res_45 = residues[pos_45]\n",
    "        res_103 = residues[pos_103]\n",
    "        \n",
    "        distance = calc_residue_dist_2(res_45,res_103)\n",
    "        \n",
    "        vhh_45_103_contact.append((f\"{three_to_one(res_45.get_resname())}-{three_to_one(res_103.get_resname())}\",distance))\n",
    "    except Exception as e:\n",
    "        print(pdb_filename)\n",
    "        print(e)\n",
    "        \n",
    "    \n",
    "    #dist_matrix = calc_dist_matrix(model[\"A\"], model[\"H\"])\n",
    "    #seq_chain_one = [\"\".join(np.array(res.id).astype(str)).replace(\" \",\"\") for res in model['H'] if is_aa(res)]\n",
    "    #print(seq_chain_one)\n",
    "    #seq_chain_two = [\"\".join(np.array(res.id).astype(str)).replace(\" \",\"\") for res in model['A'] if is_aa(res)]\n",
    "    #contact_map = dist_matrix < 12"
   ]
  },
  {
   "cell_type": "code",
   "execution_count": 49,
   "metadata": {},
   "outputs": [],
   "source": [
    "df_45_103 = pd.DataFrame(vhh_45_103_contact,columns=['pair','dist'])\n",
    "df_45_103['class'] = df_45_103['pair'].apply(lambda x: \"R45-W103\" if x=='R-W' else 'other')\n",
    "\n",
    "\n",
    "summary_45_103 = df_45_103.groupby('class',as_index=False).agg({\"dist\":[np.mean,np.std,'count']})"
   ]
  },
  {
   "cell_type": "code",
   "execution_count": 54,
   "metadata": {},
   "outputs": [],
   "source": [
    "df_45_103 = pd.DataFrame(vhh_45_103_contact,columns=['pair','dist'])\n",
    "df_45_103['class'] = df_45_103['pair'].apply(lambda x: \"F/Y37-W103\" if (x=='F-W') or (x==\"Y-W\") else 'other')\n",
    "\n",
    "\n",
    "summary_45_103 = df_45_103.groupby('class',as_index=False).agg({\"dist\":[np.mean,np.std,'count']})"
   ]
  },
  {
   "cell_type": "code",
   "execution_count": 55,
   "metadata": {},
   "outputs": [
    {
     "data": {
      "image/png": "[encoded data removed]",
      "text/plain": [
       "<Figure size 576x360 with 2 Axes>"
      ]
     },
     "metadata": {
      "needs_background": "light"
     },
     "output_type": "display_data"
    }
   ],
   "source": [
    "fig=plt.figure(figsize=(8,5))\n",
    "ax1 = fig.add_subplot(121)\n",
    "sns.barplot(x='class',y='dist',data=df_45_103,color='royalblue',ax=ax1)\n",
    "ax1.set_ylabel(\"Distance(Å)\")\n",
    "ax1.set_xlabel(\"residue pair\")\n",
    "sns.despine()\n",
    "\n",
    "ax2 = fig.add_subplot(122)\n",
    "ax2.bar(summary_45_103['class'],summary_45_103[( 'dist', 'count')],color='lightgreen')\n",
    "#sns.barplot(x='class',y='count',data=summary_45_103,color='purple',ax=ax2)\n",
    "ax2.set_ylabel(\"Count\")\n",
    "ax2.set_xlabel(\"residue pair\")\n",
    "sns.despine()\n",
    "\n",
    "fig.subplots_adjust(wspace=0.4)\n",
    "plt.savefig(\"prevalence_37_103.pdf\",format='pdf')"
   ]
  },
  {
   "cell_type": "code",
   "execution_count": 202,
   "metadata": {},
   "outputs": [],
   "source": [
    "df_37_100X= pd.DataFrame(vhh_45_103_contact,columns=['pair','dist'])\n",
    "df_37_100X['class'] = df_37_100X['pair'].apply(lambda x:classify_pi(x))\n",
    "summary_37_100X = df_37_100X.groupby('class',as_index=False).agg({\"dist\":[np.mean,np.std,'count']})"
   ]
  },
  {
   "cell_type": "code",
   "execution_count": 208,
   "metadata": {},
   "outputs": [
    {
     "data": {
      "image/png": "[encoded data removed]",
      "text/plain": [
       "<Figure size 720x360 with 2 Axes>"
      ]
     },
     "metadata": {},
     "output_type": "display_data"
    }
   ],
   "source": [
    "fig=plt.figure(figsize=(10,5))\n",
    "ax1 = fig.add_subplot(121)\n",
    "sns.barplot(x='class',y='dist',data=df_37_100X,color='royalblue',ax=ax1,order=['other','pi-pi'])\n",
    "ax1.set_ylabel(\"Distance(Å)\")\n",
    "ax1.set_xlabel(\"residue pair\")\n",
    "sns.despine()\n",
    "\n",
    "ax2 = fig.add_subplot(122)\n",
    "ax2.bar(summary_37_100X['class'],summary_37_100X[( 'dist', 'count')],color='lightgreen')\n",
    "#sns.barplot(x='class',y='count',data=summary_45_103,color='purple',ax=ax2)\n",
    "ax2.set_ylabel(\"Count\")\n",
    "ax2.set_xlabel(\"residue pair\")\n",
    "sns.despine()\n",
    "\n",
    "fig.subplots_adjust(wspace=0.4)"
   ]
  },
  {
   "cell_type": "code",
   "execution_count": 197,
   "metadata": {},
   "outputs": [],
   "source": [
    "def classify_pi(x):\n",
    "    aa1,aa2 = x.split(\"-\")\n",
    "    if aa1 in 'FWY' and aa2 in 'FWY':\n",
    "        return 'pi-pi'\n",
    "    return 'other'"
   ]
  },
  {
   "cell_type": "code",
   "execution_count": null,
   "metadata": {},
   "outputs": [],
   "source": [
    "FERL=[H_numbering.index('44')]\n",
    "         #H_numbering.index('44'),\n",
    "         #H_numbering.index('45'),\n",
    "         #H_numbering.index('47')]"
   ]
  },
  {
   "cell_type": "code",
   "execution_count": 94,
   "metadata": {
    "collapsed": true
   },
   "outputs": [
    {
     "name": "stderr",
     "output_type": "stream",
     "text": [
      "/Users/zhesang/anaconda3/lib/python3.6/site-packages/ipykernel_launcher.py:4: TqdmDeprecationWarning: This function will be removed in tqdm==5.0.0\n",
      "Please use `tqdm.notebook.tqdm` instead of `tqdm.tqdm_notebook`\n",
      "  after removing the cwd from sys.path.\n"
     ]
    },
    {
     "data": {
      "application/vnd.jupyter.widget-view+json": {
       "model_id": "a082276802f248f0b27dd8c4420c6ee2",
       "version_major": 2,
       "version_minor": 0
      },
      "text/plain": [
       "HBox(children=(FloatProgress(value=0.0, max=192.0), HTML(value='')))"
      ]
     },
     "metadata": {},
     "output_type": "display_data"
    },
    {
     "name": "stdout",
     "output_type": "stream",
     "text": [
      ".DS_Store\n",
      "'utf-8' codec can't decode byte 0x87 in position 27: invalid start byte\n"
     ]
    },
    {
     "name": "stderr",
     "output_type": "stream",
     "text": [
      "/Users/zhesang/anaconda3/lib/python3.6/site-packages/Bio/PDB/StructureBuilder.py:90: PDBConstructionWarning: WARNING: Chain E is discontinuous at line 3747.\n",
      "  PDBConstructionWarning)\n"
     ]
    },
    {
     "name": "stdout",
     "output_type": "stream",
     "text": [
      "Superimpose_45_103.pse\n",
      "'utf-8' codec can't decode byte 0x88 in position 49: invalid start byte\n",
      "5J57_1.pdb\n",
      "'44' is not in list\n",
      "\n"
     ]
    }
   ],
   "source": [
    "x=None\n",
    "vhh_FR2_CDR3_contact=[]\n",
    "\n",
    "for pdb_filename in tqdm_notebook(os.listdir(\"NR_H_Protein_Martin\")):\n",
    "    try:\n",
    "        #pdb_filename = next(pdb_iter)\n",
    "\n",
    "        pdb_code = pdb_filename.split(\".\")[0]\n",
    "        #print(f'process {pdb_code}')\n",
    "        structure = Bio.PDB.PDBParser().get_structure(pdb_code, \"./NR_H_Protein_Martin/\"+pdb_filename)\n",
    "        model = structure[0]\n",
    "        H_chain = model['H']\n",
    "        H_numbering = [\"\".join(np.array(res.id).astype(str)).replace(\" \",\"\") for res in H_chain if is_aa(res)]\n",
    "        definition = [ H_numbering.index(\"26\"),\n",
    "                  H_numbering.index(\"36\"),\n",
    "                  H_numbering.index(\"50\"),\n",
    "                  H_numbering.index(\"59\"),\n",
    "                  H_numbering.index(\"95\"),\n",
    "                  H_numbering.index(\"103\"),\n",
    "        ]\n",
    "        FERL=[H_numbering.index('37'),\n",
    "         H_numbering.index('44'),\n",
    "         H_numbering.index('45'),\n",
    "         H_numbering.index('47')]\n",
    "\n",
    "        dist_matrix = calc_dist_matrix(H_chain, H_chain,calc_residue_dist_CA)\n",
    "\n",
    "        CDR3_lenth = definition[5]-definition[4]\n",
    "        \n",
    "        FR2_CDR3_contact = (dist_matrix[definition[4]:definition[5],FERL].min(0)<8).astype(int)\n",
    "        vhh_FR2_CDR3_contact.append([FR2_CDR3_contact,CDR3_lenth])\n",
    "\n",
    "    except Exception as e:\n",
    "        print(pdb_filename)\n",
    "        print(e)\n",
    "        \n",
    "    \n",
    "        \n",
    "\n",
    "\n",
    "\n",
    "\n",
    "    #dist_matrix = calc_dist_matrix(model[\"A\"], model[\"H\"])\n",
    "    #seq_chain_one = [\"\".join(np.array(res.id).astype(str)).replace(\" \",\"\") for res in model['H'] if is_aa(res)]\n",
    "    #print(seq_chain_one)\n",
    "    #seq_chain_two = [\"\".join(np.array(res.id).astype(str)).replace(\" \",\"\") for res in model['A'] if is_aa(res)]\n",
    "    #contact_map = dist_matrix < 12"
   ]
  }
 ],
 "metadata": {
  "kernelspec": {
   "display_name": "Python 3",
   "language": "python",
   "name": "python3"
  },
  "language_info": {
   "codemirror_mode": {
    "name": "ipython",
    "version": 3
   },
   "file_extension": ".py",
   "mimetype": "text/x-python",
   "name": "python",
   "nbconvert_exporter": "python",
   "pygments_lexer": "ipython3",
   "version": "3.6.8"
  }
 },
 "nbformat": 4,
 "nbformat_minor": 1
}
