{
 "cells": [
  {
   "cell_type": "code",
   "execution_count": 2,
   "metadata": {},
   "outputs": [],
   "source": [
    "import Bio.PDB\n",
    "import numpy\n",
    "import pandas as pd\n",
    "import os\n",
    "from Bio.PDB.Polypeptide import is_aa\n",
    "from Bio.SeqUtils import seq1\n",
    "import seaborn as sns\n",
    "import matplotlib.pyplot as plt\n",
    "import numpy as np\n",
    "from tqdm import tqdm_notebook\n",
    "from collections import Counter"
   ]
  },
  {
   "cell_type": "code",
   "execution_count": 3,
   "metadata": {},
   "outputs": [],
   "source": [
    "sns.set_context(\"talk\")\n",
    "plt.rcParams['axes.prop_cycle'] = plt.cycler(color=plt.cm.Set2.colors)\n",
    "plt.rcParams.update({'font.size': 22})\n",
    "plt.rcParams['svg.fonttype'] = 'none'"
   ]
  },
  {
   "cell_type": "code",
   "execution_count": 4,
   "metadata": {},
   "outputs": [],
   "source": [
    "import re\n",
    "\n",
    "def atoi(text):\n",
    "    return int(text) if text.isdigit() else text\n",
    "\n",
    "def natural_keys(text):\n",
    "    '''\n",
    "    alist.sort(key=natural_keys) sorts in human order\n",
    "    http://nedbatchelder.com/blog/200712/human_sorting.html\n",
    "    (See Toothy's implementation in the comments)\n",
    "    '''\n",
    "    return [ atoi(c) for c in re.split(r'(\\d+)', text) ]"
   ]
  },
  {
   "cell_type": "code",
   "execution_count": 5,
   "metadata": {},
   "outputs": [],
   "source": [
    "def calc_residue_dist(residue_one, residue_two) :\n",
    "    \"\"\"Returns the C-alpha distance between two residues\"\"\"\n",
    "    try:\n",
    "        atom_one = residue_one['CA']\n",
    "        atom_two = residue_two['CA']\n",
    "        diff_vector  = atom_one.coord - atom_two.coord\n",
    "        return numpy.sqrt(numpy.sum(diff_vector * diff_vector))\n",
    "    except:\n",
    "        return calc_residue_dist_2(residue_one,residue_two)\n",
    "\n",
    "def calc_residue_dist_2(residue_one, residue_two) :\n",
    "    \"\"\"Returns the closest distance between two residues\"\"\"\n",
    "    min_distance = 100\n",
    "    for atom_one in residue_one:\n",
    "        if atom_one.name.startswith(\"H\"):\n",
    "            continue\n",
    "        for atom_two in residue_two:\n",
    "            if atom_two.name.startswith(\"H\"):\n",
    "                continue\n",
    "            diff_vector  = atom_one.coord - atom_two.coord\n",
    "            dist = numpy.sqrt(numpy.sum(diff_vector * diff_vector))\n",
    "            if dist<min_distance:\n",
    "                min_distance = dist\n",
    "    return min_distance\n",
    "\n",
    "def calc_dist_matrix(chain_one, chain_two) :\n",
    "    \"\"\"Returns a matrix of C-alpha distances between two chains\"\"\"\n",
    "    atoms_chain_one = [res for res in chain_one if is_aa(res)]\n",
    "    atoms_chain_two =  [res for res in chain_two if is_aa(res)]\n",
    "    answer = numpy.zeros((len(atoms_chain_one), len(atoms_chain_two)), numpy.float)\n",
    "    #print(answer.shape)\n",
    "    for row, residue_one in enumerate(atoms_chain_one) :\n",
    "        for col, residue_two in enumerate(atoms_chain_two) :\n",
    "            answer[row, col] = calc_residue_dist(residue_one, residue_two)\n",
    "    return answer"
   ]
  },
  {
   "cell_type": "code",
   "execution_count": 7,
   "metadata": {},
   "outputs": [
    {
     "name": "stderr",
     "output_type": "stream",
     "text": [
      "/Users/zhesang/anaconda3/lib/python3.6/site-packages/ipykernel_launcher.py:3: TqdmDeprecationWarning: This function will be removed in tqdm==5.0.0\n",
      "Please use `tqdm.notebook.tqdm` instead of `tqdm.tqdm_notebook`\n",
      "  This is separate from the ipykernel package so we can avoid doing imports until\n"
     ]
    },
    {
     "data": {
      "application/vnd.jupyter.widget-view+json": {
       "model_id": "0545e5341eff4ffe919fc6b9cff4b630",
       "version_major": 2,
       "version_minor": 0
      },
      "text/plain": [
       "HBox(children=(FloatProgress(value=0.0, max=192.0), HTML(value='')))"
      ]
     },
     "metadata": {},
     "output_type": "display_data"
    },
    {
     "name": "stdout",
     "output_type": "stream",
     "text": [
      "5JA9_1.pdb\n",
      "<Chain id=A>\n",
      "zero-size array to reduction operation minimum which has no identity\n",
      "-----------\n",
      "4TVS_1.pdb\n",
      "<Chain id=a>\n",
      "zero-size array to reduction operation minimum which has no identity\n",
      "-----------\n"
     ]
    },
    {
     "name": "stderr",
     "output_type": "stream",
     "text": [
      "/Users/zhesang/anaconda3/lib/python3.6/site-packages/Bio/PDB/StructureBuilder.py:90: PDBConstructionWarning: WARNING: Chain E is discontinuous at line 3747.\n",
      "  PDBConstructionWarning)\n"
     ]
    },
    {
     "name": "stdout",
     "output_type": "stream",
     "text": [
      "5JA8_1.pdb\n",
      "<Chain id=F>\n",
      "zero-size array to reduction operation minimum which has no identity\n",
      "-----------\n",
      "2XT1_1.pdb\n",
      "<Chain id=B>\n",
      "zero-size array to reduction operation minimum which has no identity\n",
      "-----------\n",
      "6EQI_1.pdb\n",
      "<Chain id=B>\n",
      "zero-size array to reduction operation minimum which has no identity\n",
      "-----------\n",
      "6EQI_1.pdb\n",
      "<Chain id=C>\n",
      "zero-size array to reduction operation minimum which has no identity\n",
      "-----------\n",
      "6I6J_1.pdb\n",
      "<Chain id=C>\n",
      "zero-size array to reduction operation minimum which has no identity\n",
      "-----------\n",
      "6GCI_1.pdb\n",
      "<Chain id=B>\n",
      "zero-size array to reduction operation minimum which has no identity\n",
      "-----------\n",
      "\n"
     ]
    }
   ],
   "source": [
    "all_data = []\n",
    "\n",
    "for pdb_filename in tqdm_notebook(os.listdir(\"NR_H_Protein_Martin\")):\n",
    "    #pdb_filename = next(pdb_iter)\n",
    "    if pdb_filename[-3:]!='pdb':\n",
    "        continue\n",
    "    pdb_code = pdb_filename.split(\".\")[0]\n",
    "    #print(f'process {pdb_code}')\n",
    "    structure = Bio.PDB.PDBParser().get_structure(pdb_code, \"./NR_H_Protein_Martin/\"+pdb_filename)\n",
    "    model = structure[0]\n",
    "    H_chain = model['H']\n",
    "    H_numbering = [\"\".join(np.array(res.id).astype(str)).replace(\" \",\"\") for res in H_chain if is_aa(res)]\n",
    "    contact = np.zeros_like(H_numbering,dtype=bool)\n",
    "    for c in model:\n",
    "        if c.id == 'H':\n",
    "            continue\n",
    "        dist_matrix = calc_dist_matrix(c, H_chain)\n",
    "        try:\n",
    "            contact = contact | (dist_matrix.min(0) < 8)\n",
    "        except Exception as e:\n",
    "            print(pdb_filename)\n",
    "            print(c)\n",
    "            print(e)\n",
    "            print(\"-----------\")\n",
    "    all_data.append([H_numbering,contact])\n",
    "\n",
    "\n",
    "\n",
    "    #dist_matrix = calc_dist_matrix(model[\"A\"], model[\"H\"])\n",
    "    #seq_chain_one = [\"\".join(np.array(res.id).astype(str)).replace(\" \",\"\") for res in model['H'] if is_aa(res)]\n",
    "    #print(seq_chain_one)\n",
    "    #seq_chain_two = [\"\".join(np.array(res.id).astype(str)).replace(\" \",\"\") for res in model['A'] if is_aa(res)]\n",
    "    #contact_map = dist_matrix < 12"
   ]
  },
  {
   "cell_type": "code",
   "execution_count": 8,
   "metadata": {},
   "outputs": [],
   "source": [
    "def annotate(f):\n",
    "    content = [i for i in open(f).read().splitlines() if i.startswith(\"REMARK\")]\n",
    "    molecue_id = None\n",
    "    for l in content:\n",
    "        if \"CHAIN H\" in l:\n",
    "            molecue_id = l.split(\" \")[-1]\n",
    "            break\n",
    "    for l in content:\n",
    "        if f\"SPECIES\" in l:\n",
    "            _mol = l.split(\":\")[1].strip()\n",
    "            if _mol == molecue_id:\n",
    "                if  \"HOMO\" in l and not \"MUS\" in l:\n",
    "                    return \"Human\"\n",
    "                else:\n",
    "                    return \"else\"\n",
    "    return None\n",
    "\n",
    "human_ig_pdb = []\n",
    "\n",
    "for i in os.listdir(\"NR_LH_Protein_Martin\"):\n",
    "    ret = annotate(\"NR_LH_Protein_Martin/\"+i)\n",
    "    if ret==\"Human\":\n",
    "        human_ig_pdb.append(i)\n",
    "        "
   ]
  },
  {
   "cell_type": "code",
   "execution_count": 11,
   "metadata": {},
   "outputs": [
    {
     "name": "stderr",
     "output_type": "stream",
     "text": [
      "/Users/zhesang/anaconda3/lib/python3.6/site-packages/ipykernel_launcher.py:3: TqdmDeprecationWarning: This function will be removed in tqdm==5.0.0\n",
      "Please use `tqdm.notebook.tqdm` instead of `tqdm.tqdm_notebook`\n",
      "  This is separate from the ipykernel package so we can avoid doing imports until\n"
     ]
    },
    {
     "data": {
      "application/vnd.jupyter.widget-view+json": {
       "model_id": "a9860720e9a24b2e82cc21bcca92961a",
       "version_major": 2,
       "version_minor": 0
      },
      "text/plain": [
       "HBox(children=(FloatProgress(value=0.0, max=621.0), HTML(value='')))"
      ]
     },
     "metadata": {},
     "output_type": "display_data"
    },
    {
     "name": "stderr",
     "output_type": "stream",
     "text": [
      "/Users/zhesang/anaconda3/lib/python3.6/site-packages/Bio/PDB/StructureBuilder.py:90: PDBConstructionWarning: WARNING: Chain L is discontinuous at line 1726.\n",
      "  PDBConstructionWarning)\n",
      "/Users/zhesang/anaconda3/lib/python3.6/site-packages/Bio/PDB/StructureBuilder.py:90: PDBConstructionWarning: WARNING: Chain L is discontinuous at line 1909.\n",
      "  PDBConstructionWarning)\n"
     ]
    },
    {
     "name": "stdout",
     "output_type": "stream",
     "text": [
      "6NB3_1.pdb\n",
      "<Chain id=B>\n",
      "-----------\n"
     ]
    },
    {
     "name": "stderr",
     "output_type": "stream",
     "text": [
      "/Users/zhesang/anaconda3/lib/python3.6/site-packages/Bio/PDB/StructureBuilder.py:90: PDBConstructionWarning: WARNING: Chain H is discontinuous at line 1844.\n",
      "  PDBConstructionWarning)\n",
      "/Users/zhesang/anaconda3/lib/python3.6/site-packages/Bio/PDB/StructureBuilder.py:90: PDBConstructionWarning: WARNING: Chain G is discontinuous at line 1852.\n",
      "  PDBConstructionWarning)\n"
     ]
    },
    {
     "name": "stdout",
     "output_type": "stream",
     "text": [
      "4D9Q_1.pdb\n",
      "<Chain id=D>\n",
      "-----------\n",
      "4D9Q_1.pdb\n",
      "<Chain id=E>\n",
      "-----------\n",
      "3QNZ_1.pdb\n",
      "<Chain id=A>\n",
      "-----------\n"
     ]
    },
    {
     "name": "stderr",
     "output_type": "stream",
     "text": [
      "/Users/zhesang/anaconda3/lib/python3.6/site-packages/Bio/PDB/StructureBuilder.py:90: PDBConstructionWarning: WARNING: Chain L is discontinuous at line 1925.\n",
      "  PDBConstructionWarning)\n",
      "/Users/zhesang/anaconda3/lib/python3.6/site-packages/Bio/PDB/StructureBuilder.py:90: PDBConstructionWarning: WARNING: Chain D is discontinuous at line 1968.\n",
      "  PDBConstructionWarning)\n",
      "/Users/zhesang/anaconda3/lib/python3.6/site-packages/Bio/PDB/StructureBuilder.py:90: PDBConstructionWarning: WARNING: Chain J is discontinuous at line 1979.\n",
      "  PDBConstructionWarning)\n",
      "/Users/zhesang/anaconda3/lib/python3.6/site-packages/Bio/PDB/StructureBuilder.py:90: PDBConstructionWarning: WARNING: Chain D is discontinuous at line 1990.\n",
      "  PDBConstructionWarning)\n",
      "/Users/zhesang/anaconda3/lib/python3.6/site-packages/Bio/PDB/StructureBuilder.py:90: PDBConstructionWarning: WARNING: Chain J is discontinuous at line 2012.\n",
      "  PDBConstructionWarning)\n",
      "/Users/zhesang/anaconda3/lib/python3.6/site-packages/Bio/PDB/StructureBuilder.py:90: PDBConstructionWarning: WARNING: Chain D is discontinuous at line 2023.\n",
      "  PDBConstructionWarning)\n"
     ]
    },
    {
     "name": "stdout",
     "output_type": "stream",
     "text": [
      "5VIY_1.pdb\n",
      "<Chain id=J>\n",
      "-----------\n",
      "5VIY_1.pdb\n",
      "<Chain id=F>\n",
      "-----------\n"
     ]
    },
    {
     "name": "stderr",
     "output_type": "stream",
     "text": [
      "/Users/zhesang/anaconda3/lib/python3.6/site-packages/Bio/PDB/StructureBuilder.py:90: PDBConstructionWarning: WARNING: Chain L is discontinuous at line 1944.\n",
      "  PDBConstructionWarning)\n",
      "/Users/zhesang/anaconda3/lib/python3.6/site-packages/Bio/PDB/StructureBuilder.py:90: PDBConstructionWarning: WARNING: Chain L is discontinuous at line 1792.\n",
      "  PDBConstructionWarning)\n"
     ]
    },
    {
     "name": "stdout",
     "output_type": "stream",
     "text": [
      "5ANM_2.pdb\n",
      "<Chain id=E>\n",
      "-----------\n"
     ]
    },
    {
     "name": "stderr",
     "output_type": "stream",
     "text": [
      "/Users/zhesang/anaconda3/lib/python3.6/site-packages/Bio/PDB/StructureBuilder.py:90: PDBConstructionWarning: WARNING: Chain G is discontinuous at line 5174.\n",
      "  PDBConstructionWarning)\n"
     ]
    },
    {
     "name": "stdout",
     "output_type": "stream",
     "text": [
      "5VAG_1.pdb\n",
      "<Chain id=B>\n",
      "-----------\n",
      "3QO0_1.pdb\n",
      "<Chain id=A>\n",
      "-----------\n",
      "6B08_1.pdb\n",
      "<Chain id=C>\n",
      "-----------\n",
      "6B0G_1.pdb\n",
      "<Chain id=D>\n",
      "-----------\n"
     ]
    },
    {
     "name": "stderr",
     "output_type": "stream",
     "text": [
      "/Users/zhesang/anaconda3/lib/python3.6/site-packages/Bio/PDB/StructureBuilder.py:90: PDBConstructionWarning: WARNING: Chain L is discontinuous at line 3692.\n",
      "  PDBConstructionWarning)\n",
      "/Users/zhesang/anaconda3/lib/python3.6/site-packages/Bio/PDB/StructureBuilder.py:90: PDBConstructionWarning: WARNING: Chain H is discontinuous at line 1790.\n",
      "  PDBConstructionWarning)\n"
     ]
    },
    {
     "name": "stdout",
     "output_type": "stream",
     "text": [
      "4Y5V_1.pdb\n",
      "<Chain id=G>\n",
      "-----------\n"
     ]
    },
    {
     "name": "stderr",
     "output_type": "stream",
     "text": [
      "/Users/zhesang/anaconda3/lib/python3.6/site-packages/Bio/PDB/StructureBuilder.py:90: PDBConstructionWarning: WARNING: Chain E is discontinuous at line 3875.\n",
      "  PDBConstructionWarning)\n",
      "/Users/zhesang/anaconda3/lib/python3.6/site-packages/Bio/PDB/StructureBuilder.py:90: PDBConstructionWarning: WARNING: Chain G is discontinuous at line 3892.\n",
      "  PDBConstructionWarning)\n",
      "/Users/zhesang/anaconda3/lib/python3.6/site-packages/Bio/PDB/StructureBuilder.py:90: PDBConstructionWarning: WARNING: Chain E is discontinuous at line 3911.\n",
      "  PDBConstructionWarning)\n",
      "/Users/zhesang/anaconda3/lib/python3.6/site-packages/Bio/PDB/StructureBuilder.py:90: PDBConstructionWarning: WARNING: Chain G is discontinuous at line 3993.\n",
      "  PDBConstructionWarning)\n"
     ]
    },
    {
     "name": "stdout",
     "output_type": "stream",
     "text": [
      "5ESV_1.pdb\n",
      "<Chain id=E>\n",
      "-----------\n",
      "3SO3_1.pdb\n",
      "<Chain id=B>\n",
      "-----------\n"
     ]
    },
    {
     "name": "stderr",
     "output_type": "stream",
     "text": [
      "/Users/zhesang/anaconda3/lib/python3.6/site-packages/Bio/PDB/StructureBuilder.py:90: PDBConstructionWarning: WARNING: Chain B is discontinuous at line 5018.\n",
      "  PDBConstructionWarning)\n"
     ]
    },
    {
     "name": "stdout",
     "output_type": "stream",
     "text": [
      "6O3B_1.pdb\n",
      "<Chain id=B>\n",
      "-----------\n",
      "6MHR_1.pdb\n",
      "<Chain id=D>\n",
      "-----------\n"
     ]
    },
    {
     "name": "stderr",
     "output_type": "stream",
     "text": [
      "/Users/zhesang/anaconda3/lib/python3.6/site-packages/Bio/PDB/StructureBuilder.py:90: PDBConstructionWarning: WARNING: Chain L is discontinuous at line 3710.\n",
      "  PDBConstructionWarning)\n"
     ]
    },
    {
     "name": "stdout",
     "output_type": "stream",
     "text": [
      "6EYO_1.pdb\n",
      "<Chain id=B>\n",
      "-----------\n"
     ]
    },
    {
     "name": "stderr",
     "output_type": "stream",
     "text": [
      "/Users/zhesang/anaconda3/lib/python3.6/site-packages/Bio/PDB/StructureBuilder.py:90: PDBConstructionWarning: WARNING: Chain L is discontinuous at line 1978.\n",
      "  PDBConstructionWarning)\n",
      "/Users/zhesang/anaconda3/lib/python3.6/site-packages/Bio/PDB/StructureBuilder.py:90: PDBConstructionWarning: WARNING: Chain L is discontinuous at line 2020.\n",
      "  PDBConstructionWarning)\n",
      "/Users/zhesang/anaconda3/lib/python3.6/site-packages/Bio/PDB/StructureBuilder.py:90: PDBConstructionWarning: WARNING: Chain G is discontinuous at line 2031.\n",
      "  PDBConstructionWarning)\n",
      "/Users/zhesang/anaconda3/lib/python3.6/site-packages/Bio/PDB/StructureBuilder.py:90: PDBConstructionWarning: WARNING: Chain L is discontinuous at line 2042.\n",
      "  PDBConstructionWarning)\n",
      "/Users/zhesang/anaconda3/lib/python3.6/site-packages/Bio/PDB/StructureBuilder.py:90: PDBConstructionWarning: WARNING: Chain G is discontinuous at line 2064.\n",
      "  PDBConstructionWarning)\n"
     ]
    },
    {
     "name": "stdout",
     "output_type": "stream",
     "text": [
      "4Y5X_1.pdb\n",
      "<Chain id=G>\n",
      "-----------\n"
     ]
    },
    {
     "name": "stderr",
     "output_type": "stream",
     "text": [
      "/Users/zhesang/anaconda3/lib/python3.6/site-packages/Bio/PDB/StructureBuilder.py:90: PDBConstructionWarning: WARNING: Chain B is discontinuous at line 1994.\n",
      "  PDBConstructionWarning)\n"
     ]
    },
    {
     "name": "stdout",
     "output_type": "stream",
     "text": [
      "5UMN_1.pdb\n",
      "<Chain id=C>\n",
      "-----------\n"
     ]
    },
    {
     "name": "stderr",
     "output_type": "stream",
     "text": [
      "/Users/zhesang/anaconda3/lib/python3.6/site-packages/Bio/PDB/StructureBuilder.py:90: PDBConstructionWarning: WARNING: Chain L is discontinuous at line 1904.\n",
      "  PDBConstructionWarning)\n",
      "/Users/zhesang/anaconda3/lib/python3.6/site-packages/Bio/PDB/StructureBuilder.py:90: PDBConstructionWarning: WARNING: Chain L is discontinuous at line 1809.\n",
      "  PDBConstructionWarning)\n"
     ]
    },
    {
     "name": "stdout",
     "output_type": "stream",
     "text": [
      "5WK3_1.pdb\n",
      "<Chain id=Q>\n",
      "-----------\n"
     ]
    },
    {
     "name": "stderr",
     "output_type": "stream",
     "text": [
      "/Users/zhesang/anaconda3/lib/python3.6/site-packages/Bio/PDB/StructureBuilder.py:90: PDBConstructionWarning: WARNING: Chain L is discontinuous at line 1905.\n",
      "  PDBConstructionWarning)\n",
      "/Users/zhesang/anaconda3/lib/python3.6/site-packages/Bio/PDB/StructureBuilder.py:90: PDBConstructionWarning: WARNING: Chain H is discontinuous at line 1917.\n",
      "  PDBConstructionWarning)\n"
     ]
    },
    {
     "name": "stdout",
     "output_type": "stream",
     "text": [
      "4KXZ_1.pdb\n",
      "<Chain id=P>\n",
      "-----------\n",
      "5A3I_1.pdb\n",
      "<Chain id=A>\n",
      "-----------\n",
      "3D85_1.pdb\n",
      "<Chain id=B>\n",
      "-----------\n"
     ]
    },
    {
     "name": "stderr",
     "output_type": "stream",
     "text": [
      "/Users/zhesang/anaconda3/lib/python3.6/site-packages/Bio/PDB/StructureBuilder.py:90: PDBConstructionWarning: WARNING: Chain D is discontinuous at line 3336.\n",
      "  PDBConstructionWarning)\n",
      "/Users/zhesang/anaconda3/lib/python3.6/site-packages/Bio/PDB/StructureBuilder.py:90: PDBConstructionWarning: WARNING: Chain E is discontinuous at line 4504.\n",
      "  PDBConstructionWarning)\n",
      "/Users/zhesang/anaconda3/lib/python3.6/site-packages/Bio/PDB/StructureBuilder.py:90: PDBConstructionWarning: WARNING: Chain H is discontinuous at line 3730.\n",
      "  PDBConstructionWarning)\n",
      "/Users/zhesang/anaconda3/lib/python3.6/site-packages/Bio/PDB/StructureBuilder.py:90: PDBConstructionWarning: WARNING: Chain G is discontinuous at line 3747.\n",
      "  PDBConstructionWarning)\n",
      "/Users/zhesang/anaconda3/lib/python3.6/site-packages/Bio/PDB/StructureBuilder.py:90: PDBConstructionWarning: WARNING: Chain H is discontinuous at line 3761.\n",
      "  PDBConstructionWarning)\n",
      "/Users/zhesang/anaconda3/lib/python3.6/site-packages/Bio/PDB/StructureBuilder.py:90: PDBConstructionWarning: WARNING: Chain G is discontinuous at line 3775.\n",
      "  PDBConstructionWarning)\n",
      "/Users/zhesang/anaconda3/lib/python3.6/site-packages/Bio/PDB/StructureBuilder.py:90: PDBConstructionWarning: WARNING: Chain L is discontinuous at line 1931.\n",
      "  PDBConstructionWarning)\n"
     ]
    },
    {
     "name": "stdout",
     "output_type": "stream",
     "text": [
      "6AXK_1.pdb\n",
      "<Chain id=A>\n",
      "-----------\n"
     ]
    },
    {
     "name": "stderr",
     "output_type": "stream",
     "text": [
      "/Users/zhesang/anaconda3/lib/python3.6/site-packages/Bio/PDB/StructureBuilder.py:90: PDBConstructionWarning: WARNING: Chain L is discontinuous at line 1896.\n",
      "  PDBConstructionWarning)\n"
     ]
    },
    {
     "name": "stdout",
     "output_type": "stream",
     "text": [
      "6D0X_1.pdb\n",
      "<Chain id=B>\n",
      "-----------\n",
      "4PY8_1.pdb\n",
      "<Chain id=I>\n",
      "-----------\n",
      "4PY8_1.pdb\n",
      "<Chain id=J>\n",
      "-----------\n"
     ]
    },
    {
     "name": "stderr",
     "output_type": "stream",
     "text": [
      "/Users/zhesang/anaconda3/lib/python3.6/site-packages/Bio/PDB/StructureBuilder.py:90: PDBConstructionWarning: WARNING: Chain L is discontinuous at line 1856.\n",
      "  PDBConstructionWarning)\n"
     ]
    },
    {
     "name": "stdout",
     "output_type": "stream",
     "text": [
      "5BK0_1.pdb\n",
      "<Chain id=B>\n",
      "-----------\n",
      "\n"
     ]
    }
   ],
   "source": [
    "all_data_hl = []\n",
    "\n",
    "for pdb_filename in tqdm_notebook(human_ig_pdb):\n",
    "    if pdb_filename[-3:]!='pdb':\n",
    "        continue\n",
    "    #pdb_filename = next(pdb_iter)\n",
    "    pdb_code = pdb_filename.split(\".\")[0]\n",
    "    #print(f'process {pdb_code}')\n",
    "    structure = Bio.PDB.PDBParser().get_structure(pdb_code, \"NR_LH_Protein_Martin/\"+pdb_filename)\n",
    "    model = structure[0]\n",
    "    H_chain = model['H']\n",
    "    H_numbering = [\"\".join(np.array(res.id).astype(str)).replace(\" \",\"\") for res in H_chain if is_aa(res)]\n",
    "    contact = np.zeros_like(H_numbering,dtype=bool)\n",
    "    for c in model:\n",
    "        if c.id == 'H' or c.id =='L':\n",
    "            continue\n",
    "        dist_matrix = calc_dist_matrix(c, H_chain)\n",
    "        try:\n",
    "            contact = contact | (dist_matrix.min(0) < 8)\n",
    "        except:\n",
    "            print(pdb_filename)\n",
    "            print(c)\n",
    "            print(\"-----------\")\n",
    "    all_data_hl.append([H_numbering,contact])\n"
   ]
  },
  {
   "cell_type": "code",
   "execution_count": 12,
   "metadata": {},
   "outputs": [
    {
     "name": "stderr",
     "output_type": "stream",
     "text": [
      "/Users/zhesang/anaconda3/lib/python3.6/site-packages/ipykernel_launcher.py:3: TqdmDeprecationWarning: This function will be removed in tqdm==5.0.0\n",
      "Please use `tqdm.notebook.tqdm` instead of `tqdm.tqdm_notebook`\n",
      "  This is separate from the ipykernel package so we can avoid doing imports until\n"
     ]
    },
    {
     "data": {
      "application/vnd.jupyter.widget-view+json": {
       "model_id": "2d01da1493f74837a3b9af13f360771f",
       "version_major": 2,
       "version_minor": 0
      },
      "text/plain": [
       "HBox(children=(FloatProgress(value=0.0, max=621.0), HTML(value='')))"
      ]
     },
     "metadata": {},
     "output_type": "display_data"
    },
    {
     "name": "stderr",
     "output_type": "stream",
     "text": [
      "/Users/zhesang/anaconda3/lib/python3.6/site-packages/Bio/PDB/StructureBuilder.py:90: PDBConstructionWarning: WARNING: Chain L is discontinuous at line 1726.\n",
      "  PDBConstructionWarning)\n",
      "/Users/zhesang/anaconda3/lib/python3.6/site-packages/Bio/PDB/StructureBuilder.py:90: PDBConstructionWarning: WARNING: Chain L is discontinuous at line 1909.\n",
      "  PDBConstructionWarning)\n",
      "/Users/zhesang/anaconda3/lib/python3.6/site-packages/Bio/PDB/StructureBuilder.py:90: PDBConstructionWarning: WARNING: Chain H is discontinuous at line 1844.\n",
      "  PDBConstructionWarning)\n",
      "/Users/zhesang/anaconda3/lib/python3.6/site-packages/Bio/PDB/StructureBuilder.py:90: PDBConstructionWarning: WARNING: Chain G is discontinuous at line 1852.\n",
      "  PDBConstructionWarning)\n",
      "/Users/zhesang/anaconda3/lib/python3.6/site-packages/Bio/PDB/StructureBuilder.py:90: PDBConstructionWarning: WARNING: Chain L is discontinuous at line 1925.\n",
      "  PDBConstructionWarning)\n",
      "/Users/zhesang/anaconda3/lib/python3.6/site-packages/Bio/PDB/StructureBuilder.py:90: PDBConstructionWarning: WARNING: Chain D is discontinuous at line 1968.\n",
      "  PDBConstructionWarning)\n",
      "/Users/zhesang/anaconda3/lib/python3.6/site-packages/Bio/PDB/StructureBuilder.py:90: PDBConstructionWarning: WARNING: Chain J is discontinuous at line 1979.\n",
      "  PDBConstructionWarning)\n",
      "/Users/zhesang/anaconda3/lib/python3.6/site-packages/Bio/PDB/StructureBuilder.py:90: PDBConstructionWarning: WARNING: Chain D is discontinuous at line 1990.\n",
      "  PDBConstructionWarning)\n",
      "/Users/zhesang/anaconda3/lib/python3.6/site-packages/Bio/PDB/StructureBuilder.py:90: PDBConstructionWarning: WARNING: Chain J is discontinuous at line 2012.\n",
      "  PDBConstructionWarning)\n",
      "/Users/zhesang/anaconda3/lib/python3.6/site-packages/Bio/PDB/StructureBuilder.py:90: PDBConstructionWarning: WARNING: Chain D is discontinuous at line 2023.\n",
      "  PDBConstructionWarning)\n",
      "/Users/zhesang/anaconda3/lib/python3.6/site-packages/Bio/PDB/StructureBuilder.py:90: PDBConstructionWarning: WARNING: Chain L is discontinuous at line 1944.\n",
      "  PDBConstructionWarning)\n",
      "/Users/zhesang/anaconda3/lib/python3.6/site-packages/Bio/PDB/StructureBuilder.py:90: PDBConstructionWarning: WARNING: Chain L is discontinuous at line 1792.\n",
      "  PDBConstructionWarning)\n",
      "/Users/zhesang/anaconda3/lib/python3.6/site-packages/Bio/PDB/StructureBuilder.py:90: PDBConstructionWarning: WARNING: Chain G is discontinuous at line 5174.\n",
      "  PDBConstructionWarning)\n",
      "/Users/zhesang/anaconda3/lib/python3.6/site-packages/Bio/PDB/StructureBuilder.py:90: PDBConstructionWarning: WARNING: Chain L is discontinuous at line 3692.\n",
      "  PDBConstructionWarning)\n",
      "/Users/zhesang/anaconda3/lib/python3.6/site-packages/Bio/PDB/StructureBuilder.py:90: PDBConstructionWarning: WARNING: Chain H is discontinuous at line 1790.\n",
      "  PDBConstructionWarning)\n",
      "/Users/zhesang/anaconda3/lib/python3.6/site-packages/Bio/PDB/StructureBuilder.py:90: PDBConstructionWarning: WARNING: Chain E is discontinuous at line 3875.\n",
      "  PDBConstructionWarning)\n",
      "/Users/zhesang/anaconda3/lib/python3.6/site-packages/Bio/PDB/StructureBuilder.py:90: PDBConstructionWarning: WARNING: Chain G is discontinuous at line 3892.\n",
      "  PDBConstructionWarning)\n",
      "/Users/zhesang/anaconda3/lib/python3.6/site-packages/Bio/PDB/StructureBuilder.py:90: PDBConstructionWarning: WARNING: Chain E is discontinuous at line 3911.\n",
      "  PDBConstructionWarning)\n",
      "/Users/zhesang/anaconda3/lib/python3.6/site-packages/Bio/PDB/StructureBuilder.py:90: PDBConstructionWarning: WARNING: Chain G is discontinuous at line 3993.\n",
      "  PDBConstructionWarning)\n",
      "/Users/zhesang/anaconda3/lib/python3.6/site-packages/Bio/PDB/StructureBuilder.py:90: PDBConstructionWarning: WARNING: Chain B is discontinuous at line 5018.\n",
      "  PDBConstructionWarning)\n",
      "/Users/zhesang/anaconda3/lib/python3.6/site-packages/Bio/PDB/StructureBuilder.py:90: PDBConstructionWarning: WARNING: Chain L is discontinuous at line 3710.\n",
      "  PDBConstructionWarning)\n",
      "/Users/zhesang/anaconda3/lib/python3.6/site-packages/Bio/PDB/StructureBuilder.py:90: PDBConstructionWarning: WARNING: Chain L is discontinuous at line 1978.\n",
      "  PDBConstructionWarning)\n",
      "/Users/zhesang/anaconda3/lib/python3.6/site-packages/Bio/PDB/StructureBuilder.py:90: PDBConstructionWarning: WARNING: Chain L is discontinuous at line 2020.\n",
      "  PDBConstructionWarning)\n",
      "/Users/zhesang/anaconda3/lib/python3.6/site-packages/Bio/PDB/StructureBuilder.py:90: PDBConstructionWarning: WARNING: Chain G is discontinuous at line 2031.\n",
      "  PDBConstructionWarning)\n",
      "/Users/zhesang/anaconda3/lib/python3.6/site-packages/Bio/PDB/StructureBuilder.py:90: PDBConstructionWarning: WARNING: Chain L is discontinuous at line 2042.\n",
      "  PDBConstructionWarning)\n",
      "/Users/zhesang/anaconda3/lib/python3.6/site-packages/Bio/PDB/StructureBuilder.py:90: PDBConstructionWarning: WARNING: Chain G is discontinuous at line 2064.\n",
      "  PDBConstructionWarning)\n",
      "/Users/zhesang/anaconda3/lib/python3.6/site-packages/Bio/PDB/StructureBuilder.py:90: PDBConstructionWarning: WARNING: Chain B is discontinuous at line 1994.\n",
      "  PDBConstructionWarning)\n",
      "/Users/zhesang/anaconda3/lib/python3.6/site-packages/Bio/PDB/StructureBuilder.py:90: PDBConstructionWarning: WARNING: Chain L is discontinuous at line 1904.\n",
      "  PDBConstructionWarning)\n",
      "/Users/zhesang/anaconda3/lib/python3.6/site-packages/Bio/PDB/StructureBuilder.py:90: PDBConstructionWarning: WARNING: Chain L is discontinuous at line 1809.\n",
      "  PDBConstructionWarning)\n",
      "/Users/zhesang/anaconda3/lib/python3.6/site-packages/Bio/PDB/StructureBuilder.py:90: PDBConstructionWarning: WARNING: Chain L is discontinuous at line 1905.\n",
      "  PDBConstructionWarning)\n",
      "/Users/zhesang/anaconda3/lib/python3.6/site-packages/Bio/PDB/StructureBuilder.py:90: PDBConstructionWarning: WARNING: Chain H is discontinuous at line 1917.\n",
      "  PDBConstructionWarning)\n",
      "/Users/zhesang/anaconda3/lib/python3.6/site-packages/Bio/PDB/StructureBuilder.py:90: PDBConstructionWarning: WARNING: Chain D is discontinuous at line 3336.\n",
      "  PDBConstructionWarning)\n",
      "/Users/zhesang/anaconda3/lib/python3.6/site-packages/Bio/PDB/StructureBuilder.py:90: PDBConstructionWarning: WARNING: Chain E is discontinuous at line 4504.\n",
      "  PDBConstructionWarning)\n",
      "/Users/zhesang/anaconda3/lib/python3.6/site-packages/Bio/PDB/StructureBuilder.py:90: PDBConstructionWarning: WARNING: Chain H is discontinuous at line 3730.\n",
      "  PDBConstructionWarning)\n",
      "/Users/zhesang/anaconda3/lib/python3.6/site-packages/Bio/PDB/StructureBuilder.py:90: PDBConstructionWarning: WARNING: Chain G is discontinuous at line 3747.\n",
      "  PDBConstructionWarning)\n",
      "/Users/zhesang/anaconda3/lib/python3.6/site-packages/Bio/PDB/StructureBuilder.py:90: PDBConstructionWarning: WARNING: Chain H is discontinuous at line 3761.\n",
      "  PDBConstructionWarning)\n",
      "/Users/zhesang/anaconda3/lib/python3.6/site-packages/Bio/PDB/StructureBuilder.py:90: PDBConstructionWarning: WARNING: Chain G is discontinuous at line 3775.\n",
      "  PDBConstructionWarning)\n",
      "/Users/zhesang/anaconda3/lib/python3.6/site-packages/Bio/PDB/StructureBuilder.py:90: PDBConstructionWarning: WARNING: Chain L is discontinuous at line 1931.\n",
      "  PDBConstructionWarning)\n",
      "/Users/zhesang/anaconda3/lib/python3.6/site-packages/Bio/PDB/StructureBuilder.py:90: PDBConstructionWarning: WARNING: Chain L is discontinuous at line 1896.\n",
      "  PDBConstructionWarning)\n",
      "/Users/zhesang/anaconda3/lib/python3.6/site-packages/Bio/PDB/StructureBuilder.py:90: PDBConstructionWarning: WARNING: Chain L is discontinuous at line 1856.\n",
      "  PDBConstructionWarning)\n"
     ]
    },
    {
     "name": "stdout",
     "output_type": "stream",
     "text": [
      "\n"
     ]
    }
   ],
   "source": [
    "all_data_hl_2 = []\n",
    "\n",
    "for pdb_filename in tqdm_notebook(human_ig_pdb):\n",
    "    if pdb_filename[-3:]!='pdb':\n",
    "        continue\n",
    "    #pdb_filename = next(pdb_iter)\n",
    "    pdb_code = pdb_filename.split(\".\")[0]\n",
    "    #print(f'process {pdb_code}')\n",
    "    structure = Bio.PDB.PDBParser().get_structure(pdb_code, \"NR_LH_Protein_Martin/\"+pdb_filename)\n",
    "    model = structure[0]\n",
    "    H_chain = model['H']\n",
    "    H_numbering = [\"\".join(np.array(res.id).astype(str)).replace(\" \",\"\") for res in H_chain if is_aa(res)]\n",
    "    contact = np.zeros_like(H_numbering,dtype=bool)\n",
    "    for c in model:\n",
    "        if c.id != 'L':\n",
    "            continue\n",
    "        dist_matrix = calc_dist_matrix(c, H_chain)\n",
    "        try:\n",
    "            contact = contact | (dist_matrix.min(0) < 8)\n",
    "        except:\n",
    "            print(pdb_filename)\n",
    "            print(c)\n",
    "            print(\"-----------\")\n",
    "    all_data_hl_2.append([H_numbering,contact])\n"
   ]
  },
  {
   "cell_type": "code",
   "execution_count": 13,
   "metadata": {},
   "outputs": [],
   "source": [
    "def normalize_hit(data):\n",
    "    count_position = []\n",
    "    count_hit=[]\n",
    "    for i in data:\n",
    "        x,y = i\n",
    "        count_position += x\n",
    "        x = np.array(x)\n",
    "        contacted_aa = x[np.argwhere(y==True).flatten()]\n",
    "        count_hit += list(contacted_aa)\n",
    "\n",
    "    aaa = dict(Counter(count_hit))\n",
    "    bbb = dict(Counter(count_position))\n",
    "\n",
    "    ccc = aaa.copy()\n",
    "    for i in bbb.keys():\n",
    "        if not str(i) in ccc.keys():\n",
    "            ccc[str(i)] =0\n",
    "        else:\n",
    "            #ccc[str(i)] = ccc[str(i)]/bbb[str(i)]\n",
    "            ccc[str(i)] = ccc[str(i)]/len(data)\n",
    "    sorted_result = sorted([[pos,hits] for pos,hits in ccc.items()],key=lambda x: natural_keys(x[0]))\n",
    "    return sorted_result"
   ]
  },
  {
   "cell_type": "code",
   "execution_count": 14,
   "metadata": {},
   "outputs": [],
   "source": [
    "nb_result = normalize_hit(all_data)\n",
    "hum_result = normalize_hit(all_data_hl)\n",
    "hum_HL_result = normalize_hit(all_data_hl_2)"
   ]
  },
  {
   "cell_type": "code",
   "execution_count": 15,
   "metadata": {},
   "outputs": [],
   "source": [
    "pos_nb = [i[0] for i in nb_result]\n",
    "hit_nb = [i[1] for i in nb_result]\n",
    "pos_hum = [i[0] for i in hum_result]\n",
    "hit_hum = [i[1] for i in hum_result]\n",
    "pos_HL__hum = [i[0] for i in hum_HL_result]\n",
    "hit_HL_hum = [i[1] for i in hum_HL_result]"
   ]
  },
  {
   "cell_type": "code",
   "execution_count": 16,
   "metadata": {},
   "outputs": [],
   "source": [
    "shared_keys = set(pos_nb)&set(pos_hum)"
   ]
  },
  {
   "cell_type": "code",
   "execution_count": 17,
   "metadata": {},
   "outputs": [],
   "source": [
    "pos_nb_shared=[]\n",
    "hit_nb_shared=[]\n",
    "pos_hum_shared=[]\n",
    "hit_hum_shared=[]\n",
    "pos_HL_hum_shared=[]\n",
    "hit_HL_hum_shared=[]\n",
    "\n",
    "for _pos,_hit in zip(pos_nb,hit_nb):\n",
    "    if _pos in shared_keys:\n",
    "        pos_nb_shared.append(_pos)\n",
    "        hit_nb_shared.append(_hit)\n",
    "for _pos,_hit in zip(pos_hum,hit_hum):\n",
    "    if _pos in shared_keys:\n",
    "        pos_hum_shared.append(_pos)\n",
    "        hit_hum_shared.append(_hit)\n",
    "for _pos,_hit in zip(pos_HL__hum,hit_HL_hum):\n",
    "    if _pos in shared_keys:\n",
    "        pos_HL_hum_shared.append(_pos)\n",
    "        hit_HL_hum_shared.append(_hit)"
   ]
  },
  {
   "cell_type": "code",
   "execution_count": 28,
   "metadata": {},
   "outputs": [
    {
     "data": {
      "image/png": "[encoded data removed]",
      "text/plain": [
       "<Figure size 3240x360 with 2 Axes>"
      ]
     },
     "metadata": {
      "needs_background": "light"
     },
     "output_type": "display_data"
    }
   ],
   "source": [
    "plt.figure(figsize=(45,5))\n",
    "sns.heatmap(np.array(hit_nb_shared).reshape(1,-1),xticklabels=pos_nb_shared,cmap='Blues',vmin=0,vmax=1)\n",
    "plt.savefig(\"Nb_contacts.svg\",format='svg')"
   ]
  },
  {
   "cell_type": "code",
   "execution_count": 29,
   "metadata": {},
   "outputs": [
    {
     "data": {
      "image/png": "[encoded data removed]",
      "text/plain": [
       "<Figure size 3240x360 with 2 Axes>"
      ]
     },
     "metadata": {
      "needs_background": "light"
     },
     "output_type": "display_data"
    }
   ],
   "source": [
    "plt.figure(figsize=(45,5))\n",
    "sns.heatmap(np.array(hit_hum_shared).reshape(1,-1),xticklabels=pos_hum_shared,cmap='Oranges',vmin=0,vmax=1)\n",
    "plt.savefig(\"hum_contacts.svg\",format='svg')"
   ]
  },
  {
   "cell_type": "code",
   "execution_count": 23,
   "metadata": {},
   "outputs": [
    {
     "data": {
      "image/png": "[encoded data removed]",
      "text/plain": [
       "<Figure size 3240x360 with 2 Axes>"
      ]
     },
     "metadata": {
      "needs_background": "light"
     },
     "output_type": "display_data"
    }
   ],
   "source": [
    "plt.figure(figsize=(45,5))\n",
    "sns.heatmap(np.array(hit_HL_hum_shared).reshape(1,-1),xticklabels=pos_HL_hum_shared,cmap='Greens',vmin=0.8,vmax=1)\n",
    "plt.savefig(\"hum_HL_contacts.svg\",format='svg')"
   ]
  }
 ],
 "metadata": {
  "kernelspec": {
   "display_name": "Python 3",
   "language": "python",
   "name": "python3"
  }
 },
 "nbformat": 4,
 "nbformat_minor": 4
}
